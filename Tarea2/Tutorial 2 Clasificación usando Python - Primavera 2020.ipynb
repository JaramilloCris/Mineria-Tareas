{
 "cells": [
  {
   "cell_type": "markdown",
   "metadata": {
    "id": "GRjDgHBpRYyx"
   },
   "source": [
    "# Tutorial 2: Introducción a Pandas y Clasificación usando Python\n",
    "\n",
    "**Autores:** Felipe Bravo, Hernán Sarmiento, Aymé Arango, Alison Fernandez, Cinthia Mabel Sánchez, Juan Pablo Silva\n",
    "\n",
    "**Fecha:** \"Octubre 2020\"\n",
    "\n",
    "**Objetivo:** El objetivo de este tutorial es relacionarse con el paquete Pandas y las bibliotecas necesarias para entrenar clasificadores."
   ]
  },
  {
   "cell_type": "markdown",
   "metadata": {
    "heading_collapsed": true,
    "id": "L40UwWCYXsRo"
   },
   "source": [
    "# Herramientas"
   ]
  },
  {
   "cell_type": "markdown",
   "metadata": {
    "heading_collapsed": true,
    "hidden": true,
    "id": "d6olGEDYXsRo"
   },
   "source": [
    "### Anaconda\n",
    "La forma más fácil de tener un ambiente de Python **local** con todas las bibliotecas más comunes es instalar *Anaconda*. Para esto:\n",
    "\n",
    "- Descarga en el siguiente link la última versión de Python: https://www.python.org/downloads/\n",
    "- Descarga en el siguiente link la última versión de Anaconda para Python 3.7: https://www.anaconda.com/distribution/\n",
    "- Asegúrate de dejar en el PATH el directorio `bin` de anaconda. Puedes probar tu instalación ejecutando `python` en un terminal y verificar que diga algo como `Python 3.7.3 |Anaconda 4.4.0` al principio.\n",
    "\n",
    "**Instalación de Bibliotecas:**\n",
    "Anaconda facilita mucho la instalación de las bibliotecas que usaremos en este laboratorio. Instalar las bibliotecas (`scikit-learn`, `jupyter`) desde cero puede ser un poco complicado. Por lo tanto, instalar Anaconda es altamente recomendado para estas sesiones de laboratorio.\n",
    "\n",
    "1. Abrir aplicación Anaconda prompt.\n",
    "2. Ejecutar comando: conda install *biblioteca*\n",
    "\n",
    "Para este tutorial instalar las bibliotecas: *numpy*, *scikit-learn*, *pandas*, *matplotlib*, *seaborn*"
   ]
  },
  {
   "cell_type": "markdown",
   "metadata": {
    "hidden": true,
    "id": "EH0lq7OtVQcv"
   },
   "source": [
    "### Celda de verificación\n",
    "\n",
    "Ejecute esta celda para verificar que las bibliotecas fueron instaladas correctamente."
   ]
  },
  {
   "cell_type": "code",
   "execution_count": 1,
   "metadata": {
    "ExecuteTime": {
     "end_time": "2020-09-27T20:39:54.274835Z",
     "start_time": "2020-09-27T20:39:54.138860Z"
    },
    "colab": {
     "base_uri": "https://localhost:8080/",
     "height": 90
    },
    "executionInfo": {
     "elapsed": 1614,
     "status": "ok",
     "timestamp": 1601242642826,
     "user": {
      "displayName": "Aymé Arango",
      "photoUrl": "",
      "userId": "07842034733641806658"
     },
     "user_tz": 180
    },
    "hidden": true,
    "id": "IWMguWhnXsT3",
    "outputId": "63cd5297-248c-404d-b29a-238ca12d84f1"
   },
   "outputs": [
    {
     "name": "stdout",
     "output_type": "stream",
     "text": [
      "Si muestra este mensaje es porque la carga de las librerías anteriores está ok!\n"
     ]
    }
   ],
   "source": [
    "import pandas as pd\n",
    "import matplotlib.pyplot as plt\n",
    "import seaborn as sns; sns.set(style=\"ticks\", color_codes=True)\n",
    "from sklearn.model_selection import cross_val_score\n",
    "from sklearn import metrics, model_selection\n",
    "\n",
    "from sklearn.datasets import load_breast_cancer\n",
    "from sklearn.dummy import DummyClassifier\n",
    "from sklearn.svm import SVC  # Support Vector Machine classifier\n",
    "from sklearn.tree import DecisionTreeClassifier\n",
    "from sklearn.naive_bayes import GaussianNB  # Naive bayes\n",
    "from sklearn.neighbors import KNeighborsClassifier\n",
    "\n",
    "\n",
    "print(\"Si muestra este mensaje es porque la carga de las librerías anteriores está ok!\")"
   ]
  },
  {
   "cell_type": "markdown",
   "metadata": {
    "hidden": true,
    "id": "Xg2nd6GYXsRo"
   },
   "source": [
    "### Jupyter\n",
    "\n",
    "**Jupyter notebook** viene con anaconda, es una aplicación Web que permite crear documentos con código Python, similar a los R Notebooks o R Markdown. Para este tutorial y la tarea 2 usaremos un **notebook** donde deberán completar sus respuestas en el mismo archivo.\n",
    "\n",
    "Para cargar y editar un archivo.ipynb deben abrir la terminal del computador y ejecutar `jupyter notebook`. Esto abrirá el navegador donde pueden buscar el archivo .ipynb dentro del directorio. TIP: con Shift-Enter pueden ejecutar cada bloque del notebook.\n",
    "\n",
    "\n",
    "El archivo en formato **HTML** se puede descargar ejecutando el siguiente comando desde la consola de anaconda: \n",
    "\n",
    "`jupyter nbconvert nombre_archivo.ipynb --to html`\n",
    "\n",
    "Otra opción más sencilla es descargarlo desde el mismo notebook, haciendo clic en:\n",
    "*File -> Download as-> HTML (.html)*"
   ]
  },
  {
   "cell_type": "markdown",
   "metadata": {
    "hidden": true,
    "id": "2kPqGmpAXsRp"
   },
   "source": [
    "### Scikit-learn"
   ]
  },
  {
   "cell_type": "markdown",
   "metadata": {
    "hidden": true,
    "id": "EKA76ef1XsRp"
   },
   "source": [
    "Hay muchas bibliotecas para hacer análisis de datos. Para este tutorial vamos a usar **scikit-learn** (http://scikit-learn.org) que contiene muchos modelos de machine learning ya instalados. \n",
    "\n",
    "**OJO**: Si ya instalaste *Anaconda*, no necesitas instalar nada dado que viene en el pack."
   ]
  },
  {
   "cell_type": "markdown",
   "metadata": {
    "heading_collapsed": true,
    "hidden": true,
    "id": "bNCbKwvTXsRq"
   },
   "source": [
    "## Google Colab\n",
    "\n",
    "Aunque usaremos un notebook local (porque es importante que se familiaricen con anaconda), deben conocer <a href=\"https://colab.research.google.com/notebooks/welcome.ipynb?hl=es_US\">Colaboratory</a>, también llamado \"Colab\", que esencialmente es un jupyter notebook con las siguientes ventajas:\n",
    "- No requiere configuración\n",
    "- Da acceso gratuito a GPUs\n",
    "- Permite compartir contenido fácilmente"
   ]
  },
  {
   "cell_type": "markdown",
   "metadata": {
    "heading_collapsed": true,
    "id": "JBk4GuirrQKh"
   },
   "source": [
    "# Introducción a Pandas\n"
   ]
  },
  {
   "cell_type": "markdown",
   "metadata": {
    "hidden": true,
    "id": "SmW8Z8xyXsRr"
   },
   "source": [
    "Pandas es una herramienta de manipulación y análisis de datos de código abierto rápida, potente, flexible y fácil de usar [<https://pandas.pydata.org/>]. Este paquete de Python proporciona estructuras de datos similares a los dataframes de R (tablas con filas de observaciones y columnas de variables).\n",
    "\n",
    "Pandas proporciona mecanismos eficientes para trabajar con diferentes formatos de datos como archivos CSV (del inglés comma-separated values), archivos de Excel o bases de datos. \n",
    "\n",
    "Las dos estructuras de datos principales de Pandas son: **Series** (Matriz unidimensional etiquetada de forma homogénea) y **DataFrame** (Estructura de datos bidimensional con columnas que pueden contener diferentes tipos de datos). Podríamos pensar en las estructuras de datos de Pandas como contenedores flexibles para datos de dimensiones inferiores. Por ejemplo, DataFrame es un contenedor para Series y Series es un contenedor para escalares [<https://pandas.pydata.org/pandas-docs/stable/getting_started/overview.html>]."
   ]
  },
  {
   "cell_type": "markdown",
   "metadata": {
    "hidden": true,
    "id": "12BGR78ZWosL"
   },
   "source": [
    "![alt text](https://storage.googleapis.com/lds-media/images/series-and-dataframe.width-1200.png)\n",
    "Source:https://www.learndatasci.com/tutorials/python-pandas-tutorial-complete-introduction-for-beginners/"
   ]
  },
  {
   "cell_type": "markdown",
   "metadata": {
    "heading_collapsed": true,
    "hidden": true,
    "id": "pPH68_fNNG3e"
   },
   "source": [
    "## Crear dataframes y cargar datos"
   ]
  },
  {
   "cell_type": "code",
   "execution_count": 2,
   "metadata": {
    "ExecuteTime": {
     "end_time": "2020-09-27T20:39:27.905817Z",
     "start_time": "2020-09-27T20:39:27.273848Z"
    },
    "hidden": true,
    "id": "HhmHtjxfr6E8"
   },
   "outputs": [],
   "source": [
    "#standard import form used\n",
    "import pandas as pd \n",
    "import numpy as np"
   ]
  },
  {
   "cell_type": "markdown",
   "metadata": {
    "hidden": true,
    "id": "NZ-T-8iqsKlZ"
   },
   "source": [
    "Cuando desee utilizar Pandas para el análisis de datos, normalmente lo utilizará de tres formas diferentes:\n",
    "\n",
    "* Convertir una lista, diccionario o matriz Numpy en un dataframe de Pandas.\n",
    "* Abrir un archivo local usando Pandas, generalmente un archivo CSV, pero también podría ser un archivo de texto delimitado (como TSV), Excel, etc.\n",
    "* Abrir un archivo o base de datos remota como un CSV o JSON en un sitio web a través de una URL o desde una tabla / base de datos SQL."
   ]
  },
  {
   "cell_type": "code",
   "execution_count": 3,
   "metadata": {
    "ExecuteTime": {
     "end_time": "2020-09-27T20:39:27.929817Z",
     "start_time": "2020-09-27T20:39:27.905817Z"
    },
    "hidden": true,
    "id": "2CIWh8wxXsRu",
    "outputId": "146183ce-7ebb-42fd-ca91-7bcdab17db9e"
   },
   "outputs": [
    {
     "data": {
      "text/html": [
       "<div>\n",
       "<style scoped>\n",
       "    .dataframe tbody tr th:only-of-type {\n",
       "        vertical-align: middle;\n",
       "    }\n",
       "\n",
       "    .dataframe tbody tr th {\n",
       "        vertical-align: top;\n",
       "    }\n",
       "\n",
       "    .dataframe thead th {\n",
       "        text-align: right;\n",
       "    }\n",
       "</style>\n",
       "<table border=\"1\" class=\"dataframe\">\n",
       "  <thead>\n",
       "    <tr style=\"text-align: right;\">\n",
       "      <th></th>\n",
       "    </tr>\n",
       "  </thead>\n",
       "  <tbody>\n",
       "  </tbody>\n",
       "</table>\n",
       "</div>"
      ],
      "text/plain": [
       "Empty DataFrame\n",
       "Columns: []\n",
       "Index: []"
      ]
     },
     "execution_count": 3,
     "metadata": {},
     "output_type": "execute_result"
    }
   ],
   "source": [
    "#In order to convert a certain Python object (dictionary, lists etc) the basic command is:\n",
    "pd.DataFrame()"
   ]
  },
  {
   "cell_type": "code",
   "execution_count": 4,
   "metadata": {
    "ExecuteTime": {
     "end_time": "2020-09-27T20:39:27.961818Z",
     "start_time": "2020-09-27T20:39:27.929817Z"
    },
    "hidden": true,
    "id": "1tykL3uAvBcr",
    "outputId": "eafd0f51-4b09-479e-b8a9-fa3bc134261e"
   },
   "outputs": [
    {
     "data": {
      "text/html": [
       "<div>\n",
       "<style scoped>\n",
       "    .dataframe tbody tr th:only-of-type {\n",
       "        vertical-align: middle;\n",
       "    }\n",
       "\n",
       "    .dataframe tbody tr th {\n",
       "        vertical-align: top;\n",
       "    }\n",
       "\n",
       "    .dataframe thead th {\n",
       "        text-align: right;\n",
       "    }\n",
       "</style>\n",
       "<table border=\"1\" class=\"dataframe\">\n",
       "  <thead>\n",
       "    <tr style=\"text-align: right;\">\n",
       "      <th></th>\n",
       "      <th>col1</th>\n",
       "      <th>col2</th>\n",
       "      <th>col3</th>\n",
       "    </tr>\n",
       "  </thead>\n",
       "  <tbody>\n",
       "    <tr>\n",
       "      <th>0</th>\n",
       "      <td>Item0</td>\n",
       "      <td>Gold</td>\n",
       "      <td>1.0</td>\n",
       "    </tr>\n",
       "    <tr>\n",
       "      <th>1</th>\n",
       "      <td>Item0</td>\n",
       "      <td>Bronze</td>\n",
       "      <td>2.0</td>\n",
       "    </tr>\n",
       "    <tr>\n",
       "      <th>2</th>\n",
       "      <td>Item1</td>\n",
       "      <td>Gold</td>\n",
       "      <td>NaN</td>\n",
       "    </tr>\n",
       "    <tr>\n",
       "      <th>3</th>\n",
       "      <td>Item1</td>\n",
       "      <td>Silver</td>\n",
       "      <td>4.0</td>\n",
       "    </tr>\n",
       "  </tbody>\n",
       "</table>\n",
       "</div>"
      ],
      "text/plain": [
       "    col1    col2  col3\n",
       "0  Item0    Gold   1.0\n",
       "1  Item0  Bronze   2.0\n",
       "2  Item1    Gold   NaN\n",
       "3  Item1  Silver   4.0"
      ]
     },
     "execution_count": 4,
     "metadata": {},
     "output_type": "execute_result"
    }
   ],
   "source": [
    "#From dict\n",
    "df = pd.DataFrame({\n",
    "    'col1': ['Item0', 'Item0', 'Item1', 'Item1'],\n",
    "    'col2': ['Gold', 'Bronze', 'Gold', 'Silver'],\n",
    "    'col3': [1, 2, np.nan, 4]\n",
    "})\n",
    "\n",
    "df"
   ]
  },
  {
   "cell_type": "code",
   "execution_count": 5,
   "metadata": {
    "ExecuteTime": {
     "end_time": "2020-09-27T20:39:27.985817Z",
     "start_time": "2020-09-27T20:39:27.961818Z"
    },
    "hidden": true,
    "id": "BpVLfou_XsRz",
    "outputId": "45c3ae78-b5fe-4aeb-fe26-c0f28548cbae"
   },
   "outputs": [
    {
     "data": {
      "text/html": [
       "<div>\n",
       "<style scoped>\n",
       "    .dataframe tbody tr th:only-of-type {\n",
       "        vertical-align: middle;\n",
       "    }\n",
       "\n",
       "    .dataframe tbody tr th {\n",
       "        vertical-align: top;\n",
       "    }\n",
       "\n",
       "    .dataframe thead th {\n",
       "        text-align: right;\n",
       "    }\n",
       "</style>\n",
       "<table border=\"1\" class=\"dataframe\">\n",
       "  <thead>\n",
       "    <tr style=\"text-align: right;\">\n",
       "      <th></th>\n",
       "      <th>col1</th>\n",
       "      <th>col2</th>\n",
       "      <th>col3</th>\n",
       "    </tr>\n",
       "  </thead>\n",
       "  <tbody>\n",
       "    <tr>\n",
       "      <th>0</th>\n",
       "      <td>Item0</td>\n",
       "      <td>Gold</td>\n",
       "      <td>1.0</td>\n",
       "    </tr>\n",
       "    <tr>\n",
       "      <th>1</th>\n",
       "      <td>Item0</td>\n",
       "      <td>Bronze</td>\n",
       "      <td>2.0</td>\n",
       "    </tr>\n",
       "    <tr>\n",
       "      <th>2</th>\n",
       "      <td>Item1</td>\n",
       "      <td>Gold</td>\n",
       "      <td>NaN</td>\n",
       "    </tr>\n",
       "    <tr>\n",
       "      <th>3</th>\n",
       "      <td>Item1</td>\n",
       "      <td>Silver</td>\n",
       "      <td>4.0</td>\n",
       "    </tr>\n",
       "  </tbody>\n",
       "</table>\n",
       "</div>"
      ],
      "text/plain": [
       "    col1    col2  col3\n",
       "0  Item0    Gold   1.0\n",
       "1  Item0  Bronze   2.0\n",
       "2  Item1    Gold   NaN\n",
       "3  Item1  Silver   4.0"
      ]
     },
     "execution_count": 5,
     "metadata": {},
     "output_type": "execute_result"
    }
   ],
   "source": [
    "#From list\n",
    "l = [['Item0', 'Gold', 1],\n",
    "     ['Item0', 'Bronze', 2],\n",
    "     [\"Item1\", \"Gold\", np.nan],\n",
    "     [\"Item1\", \"Silver\", 4]\n",
    "     ]\n",
    "\n",
    "df2 = pd.DataFrame(l, columns=['col1', 'col2', 'col3'])\n",
    "df2"
   ]
  },
  {
   "cell_type": "code",
   "execution_count": 6,
   "metadata": {
    "ExecuteTime": {
     "end_time": "2020-09-27T20:39:28.109923Z",
     "start_time": "2020-09-27T20:39:27.985817Z"
    },
    "hidden": true,
    "id": "T9Hip3gHd4ia"
   },
   "outputs": [],
   "source": [
    "#Reading data as dataframe from .csv\n",
    "#By default the delimiter or separator is comma. When data has another delimiter, you must define it (for example: sep='\\t')\n",
    "\n",
    "iris_df = pd.read_csv(\"https://gist.githubusercontent.com/netj/8836201/raw/6f9306ad21398ea43cba4f7d537619d0e07d5ae3/iris.csv\")"
   ]
  },
  {
   "cell_type": "markdown",
   "metadata": {
    "hidden": true,
    "id": "HMNs30UvXsR3"
   },
   "source": [
    "Ejecutando `help(pd.read_csv)` pueden ver la documentación del objeto."
   ]
  },
  {
   "cell_type": "markdown",
   "metadata": {
    "heading_collapsed": true,
    "hidden": true,
    "id": "dsGSmVcjNVcA"
   },
   "source": [
    "## Explorar datos"
   ]
  },
  {
   "cell_type": "markdown",
   "metadata": {
    "hidden": true,
    "id": "9nQ-84a1sL1U"
   },
   "source": [
    "Una vez cargados los datos, es momento de revisar nuestro dataframe. \n",
    "Ejecutar el nombre del dataframe le proporciona la tabla completa, pero también puede obtener información específica usando comandos como los siguientes."
   ]
  },
  {
   "cell_type": "code",
   "execution_count": 7,
   "metadata": {
    "ExecuteTime": {
     "end_time": "2020-09-27T20:39:28.133912Z",
     "start_time": "2020-09-27T20:39:28.109923Z"
    },
    "colab": {
     "base_uri": "https://localhost:8080/",
     "height": 287
    },
    "executionInfo": {
     "elapsed": 2675,
     "status": "ok",
     "timestamp": 1570733020111,
     "user": {
      "displayName": "juglar dz",
      "photoUrl": "https://lh3.googleusercontent.com/a-/AAuE7mA1DqHpo0uIqr28CIWTIn2X_ju4mgBCSYFxbVQatA=s64",
      "userId": "14270876077972191340"
     },
     "user_tz": 180
    },
    "hidden": true,
    "id": "N1aWwNaUvwzx",
    "outputId": "a0128ced-ccec-4e84-e067-d919641ee433"
   },
   "outputs": [
    {
     "data": {
      "text/html": [
       "<div>\n",
       "<style scoped>\n",
       "    .dataframe tbody tr th:only-of-type {\n",
       "        vertical-align: middle;\n",
       "    }\n",
       "\n",
       "    .dataframe tbody tr th {\n",
       "        vertical-align: top;\n",
       "    }\n",
       "\n",
       "    .dataframe thead th {\n",
       "        text-align: right;\n",
       "    }\n",
       "</style>\n",
       "<table border=\"1\" class=\"dataframe\">\n",
       "  <thead>\n",
       "    <tr style=\"text-align: right;\">\n",
       "      <th></th>\n",
       "      <th>sepal.length</th>\n",
       "      <th>sepal.width</th>\n",
       "      <th>petal.length</th>\n",
       "      <th>petal.width</th>\n",
       "      <th>variety</th>\n",
       "    </tr>\n",
       "  </thead>\n",
       "  <tbody>\n",
       "    <tr>\n",
       "      <th>0</th>\n",
       "      <td>5.1</td>\n",
       "      <td>3.5</td>\n",
       "      <td>1.4</td>\n",
       "      <td>0.2</td>\n",
       "      <td>Setosa</td>\n",
       "    </tr>\n",
       "    <tr>\n",
       "      <th>1</th>\n",
       "      <td>4.9</td>\n",
       "      <td>3.0</td>\n",
       "      <td>1.4</td>\n",
       "      <td>0.2</td>\n",
       "      <td>Setosa</td>\n",
       "    </tr>\n",
       "    <tr>\n",
       "      <th>2</th>\n",
       "      <td>4.7</td>\n",
       "      <td>3.2</td>\n",
       "      <td>1.3</td>\n",
       "      <td>0.2</td>\n",
       "      <td>Setosa</td>\n",
       "    </tr>\n",
       "    <tr>\n",
       "      <th>3</th>\n",
       "      <td>4.6</td>\n",
       "      <td>3.1</td>\n",
       "      <td>1.5</td>\n",
       "      <td>0.2</td>\n",
       "      <td>Setosa</td>\n",
       "    </tr>\n",
       "    <tr>\n",
       "      <th>4</th>\n",
       "      <td>5.0</td>\n",
       "      <td>3.6</td>\n",
       "      <td>1.4</td>\n",
       "      <td>0.2</td>\n",
       "      <td>Setosa</td>\n",
       "    </tr>\n",
       "  </tbody>\n",
       "</table>\n",
       "</div>"
      ],
      "text/plain": [
       "   sepal.length  sepal.width  petal.length  petal.width variety\n",
       "0           5.1          3.5           1.4          0.2  Setosa\n",
       "1           4.9          3.0           1.4          0.2  Setosa\n",
       "2           4.7          3.2           1.3          0.2  Setosa\n",
       "3           4.6          3.1           1.5          0.2  Setosa\n",
       "4           5.0          3.6           1.4          0.2  Setosa"
      ]
     },
     "execution_count": 7,
     "metadata": {},
     "output_type": "execute_result"
    }
   ],
   "source": [
    "# Displays the first 5 rows. You can define the first 'n' rows to show, for example: df.head(n)\n",
    "iris_df.head()"
   ]
  },
  {
   "cell_type": "code",
   "execution_count": 8,
   "metadata": {
    "ExecuteTime": {
     "end_time": "2020-09-27T20:39:28.157912Z",
     "start_time": "2020-09-27T20:39:28.133912Z"
    },
    "hidden": true,
    "id": "eU9RT3hTXsR6",
    "outputId": "6b0f4a17-ae13-4f46-cfe1-5f6fc2e6d12f"
   },
   "outputs": [
    {
     "data": {
      "text/html": [
       "<div>\n",
       "<style scoped>\n",
       "    .dataframe tbody tr th:only-of-type {\n",
       "        vertical-align: middle;\n",
       "    }\n",
       "\n",
       "    .dataframe tbody tr th {\n",
       "        vertical-align: top;\n",
       "    }\n",
       "\n",
       "    .dataframe thead th {\n",
       "        text-align: right;\n",
       "    }\n",
       "</style>\n",
       "<table border=\"1\" class=\"dataframe\">\n",
       "  <thead>\n",
       "    <tr style=\"text-align: right;\">\n",
       "      <th></th>\n",
       "      <th>sepal.length</th>\n",
       "      <th>sepal.width</th>\n",
       "      <th>petal.length</th>\n",
       "      <th>petal.width</th>\n",
       "      <th>variety</th>\n",
       "    </tr>\n",
       "  </thead>\n",
       "  <tbody>\n",
       "    <tr>\n",
       "      <th>145</th>\n",
       "      <td>6.7</td>\n",
       "      <td>3.0</td>\n",
       "      <td>5.2</td>\n",
       "      <td>2.3</td>\n",
       "      <td>Virginica</td>\n",
       "    </tr>\n",
       "    <tr>\n",
       "      <th>146</th>\n",
       "      <td>6.3</td>\n",
       "      <td>2.5</td>\n",
       "      <td>5.0</td>\n",
       "      <td>1.9</td>\n",
       "      <td>Virginica</td>\n",
       "    </tr>\n",
       "    <tr>\n",
       "      <th>147</th>\n",
       "      <td>6.5</td>\n",
       "      <td>3.0</td>\n",
       "      <td>5.2</td>\n",
       "      <td>2.0</td>\n",
       "      <td>Virginica</td>\n",
       "    </tr>\n",
       "    <tr>\n",
       "      <th>148</th>\n",
       "      <td>6.2</td>\n",
       "      <td>3.4</td>\n",
       "      <td>5.4</td>\n",
       "      <td>2.3</td>\n",
       "      <td>Virginica</td>\n",
       "    </tr>\n",
       "    <tr>\n",
       "      <th>149</th>\n",
       "      <td>5.9</td>\n",
       "      <td>3.0</td>\n",
       "      <td>5.1</td>\n",
       "      <td>1.8</td>\n",
       "      <td>Virginica</td>\n",
       "    </tr>\n",
       "  </tbody>\n",
       "</table>\n",
       "</div>"
      ],
      "text/plain": [
       "     sepal.length  sepal.width  petal.length  petal.width    variety\n",
       "145           6.7          3.0           5.2          2.3  Virginica\n",
       "146           6.3          2.5           5.0          1.9  Virginica\n",
       "147           6.5          3.0           5.2          2.0  Virginica\n",
       "148           6.2          3.4           5.4          2.3  Virginica\n",
       "149           5.9          3.0           5.1          1.8  Virginica"
      ]
     },
     "execution_count": 8,
     "metadata": {},
     "output_type": "execute_result"
    }
   ],
   "source": [
    "# Similar to head, but displays the last rows\n",
    "iris_df.tail()"
   ]
  },
  {
   "cell_type": "code",
   "execution_count": 9,
   "metadata": {
    "ExecuteTime": {
     "end_time": "2020-09-27T20:39:28.165913Z",
     "start_time": "2020-09-27T20:39:28.157912Z"
    },
    "hidden": true,
    "id": "waVA0bc5XsR7",
    "outputId": "aa1d78a3-262e-4ef8-b8d1-4db82915b14a"
   },
   "outputs": [
    {
     "data": {
      "text/plain": [
       "(150, 5)"
      ]
     },
     "execution_count": 9,
     "metadata": {},
     "output_type": "execute_result"
    }
   ],
   "source": [
    "# The dimensions of the dataframe as a (rows, cols) tuple\n",
    "iris_df.shape"
   ]
  },
  {
   "cell_type": "code",
   "execution_count": 10,
   "metadata": {
    "ExecuteTime": {
     "end_time": "2020-09-27T20:39:28.173913Z",
     "start_time": "2020-09-27T20:39:28.165913Z"
    },
    "hidden": true,
    "id": "L45spGJXXsR9",
    "outputId": "c5cf302b-3109-4df6-a5d6-96e442308709"
   },
   "outputs": [
    {
     "data": {
      "text/plain": [
       "150"
      ]
     },
     "execution_count": 10,
     "metadata": {},
     "output_type": "execute_result"
    }
   ],
   "source": [
    "# The number of rows. Equal to df.shape[0]\n",
    "len(iris_df) "
   ]
  },
  {
   "cell_type": "code",
   "execution_count": 11,
   "metadata": {
    "ExecuteTime": {
     "end_time": "2020-09-27T20:39:28.197912Z",
     "start_time": "2020-09-27T20:39:28.173913Z"
    },
    "hidden": true,
    "id": "nd8RQsiDXsR_",
    "outputId": "ba77608a-140e-4fa3-c556-d132d13243ec"
   },
   "outputs": [
    {
     "data": {
      "text/plain": [
       "Index(['sepal.length', 'sepal.width', 'petal.length', 'petal.width',\n",
       "       'variety'],\n",
       "      dtype='object')"
      ]
     },
     "execution_count": 11,
     "metadata": {},
     "output_type": "execute_result"
    }
   ],
   "source": [
    "# An object with the column names\n",
    "iris_df.columns "
   ]
  },
  {
   "cell_type": "code",
   "execution_count": 12,
   "metadata": {
    "ExecuteTime": {
     "end_time": "2020-09-27T20:39:28.221913Z",
     "start_time": "2020-09-27T20:39:28.197912Z"
    },
    "hidden": true,
    "id": "YQmhDlZfXsSB",
    "outputId": "f0c81ac4-1103-493c-c8d0-d6a8f07b45bf"
   },
   "outputs": [
    {
     "data": {
      "text/html": [
       "<div>\n",
       "<style scoped>\n",
       "    .dataframe tbody tr th:only-of-type {\n",
       "        vertical-align: middle;\n",
       "    }\n",
       "\n",
       "    .dataframe tbody tr th {\n",
       "        vertical-align: top;\n",
       "    }\n",
       "\n",
       "    .dataframe thead th {\n",
       "        text-align: right;\n",
       "    }\n",
       "</style>\n",
       "<table border=\"1\" class=\"dataframe\">\n",
       "  <thead>\n",
       "    <tr style=\"text-align: right;\">\n",
       "      <th></th>\n",
       "      <th>sepal_length</th>\n",
       "      <th>sepal_width</th>\n",
       "      <th>petal_length</th>\n",
       "      <th>petal_width</th>\n",
       "      <th>variety</th>\n",
       "    </tr>\n",
       "  </thead>\n",
       "  <tbody>\n",
       "    <tr>\n",
       "      <th>0</th>\n",
       "      <td>5.1</td>\n",
       "      <td>3.5</td>\n",
       "      <td>1.4</td>\n",
       "      <td>0.2</td>\n",
       "      <td>Setosa</td>\n",
       "    </tr>\n",
       "    <tr>\n",
       "      <th>1</th>\n",
       "      <td>4.9</td>\n",
       "      <td>3.0</td>\n",
       "      <td>1.4</td>\n",
       "      <td>0.2</td>\n",
       "      <td>Setosa</td>\n",
       "    </tr>\n",
       "  </tbody>\n",
       "</table>\n",
       "</div>"
      ],
      "text/plain": [
       "   sepal_length  sepal_width  petal_length  petal_width variety\n",
       "0           5.1          3.5           1.4          0.2  Setosa\n",
       "1           4.9          3.0           1.4          0.2  Setosa"
      ]
     },
     "execution_count": 12,
     "metadata": {},
     "output_type": "execute_result"
    }
   ],
   "source": [
    "# You can rename (specific) columns using its names (for example: \"sepal.length\" or iris_df.columns[0])\n",
    "# Also can be renamed by its index\n",
    "\n",
    "iris_df = iris_df.rename(columns={\"sepal.length\": \"sepal_length\",\n",
    "                                  \"sepal.width\": \"sepal_width\",\n",
    "                                  \"petal.length\": \"petal_length\",\n",
    "                                  \"petal.width\": \"petal_width\"})\n",
    "\n",
    "\n",
    "#Also you can do it modifying the data frame, but is necessary write all cols names (in order)\n",
    "iris_df.columns = ['sepal_length', 'sepal_width', 'petal_length', 'petal_width', 'variety']\n",
    "\n",
    "iris_df.head(2)"
   ]
  },
  {
   "cell_type": "code",
   "execution_count": 13,
   "metadata": {
    "ExecuteTime": {
     "end_time": "2020-09-27T20:39:28.237912Z",
     "start_time": "2020-09-27T20:39:28.221913Z"
    },
    "hidden": true,
    "id": "uehWBpVfXsSD",
    "outputId": "c25ff22e-62fe-4270-8638-166a6eca2516"
   },
   "outputs": [
    {
     "data": {
      "text/plain": [
       "array(['Setosa', 'Versicolor', 'Virginica'], dtype=object)"
      ]
     },
     "execution_count": 13,
     "metadata": {},
     "output_type": "execute_result"
    }
   ],
   "source": [
    "# Unique values from a column\n",
    "iris_df.variety.unique()"
   ]
  },
  {
   "cell_type": "code",
   "execution_count": 14,
   "metadata": {
    "ExecuteTime": {
     "end_time": "2020-09-27T20:39:28.261828Z",
     "start_time": "2020-09-27T20:39:28.237912Z"
    },
    "hidden": true,
    "id": "Dge346byXsSF",
    "outputId": "25869bd4-bcfd-4936-827e-6c154f6384da"
   },
   "outputs": [
    {
     "data": {
      "text/plain": [
       "sepal_length    float64\n",
       "sepal_width     float64\n",
       "petal_length    float64\n",
       "petal_width     float64\n",
       "variety          object\n",
       "dtype: object"
      ]
     },
     "execution_count": 14,
     "metadata": {},
     "output_type": "execute_result"
    }
   ],
   "source": [
    "# Columns and their types\n",
    "iris_df.dtypes"
   ]
  },
  {
   "cell_type": "code",
   "execution_count": 15,
   "metadata": {
    "ExecuteTime": {
     "end_time": "2020-09-27T20:39:28.281939Z",
     "start_time": "2020-09-27T20:39:28.261828Z"
    },
    "hidden": true,
    "id": "J1Xv9VREXsSG",
    "outputId": "0a6e1919-ee82-4c6e-ea06-ce5e1416f3c9"
   },
   "outputs": [
    {
     "name": "stdout",
     "output_type": "stream",
     "text": [
      "<class 'pandas.core.frame.DataFrame'>\n",
      "RangeIndex: 150 entries, 0 to 149\n",
      "Data columns (total 5 columns):\n",
      " #   Column        Non-Null Count  Dtype  \n",
      "---  ------        --------------  -----  \n",
      " 0   sepal_length  150 non-null    float64\n",
      " 1   sepal_width   150 non-null    float64\n",
      " 2   petal_length  150 non-null    float64\n",
      " 3   petal_width   150 non-null    float64\n",
      " 4   variety       150 non-null    object \n",
      "dtypes: float64(4), object(1)\n",
      "memory usage: 5.3+ KB\n"
     ]
    }
   ],
   "source": [
    "# Prints information about index dtype and column dtypes, non-null values and memory usage.\n",
    "iris_df.info()"
   ]
  },
  {
   "cell_type": "code",
   "execution_count": 16,
   "metadata": {
    "ExecuteTime": {
     "end_time": "2020-09-27T20:39:28.372284Z",
     "start_time": "2020-09-27T20:39:28.281939Z"
    },
    "hidden": true,
    "id": "9r81B6XDXsSI",
    "outputId": "c9783b95-6b9a-493a-d3b8-32aed6383f27"
   },
   "outputs": [
    {
     "data": {
      "text/html": [
       "<div>\n",
       "<style scoped>\n",
       "    .dataframe tbody tr th:only-of-type {\n",
       "        vertical-align: middle;\n",
       "    }\n",
       "\n",
       "    .dataframe tbody tr th {\n",
       "        vertical-align: top;\n",
       "    }\n",
       "\n",
       "    .dataframe thead th {\n",
       "        text-align: right;\n",
       "    }\n",
       "</style>\n",
       "<table border=\"1\" class=\"dataframe\">\n",
       "  <thead>\n",
       "    <tr style=\"text-align: right;\">\n",
       "      <th></th>\n",
       "      <th>sepal_length</th>\n",
       "      <th>sepal_width</th>\n",
       "      <th>petal_length</th>\n",
       "      <th>petal_width</th>\n",
       "    </tr>\n",
       "  </thead>\n",
       "  <tbody>\n",
       "    <tr>\n",
       "      <th>count</th>\n",
       "      <td>150.000000</td>\n",
       "      <td>150.000000</td>\n",
       "      <td>150.000000</td>\n",
       "      <td>150.000000</td>\n",
       "    </tr>\n",
       "    <tr>\n",
       "      <th>mean</th>\n",
       "      <td>5.843333</td>\n",
       "      <td>3.057333</td>\n",
       "      <td>3.758000</td>\n",
       "      <td>1.199333</td>\n",
       "    </tr>\n",
       "    <tr>\n",
       "      <th>std</th>\n",
       "      <td>0.828066</td>\n",
       "      <td>0.435866</td>\n",
       "      <td>1.765298</td>\n",
       "      <td>0.762238</td>\n",
       "    </tr>\n",
       "    <tr>\n",
       "      <th>min</th>\n",
       "      <td>4.300000</td>\n",
       "      <td>2.000000</td>\n",
       "      <td>1.000000</td>\n",
       "      <td>0.100000</td>\n",
       "    </tr>\n",
       "    <tr>\n",
       "      <th>25%</th>\n",
       "      <td>5.100000</td>\n",
       "      <td>2.800000</td>\n",
       "      <td>1.600000</td>\n",
       "      <td>0.300000</td>\n",
       "    </tr>\n",
       "    <tr>\n",
       "      <th>50%</th>\n",
       "      <td>5.800000</td>\n",
       "      <td>3.000000</td>\n",
       "      <td>4.350000</td>\n",
       "      <td>1.300000</td>\n",
       "    </tr>\n",
       "    <tr>\n",
       "      <th>75%</th>\n",
       "      <td>6.400000</td>\n",
       "      <td>3.300000</td>\n",
       "      <td>5.100000</td>\n",
       "      <td>1.800000</td>\n",
       "    </tr>\n",
       "    <tr>\n",
       "      <th>max</th>\n",
       "      <td>7.900000</td>\n",
       "      <td>4.400000</td>\n",
       "      <td>6.900000</td>\n",
       "      <td>2.500000</td>\n",
       "    </tr>\n",
       "  </tbody>\n",
       "</table>\n",
       "</div>"
      ],
      "text/plain": [
       "       sepal_length  sepal_width  petal_length  petal_width\n",
       "count    150.000000   150.000000    150.000000   150.000000\n",
       "mean       5.843333     3.057333      3.758000     1.199333\n",
       "std        0.828066     0.435866      1.765298     0.762238\n",
       "min        4.300000     2.000000      1.000000     0.100000\n",
       "25%        5.100000     2.800000      1.600000     0.300000\n",
       "50%        5.800000     3.000000      4.350000     1.300000\n",
       "75%        6.400000     3.300000      5.100000     1.800000\n",
       "max        7.900000     4.400000      6.900000     2.500000"
      ]
     },
     "execution_count": 16,
     "metadata": {},
     "output_type": "execute_result"
    }
   ],
   "source": [
    "# Displays descriptive stats for all columns\n",
    "iris_df.describe()"
   ]
  },
  {
   "cell_type": "code",
   "execution_count": 17,
   "metadata": {
    "ExecuteTime": {
     "end_time": "2020-09-27T20:39:28.388284Z",
     "start_time": "2020-09-27T20:39:28.372284Z"
    },
    "hidden": true,
    "id": "4ijB6-3_XsSN",
    "outputId": "875b8171-caae-4687-ae9f-1f47858d726f"
   },
   "outputs": [
    {
     "data": {
      "text/plain": [
       "sepal_length    0\n",
       "sepal_width     0\n",
       "petal_length    0\n",
       "petal_width     0\n",
       "variety         0\n",
       "dtype: int64"
      ]
     },
     "execution_count": 17,
     "metadata": {},
     "output_type": "execute_result"
    }
   ],
   "source": [
    "#Allows you to count nan values by columns\n",
    "iris_df.isna().sum()"
   ]
  },
  {
   "cell_type": "code",
   "execution_count": 18,
   "metadata": {
    "ExecuteTime": {
     "end_time": "2020-09-27T20:39:28.412284Z",
     "start_time": "2020-09-27T20:39:28.388284Z"
    },
    "hidden": true,
    "id": "53auAzfAXsSO",
    "outputId": "0601a01b-97ea-4b6d-e5cf-0178b9d4c9db",
    "scrolled": true
   },
   "outputs": [
    {
     "data": {
      "text/plain": [
       "5.0    10\n",
       "6.3     9\n",
       "5.1     9\n",
       "6.7     8\n",
       "5.7     8\n",
       "5.5     7\n",
       "5.8     7\n",
       "6.4     7\n",
       "6.0     6\n",
       "4.9     6\n",
       "6.1     6\n",
       "5.4     6\n",
       "5.6     6\n",
       "6.5     5\n",
       "4.8     5\n",
       "7.7     4\n",
       "6.9     4\n",
       "5.2     4\n",
       "6.2     4\n",
       "4.6     4\n",
       "7.2     3\n",
       "6.8     3\n",
       "4.4     3\n",
       "5.9     3\n",
       "6.6     2\n",
       "4.7     2\n",
       "7.6     1\n",
       "7.4     1\n",
       "4.3     1\n",
       "7.9     1\n",
       "7.3     1\n",
       "7.0     1\n",
       "4.5     1\n",
       "5.3     1\n",
       "7.1     1\n",
       "Name: sepal_length, dtype: int64"
      ]
     },
     "execution_count": 18,
     "metadata": {},
     "output_type": "execute_result"
    }
   ],
   "source": [
    "# would allow you to view unique values and counts for a series (like a column or a few columns). \n",
    "iris_df['sepal_length'].value_counts(dropna=False)"
   ]
  },
  {
   "cell_type": "markdown",
   "metadata": {
    "hidden": true,
    "id": "aT4DE8ahXsSQ"
   },
   "source": [
    "También es posible obtener estadísticas sobre todo el dataframe o una serie (una columna, etc.):\n",
    "\n",
    "*   *df.mean()* Returns the mean of all columns\n",
    "*   *df.corr()* Returns the correlation between columns in a data frame\n",
    "*   *df.count()* Returns the number of non-null values in each data frame column\n",
    "*   *df.max()* Returns the highest value in each column\n",
    "*   *df.min()* Returns the lowest value in each column\n",
    "*   *df.median()* Returns the median of each column\n",
    "*   *df.std()* Returns the standard deviation of each column"
   ]
  },
  {
   "cell_type": "code",
   "execution_count": 19,
   "metadata": {
    "ExecuteTime": {
     "end_time": "2020-09-27T20:39:28.428284Z",
     "start_time": "2020-09-27T20:39:28.412284Z"
    },
    "hidden": true,
    "id": "0d5SgCWNXsSQ",
    "outputId": "63a316a3-9add-4e44-e512-7941f3dca39e"
   },
   "outputs": [
    {
     "data": {
      "text/plain": [
       "array([[5.1, 3.5, 1.4, 0.2, 'Setosa'],\n",
       "       [4.9, 3.0, 1.4, 0.2, 'Setosa'],\n",
       "       [4.7, 3.2, 1.3, 0.2, 'Setosa'],\n",
       "       [4.6, 3.1, 1.5, 0.2, 'Setosa'],\n",
       "       [5.0, 3.6, 1.4, 0.2, 'Setosa']], dtype=object)"
      ]
     },
     "execution_count": 19,
     "metadata": {},
     "output_type": "execute_result"
    }
   ],
   "source": [
    "# Converts the frame to a two-dimensional table\n",
    "# we use [0:5] for printing only the first 5 examples\n",
    "iris_df.values[0:5]"
   ]
  },
  {
   "cell_type": "markdown",
   "metadata": {
    "heading_collapsed": true,
    "hidden": true,
    "id": "aNy7Q1GdNhqZ"
   },
   "source": [
    "## Manipular datos"
   ]
  },
  {
   "cell_type": "code",
   "execution_count": 20,
   "metadata": {
    "ExecuteTime": {
     "end_time": "2020-09-27T20:39:28.476285Z",
     "start_time": "2020-09-27T20:39:28.428284Z"
    },
    "hidden": true,
    "id": "rdP4yxCuXsSS",
    "outputId": "02445ab3-7188-4e9f-ee9c-9d799864ff7b"
   },
   "outputs": [
    {
     "data": {
      "text/html": [
       "<div>\n",
       "<style scoped>\n",
       "    .dataframe tbody tr th:only-of-type {\n",
       "        vertical-align: middle;\n",
       "    }\n",
       "\n",
       "    .dataframe tbody tr th {\n",
       "        vertical-align: top;\n",
       "    }\n",
       "\n",
       "    .dataframe thead th {\n",
       "        text-align: right;\n",
       "    }\n",
       "</style>\n",
       "<table border=\"1\" class=\"dataframe\">\n",
       "  <thead>\n",
       "    <tr style=\"text-align: right;\">\n",
       "      <th></th>\n",
       "      <th>sepal_length</th>\n",
       "      <th>sepal_width</th>\n",
       "      <th>petal_length</th>\n",
       "      <th>petal_width</th>\n",
       "      <th>variety</th>\n",
       "    </tr>\n",
       "  </thead>\n",
       "  <tbody>\n",
       "    <tr>\n",
       "      <th>0</th>\n",
       "      <td>5.6</td>\n",
       "      <td>3.0</td>\n",
       "      <td>4.1</td>\n",
       "      <td>1.3</td>\n",
       "      <td>Versicolor</td>\n",
       "    </tr>\n",
       "    <tr>\n",
       "      <th>1</th>\n",
       "      <td>6.3</td>\n",
       "      <td>2.5</td>\n",
       "      <td>4.9</td>\n",
       "      <td>1.5</td>\n",
       "      <td>Versicolor</td>\n",
       "    </tr>\n",
       "    <tr>\n",
       "      <th>2</th>\n",
       "      <td>5.4</td>\n",
       "      <td>3.4</td>\n",
       "      <td>1.7</td>\n",
       "      <td>0.2</td>\n",
       "      <td>Setosa</td>\n",
       "    </tr>\n",
       "    <tr>\n",
       "      <th>3</th>\n",
       "      <td>5.4</td>\n",
       "      <td>3.9</td>\n",
       "      <td>1.3</td>\n",
       "      <td>0.4</td>\n",
       "      <td>Setosa</td>\n",
       "    </tr>\n",
       "    <tr>\n",
       "      <th>4</th>\n",
       "      <td>6.5</td>\n",
       "      <td>3.0</td>\n",
       "      <td>5.2</td>\n",
       "      <td>2.0</td>\n",
       "      <td>Virginica</td>\n",
       "    </tr>\n",
       "  </tbody>\n",
       "</table>\n",
       "</div>"
      ],
      "text/plain": [
       "   sepal_length  sepal_width  petal_length  petal_width     variety\n",
       "0           5.6          3.0           4.1          1.3  Versicolor\n",
       "1           6.3          2.5           4.9          1.5  Versicolor\n",
       "2           5.4          3.4           1.7          0.2      Setosa\n",
       "3           5.4          3.9           1.3          0.4      Setosa\n",
       "4           6.5          3.0           5.2          2.0   Virginica"
      ]
     },
     "execution_count": 20,
     "metadata": {},
     "output_type": "execute_result"
    }
   ],
   "source": [
    "#let's use this small sampled set of iris data to better observe data manipulation\n",
    "iris_sampled = iris_df.sample(n=5, random_state=50).reset_index(drop=True)\n",
    "iris_sampled"
   ]
  },
  {
   "cell_type": "markdown",
   "metadata": {
    "heading_collapsed": true,
    "hidden": true,
    "id": "B2Y4aBGGv-Hk"
   },
   "source": [
    "### Sorting\n",
    "El método sort_index se utiliza para ordenar el dataframe por filas o columnas. El valor 0 identifica las filas y 1 identifica las columnas.\n"
   ]
  },
  {
   "cell_type": "code",
   "execution_count": 21,
   "metadata": {
    "ExecuteTime": {
     "end_time": "2020-09-27T20:39:28.500284Z",
     "start_time": "2020-09-27T20:39:28.476285Z"
    },
    "colab": {
     "base_uri": "https://localhost:8080/",
     "height": 167
    },
    "executionInfo": {
     "elapsed": 2669,
     "status": "ok",
     "timestamp": 1570733020113,
     "user": {
      "displayName": "juglar dz",
      "photoUrl": "https://lh3.googleusercontent.com/a-/AAuE7mA1DqHpo0uIqr28CIWTIn2X_ju4mgBCSYFxbVQatA=s64",
      "userId": "14270876077972191340"
     },
     "user_tz": 180
    },
    "hidden": true,
    "id": "jGFfNhrzwD_a",
    "outputId": "5d27464d-5188-452b-820e-7b8c192d5fbc"
   },
   "outputs": [
    {
     "data": {
      "text/html": [
       "<div>\n",
       "<style scoped>\n",
       "    .dataframe tbody tr th:only-of-type {\n",
       "        vertical-align: middle;\n",
       "    }\n",
       "\n",
       "    .dataframe tbody tr th {\n",
       "        vertical-align: top;\n",
       "    }\n",
       "\n",
       "    .dataframe thead th {\n",
       "        text-align: right;\n",
       "    }\n",
       "</style>\n",
       "<table border=\"1\" class=\"dataframe\">\n",
       "  <thead>\n",
       "    <tr style=\"text-align: right;\">\n",
       "      <th></th>\n",
       "      <th>sepal_length</th>\n",
       "      <th>sepal_width</th>\n",
       "      <th>petal_length</th>\n",
       "      <th>petal_width</th>\n",
       "      <th>variety</th>\n",
       "    </tr>\n",
       "  </thead>\n",
       "  <tbody>\n",
       "    <tr>\n",
       "      <th>4</th>\n",
       "      <td>6.5</td>\n",
       "      <td>3.0</td>\n",
       "      <td>5.2</td>\n",
       "      <td>2.0</td>\n",
       "      <td>Virginica</td>\n",
       "    </tr>\n",
       "    <tr>\n",
       "      <th>3</th>\n",
       "      <td>5.4</td>\n",
       "      <td>3.9</td>\n",
       "      <td>1.3</td>\n",
       "      <td>0.4</td>\n",
       "      <td>Setosa</td>\n",
       "    </tr>\n",
       "    <tr>\n",
       "      <th>2</th>\n",
       "      <td>5.4</td>\n",
       "      <td>3.4</td>\n",
       "      <td>1.7</td>\n",
       "      <td>0.2</td>\n",
       "      <td>Setosa</td>\n",
       "    </tr>\n",
       "    <tr>\n",
       "      <th>1</th>\n",
       "      <td>6.3</td>\n",
       "      <td>2.5</td>\n",
       "      <td>4.9</td>\n",
       "      <td>1.5</td>\n",
       "      <td>Versicolor</td>\n",
       "    </tr>\n",
       "    <tr>\n",
       "      <th>0</th>\n",
       "      <td>5.6</td>\n",
       "      <td>3.0</td>\n",
       "      <td>4.1</td>\n",
       "      <td>1.3</td>\n",
       "      <td>Versicolor</td>\n",
       "    </tr>\n",
       "  </tbody>\n",
       "</table>\n",
       "</div>"
      ],
      "text/plain": [
       "   sepal_length  sepal_width  petal_length  petal_width     variety\n",
       "4           6.5          3.0           5.2          2.0   Virginica\n",
       "3           5.4          3.9           1.3          0.4      Setosa\n",
       "2           5.4          3.4           1.7          0.2      Setosa\n",
       "1           6.3          2.5           4.9          1.5  Versicolor\n",
       "0           5.6          3.0           4.1          1.3  Versicolor"
      ]
     },
     "execution_count": 21,
     "metadata": {},
     "output_type": "execute_result"
    }
   ],
   "source": [
    "# Sort rows descendingly by the index\n",
    "iris_sampled.sort_index(axis=0, ascending=False)"
   ]
  },
  {
   "cell_type": "markdown",
   "metadata": {
    "hidden": true,
    "id": "fnxP262MwGya"
   },
   "source": [
    "We can also sort by one or multiple columns:\n"
   ]
  },
  {
   "cell_type": "code",
   "execution_count": 22,
   "metadata": {
    "ExecuteTime": {
     "end_time": "2020-09-27T20:39:28.540284Z",
     "start_time": "2020-09-27T20:39:28.500284Z"
    },
    "colab": {
     "base_uri": "https://localhost:8080/",
     "height": 167
    },
    "executionInfo": {
     "elapsed": 3032,
     "status": "ok",
     "timestamp": 1570733020483,
     "user": {
      "displayName": "juglar dz",
      "photoUrl": "https://lh3.googleusercontent.com/a-/AAuE7mA1DqHpo0uIqr28CIWTIn2X_ju4mgBCSYFxbVQatA=s64",
      "userId": "14270876077972191340"
     },
     "user_tz": 180
    },
    "hidden": true,
    "id": "RaDRvtT4wJz-",
    "outputId": "beb0c574-790a-4303-9f49-b15d49f1a2f7"
   },
   "outputs": [
    {
     "data": {
      "text/html": [
       "<div>\n",
       "<style scoped>\n",
       "    .dataframe tbody tr th:only-of-type {\n",
       "        vertical-align: middle;\n",
       "    }\n",
       "\n",
       "    .dataframe tbody tr th {\n",
       "        vertical-align: top;\n",
       "    }\n",
       "\n",
       "    .dataframe thead th {\n",
       "        text-align: right;\n",
       "    }\n",
       "</style>\n",
       "<table border=\"1\" class=\"dataframe\">\n",
       "  <thead>\n",
       "    <tr style=\"text-align: right;\">\n",
       "      <th></th>\n",
       "      <th>sepal_length</th>\n",
       "      <th>sepal_width</th>\n",
       "      <th>petal_length</th>\n",
       "      <th>petal_width</th>\n",
       "      <th>variety</th>\n",
       "    </tr>\n",
       "  </thead>\n",
       "  <tbody>\n",
       "    <tr>\n",
       "      <th>4</th>\n",
       "      <td>6.5</td>\n",
       "      <td>3.0</td>\n",
       "      <td>5.2</td>\n",
       "      <td>2.0</td>\n",
       "      <td>Virginica</td>\n",
       "    </tr>\n",
       "    <tr>\n",
       "      <th>1</th>\n",
       "      <td>6.3</td>\n",
       "      <td>2.5</td>\n",
       "      <td>4.9</td>\n",
       "      <td>1.5</td>\n",
       "      <td>Versicolor</td>\n",
       "    </tr>\n",
       "    <tr>\n",
       "      <th>0</th>\n",
       "      <td>5.6</td>\n",
       "      <td>3.0</td>\n",
       "      <td>4.1</td>\n",
       "      <td>1.3</td>\n",
       "      <td>Versicolor</td>\n",
       "    </tr>\n",
       "    <tr>\n",
       "      <th>2</th>\n",
       "      <td>5.4</td>\n",
       "      <td>3.4</td>\n",
       "      <td>1.7</td>\n",
       "      <td>0.2</td>\n",
       "      <td>Setosa</td>\n",
       "    </tr>\n",
       "    <tr>\n",
       "      <th>3</th>\n",
       "      <td>5.4</td>\n",
       "      <td>3.9</td>\n",
       "      <td>1.3</td>\n",
       "      <td>0.4</td>\n",
       "      <td>Setosa</td>\n",
       "    </tr>\n",
       "  </tbody>\n",
       "</table>\n",
       "</div>"
      ],
      "text/plain": [
       "   sepal_length  sepal_width  petal_length  petal_width     variety\n",
       "4           6.5          3.0           5.2          2.0   Virginica\n",
       "1           6.3          2.5           4.9          1.5  Versicolor\n",
       "0           5.6          3.0           4.1          1.3  Versicolor\n",
       "2           5.4          3.4           1.7          0.2      Setosa\n",
       "3           5.4          3.9           1.3          0.4      Setosa"
      ]
     },
     "execution_count": 22,
     "metadata": {},
     "output_type": "execute_result"
    }
   ],
   "source": [
    "iris_sampled.sort_values(by=['sepal_length', 'petal_length'], ascending=False)"
   ]
  },
  {
   "cell_type": "markdown",
   "metadata": {
    "heading_collapsed": true,
    "hidden": true,
    "id": "oh7bXN4QxbvZ"
   },
   "source": [
    "### Seleccionar / Consultar\n",
    "Las columnas individuales se pueden seleccionar con el operador [] o directamente como atributos:"
   ]
  },
  {
   "cell_type": "code",
   "execution_count": 23,
   "metadata": {
    "ExecuteTime": {
     "end_time": "2020-09-27T20:39:28.564285Z",
     "start_time": "2020-09-27T20:39:28.540284Z"
    },
    "colab": {
     "base_uri": "https://localhost:8080/",
     "height": 167
    },
    "executionInfo": {
     "elapsed": 3025,
     "status": "ok",
     "timestamp": 1570733020484,
     "user": {
      "displayName": "juglar dz",
      "photoUrl": "https://lh3.googleusercontent.com/a-/AAuE7mA1DqHpo0uIqr28CIWTIn2X_ju4mgBCSYFxbVQatA=s64",
      "userId": "14270876077972191340"
     },
     "user_tz": 180
    },
    "hidden": true,
    "id": "NAN33HqFxb8U",
    "outputId": "066a427e-7800-4870-f9cf-d90ad99ece87"
   },
   "outputs": [
    {
     "data": {
      "text/plain": [
       "0    Versicolor\n",
       "1    Versicolor\n",
       "2        Setosa\n",
       "3        Setosa\n",
       "4     Virginica\n",
       "Name: variety, dtype: object"
      ]
     },
     "execution_count": 23,
     "metadata": {},
     "output_type": "execute_result"
    }
   ],
   "source": [
    "# Selects only the column named 'variety';\n",
    "iris_sampled.variety\n",
    "\n",
    "# Return the same as previous\n",
    "iris_sampled['variety'] "
   ]
  },
  {
   "cell_type": "code",
   "execution_count": 24,
   "metadata": {
    "ExecuteTime": {
     "end_time": "2020-09-27T20:39:28.588284Z",
     "start_time": "2020-09-27T20:39:28.564285Z"
    },
    "hidden": true,
    "id": "nkjKsNTPXsSZ",
    "outputId": "4466f32e-82c1-4d5a-dee4-8d650439984c"
   },
   "outputs": [
    {
     "data": {
      "text/html": [
       "<div>\n",
       "<style scoped>\n",
       "    .dataframe tbody tr th:only-of-type {\n",
       "        vertical-align: middle;\n",
       "    }\n",
       "\n",
       "    .dataframe tbody tr th {\n",
       "        vertical-align: top;\n",
       "    }\n",
       "\n",
       "    .dataframe thead th {\n",
       "        text-align: right;\n",
       "    }\n",
       "</style>\n",
       "<table border=\"1\" class=\"dataframe\">\n",
       "  <thead>\n",
       "    <tr style=\"text-align: right;\">\n",
       "      <th></th>\n",
       "      <th>sepal_length</th>\n",
       "      <th>variety</th>\n",
       "    </tr>\n",
       "  </thead>\n",
       "  <tbody>\n",
       "    <tr>\n",
       "      <th>0</th>\n",
       "      <td>5.6</td>\n",
       "      <td>Versicolor</td>\n",
       "    </tr>\n",
       "    <tr>\n",
       "      <th>1</th>\n",
       "      <td>6.3</td>\n",
       "      <td>Versicolor</td>\n",
       "    </tr>\n",
       "    <tr>\n",
       "      <th>2</th>\n",
       "      <td>5.4</td>\n",
       "      <td>Setosa</td>\n",
       "    </tr>\n",
       "    <tr>\n",
       "      <th>3</th>\n",
       "      <td>5.4</td>\n",
       "      <td>Setosa</td>\n",
       "    </tr>\n",
       "    <tr>\n",
       "      <th>4</th>\n",
       "      <td>6.5</td>\n",
       "      <td>Virginica</td>\n",
       "    </tr>\n",
       "  </tbody>\n",
       "</table>\n",
       "</div>"
      ],
      "text/plain": [
       "   sepal_length     variety\n",
       "0           5.6  Versicolor\n",
       "1           6.3  Versicolor\n",
       "2           5.4      Setosa\n",
       "3           5.4      Setosa\n",
       "4           6.5   Virginica"
      ]
     },
     "execution_count": 24,
     "metadata": {},
     "output_type": "execute_result"
    }
   ],
   "source": [
    "# Select two columns\n",
    "iris_sampled[['sepal_length', 'variety']]"
   ]
  },
  {
   "cell_type": "code",
   "execution_count": 25,
   "metadata": {
    "ExecuteTime": {
     "end_time": "2020-09-27T20:39:28.612284Z",
     "start_time": "2020-09-27T20:39:28.588284Z"
    },
    "hidden": true,
    "id": "NpElGeXxXsSb",
    "outputId": "7d857554-5840-4d96-b820-53ea0f6a4598"
   },
   "outputs": [
    {
     "data": {
      "text/html": [
       "<div>\n",
       "<style scoped>\n",
       "    .dataframe tbody tr th:only-of-type {\n",
       "        vertical-align: middle;\n",
       "    }\n",
       "\n",
       "    .dataframe tbody tr th {\n",
       "        vertical-align: top;\n",
       "    }\n",
       "\n",
       "    .dataframe thead th {\n",
       "        text-align: right;\n",
       "    }\n",
       "</style>\n",
       "<table border=\"1\" class=\"dataframe\">\n",
       "  <thead>\n",
       "    <tr style=\"text-align: right;\">\n",
       "      <th></th>\n",
       "      <th>sepal_length</th>\n",
       "      <th>variety</th>\n",
       "    </tr>\n",
       "  </thead>\n",
       "  <tbody>\n",
       "    <tr>\n",
       "      <th>0</th>\n",
       "      <td>5.6</td>\n",
       "      <td>Versicolor</td>\n",
       "    </tr>\n",
       "    <tr>\n",
       "      <th>1</th>\n",
       "      <td>6.3</td>\n",
       "      <td>Versicolor</td>\n",
       "    </tr>\n",
       "    <tr>\n",
       "      <th>2</th>\n",
       "      <td>5.4</td>\n",
       "      <td>Setosa</td>\n",
       "    </tr>\n",
       "    <tr>\n",
       "      <th>3</th>\n",
       "      <td>5.4</td>\n",
       "      <td>Setosa</td>\n",
       "    </tr>\n",
       "    <tr>\n",
       "      <th>4</th>\n",
       "      <td>6.5</td>\n",
       "      <td>Virginica</td>\n",
       "    </tr>\n",
       "  </tbody>\n",
       "</table>\n",
       "</div>"
      ],
      "text/plain": [
       "   sepal_length     variety\n",
       "0           5.6  Versicolor\n",
       "1           6.3  Versicolor\n",
       "2           5.4      Setosa\n",
       "3           5.4      Setosa\n",
       "4           6.5   Virginica"
      ]
     },
     "execution_count": 25,
     "metadata": {},
     "output_type": "execute_result"
    }
   ],
   "source": [
    "# Same as previous (select all rows for columns 0 and 4)\n",
    "# [:, ] indicates selection of all rows\n",
    "iris_sampled.iloc[:, [0, 4]]"
   ]
  },
  {
   "cell_type": "markdown",
   "metadata": {
    "hidden": true,
    "id": "YLQQzR0FxcH7"
   },
   "source": [
    "También puede seleccionar por coordenadas/posición. Los índices se basan en cero:"
   ]
  },
  {
   "cell_type": "code",
   "execution_count": 26,
   "metadata": {
    "ExecuteTime": {
     "end_time": "2020-09-27T20:39:28.628284Z",
     "start_time": "2020-09-27T20:39:28.612284Z"
    },
    "hidden": true,
    "id": "xAp3XfQfXsSd",
    "outputId": "309f28b9-45db-42ec-e8df-f834a20214e8"
   },
   "outputs": [
    {
     "data": {
      "text/plain": [
       "sepal_length           5.6\n",
       "sepal_width              3\n",
       "petal_length           4.1\n",
       "petal_width            1.3\n",
       "variety         Versicolor\n",
       "Name: 0, dtype: object"
      ]
     },
     "execution_count": 26,
     "metadata": {},
     "output_type": "execute_result"
    }
   ],
   "source": [
    "# Selects first row\n",
    "iris_sampled.iloc[0]"
   ]
  },
  {
   "cell_type": "code",
   "execution_count": 27,
   "metadata": {
    "ExecuteTime": {
     "end_time": "2020-09-27T20:39:28.652284Z",
     "start_time": "2020-09-27T20:39:28.628284Z"
    },
    "hidden": true,
    "id": "VEF-aTSBXsSe",
    "outputId": "3264dbe8-edce-4778-cc41-272cb44fc31a"
   },
   "outputs": [
    {
     "data": {
      "text/html": [
       "<div>\n",
       "<style scoped>\n",
       "    .dataframe tbody tr th:only-of-type {\n",
       "        vertical-align: middle;\n",
       "    }\n",
       "\n",
       "    .dataframe tbody tr th {\n",
       "        vertical-align: top;\n",
       "    }\n",
       "\n",
       "    .dataframe thead th {\n",
       "        text-align: right;\n",
       "    }\n",
       "</style>\n",
       "<table border=\"1\" class=\"dataframe\">\n",
       "  <thead>\n",
       "    <tr style=\"text-align: right;\">\n",
       "      <th></th>\n",
       "      <th>sepal_length</th>\n",
       "      <th>sepal_width</th>\n",
       "      <th>petal_length</th>\n",
       "      <th>petal_width</th>\n",
       "      <th>variety</th>\n",
       "    </tr>\n",
       "  </thead>\n",
       "  <tbody>\n",
       "    <tr>\n",
       "      <th>1</th>\n",
       "      <td>6.3</td>\n",
       "      <td>2.5</td>\n",
       "      <td>4.9</td>\n",
       "      <td>1.5</td>\n",
       "      <td>Versicolor</td>\n",
       "    </tr>\n",
       "    <tr>\n",
       "      <th>2</th>\n",
       "      <td>5.4</td>\n",
       "      <td>3.4</td>\n",
       "      <td>1.7</td>\n",
       "      <td>0.2</td>\n",
       "      <td>Setosa</td>\n",
       "    </tr>\n",
       "  </tbody>\n",
       "</table>\n",
       "</div>"
      ],
      "text/plain": [
       "   sepal_length  sepal_width  petal_length  petal_width     variety\n",
       "1           6.3          2.5           4.9          1.5  Versicolor\n",
       "2           5.4          3.4           1.7          0.2      Setosa"
      ]
     },
     "execution_count": 27,
     "metadata": {},
     "output_type": "execute_result"
    }
   ],
   "source": [
    "# Selects rows 1-to-3 (exclusive)\n",
    "iris_sampled.iloc[1:3]"
   ]
  },
  {
   "cell_type": "code",
   "execution_count": 28,
   "metadata": {
    "ExecuteTime": {
     "end_time": "2020-09-27T20:39:28.668286Z",
     "start_time": "2020-09-27T20:39:28.652284Z"
    },
    "hidden": true,
    "id": "-rdqsMbIXsSg",
    "outputId": "5400c5d4-d07b-49a5-ec60-0dcc49cd7998"
   },
   "outputs": [
    {
     "data": {
      "text/plain": [
       "5.6"
      ]
     },
     "execution_count": 28,
     "metadata": {},
     "output_type": "execute_result"
    }
   ],
   "source": [
    "# Value of first row and first column\n",
    "iris_sampled.iloc[0,0]"
   ]
  },
  {
   "cell_type": "code",
   "execution_count": 29,
   "metadata": {
    "ExecuteTime": {
     "end_time": "2020-09-27T20:39:28.684284Z",
     "start_time": "2020-09-27T20:39:28.668286Z"
    },
    "colab": {
     "base_uri": "https://localhost:8080/",
     "height": 167
    },
    "executionInfo": {
     "elapsed": 3019,
     "status": "ok",
     "timestamp": 1570733020485,
     "user": {
      "displayName": "juglar dz",
      "photoUrl": "https://lh3.googleusercontent.com/a-/AAuE7mA1DqHpo0uIqr28CIWTIn2X_ju4mgBCSYFxbVQatA=s64",
      "userId": "14270876077972191340"
     },
     "user_tz": 180
    },
    "hidden": true,
    "id": "ijMomw0axcVA",
    "outputId": "a14a4c77-5890-4c9e-8205-4790db1b4dc7"
   },
   "outputs": [
    {
     "data": {
      "text/html": [
       "<div>\n",
       "<style scoped>\n",
       "    .dataframe tbody tr th:only-of-type {\n",
       "        vertical-align: middle;\n",
       "    }\n",
       "\n",
       "    .dataframe tbody tr th {\n",
       "        vertical-align: top;\n",
       "    }\n",
       "\n",
       "    .dataframe thead th {\n",
       "        text-align: right;\n",
       "    }\n",
       "</style>\n",
       "<table border=\"1\" class=\"dataframe\">\n",
       "  <thead>\n",
       "    <tr style=\"text-align: right;\">\n",
       "      <th></th>\n",
       "      <th>sepal_length</th>\n",
       "      <th>sepal_width</th>\n",
       "    </tr>\n",
       "  </thead>\n",
       "  <tbody>\n",
       "    <tr>\n",
       "      <th>0</th>\n",
       "      <td>5.6</td>\n",
       "      <td>3.0</td>\n",
       "    </tr>\n",
       "    <tr>\n",
       "      <th>1</th>\n",
       "      <td>6.3</td>\n",
       "      <td>2.5</td>\n",
       "    </tr>\n",
       "    <tr>\n",
       "      <th>2</th>\n",
       "      <td>5.4</td>\n",
       "      <td>3.4</td>\n",
       "    </tr>\n",
       "    <tr>\n",
       "      <th>3</th>\n",
       "      <td>5.4</td>\n",
       "      <td>3.9</td>\n",
       "    </tr>\n",
       "  </tbody>\n",
       "</table>\n",
       "</div>"
      ],
      "text/plain": [
       "   sepal_length  sepal_width\n",
       "0           5.6          3.0\n",
       "1           6.3          2.5\n",
       "2           5.4          3.4\n",
       "3           5.4          3.9"
      ]
     },
     "execution_count": 29,
     "metadata": {},
     "output_type": "execute_result"
    }
   ],
   "source": [
    "# First 4 rows and first 2 columns\n",
    "iris_sampled.iloc[0:4, 0:2]"
   ]
  },
  {
   "cell_type": "markdown",
   "metadata": {
    "hidden": true,
    "id": "NfmXXNo4xchT"
   },
   "source": [
    "La mayoría de las veces, necesitamos seleccionar por una condición en los valores de la celda. Para hacerlo, proporcionamos una matriz booleana que indica qué filas se seleccionarán. El truco es que pandas predefine muchos operadores booleanos para sus dataframes y series. Por ejemplo, la siguiente expresión produce una matriz booleana:"
   ]
  },
  {
   "cell_type": "code",
   "execution_count": 30,
   "metadata": {
    "ExecuteTime": {
     "end_time": "2020-09-27T20:39:28.700284Z",
     "start_time": "2020-09-27T20:39:28.684284Z"
    },
    "colab": {
     "base_uri": "https://localhost:8080/",
     "height": 105
    },
    "executionInfo": {
     "elapsed": 3011,
     "status": "ok",
     "timestamp": 1570733020486,
     "user": {
      "displayName": "juglar dz",
      "photoUrl": "https://lh3.googleusercontent.com/a-/AAuE7mA1DqHpo0uIqr28CIWTIn2X_ju4mgBCSYFxbVQatA=s64",
      "userId": "14270876077972191340"
     },
     "user_tz": 180
    },
    "hidden": true,
    "id": "v9mjPlrfxcu0",
    "outputId": "183fbc10-8cef-4a67-b1c1-a7b6183528fa"
   },
   "outputs": [
    {
     "data": {
      "text/plain": [
       "0    False\n",
       "1     True\n",
       "2    False\n",
       "3    False\n",
       "4     True\n",
       "Name: sepal_length, dtype: bool"
      ]
     },
     "execution_count": 30,
     "metadata": {},
     "output_type": "execute_result"
    }
   ],
   "source": [
    "# Produces and array, not a single value!\n",
    "iris_sampled.sepal_length > 6"
   ]
  },
  {
   "cell_type": "markdown",
   "metadata": {
    "hidden": true,
    "id": "bsBX2bw2xc6V"
   },
   "source": [
    "This allows us to write queries like these:\n"
   ]
  },
  {
   "cell_type": "code",
   "execution_count": 31,
   "metadata": {
    "ExecuteTime": {
     "end_time": "2020-09-27T20:39:28.724285Z",
     "start_time": "2020-09-27T20:39:28.700284Z"
    },
    "hidden": true,
    "id": "c7jsq7hEXsSl",
    "outputId": "b43cc9d2-298f-480c-b96c-500ff842ced4"
   },
   "outputs": [
    {
     "data": {
      "text/html": [
       "<div>\n",
       "<style scoped>\n",
       "    .dataframe tbody tr th:only-of-type {\n",
       "        vertical-align: middle;\n",
       "    }\n",
       "\n",
       "    .dataframe tbody tr th {\n",
       "        vertical-align: top;\n",
       "    }\n",
       "\n",
       "    .dataframe thead th {\n",
       "        text-align: right;\n",
       "    }\n",
       "</style>\n",
       "<table border=\"1\" class=\"dataframe\">\n",
       "  <thead>\n",
       "    <tr style=\"text-align: right;\">\n",
       "      <th></th>\n",
       "      <th>sepal_length</th>\n",
       "      <th>sepal_width</th>\n",
       "      <th>petal_length</th>\n",
       "      <th>petal_width</th>\n",
       "      <th>variety</th>\n",
       "    </tr>\n",
       "  </thead>\n",
       "  <tbody>\n",
       "    <tr>\n",
       "      <th>1</th>\n",
       "      <td>6.3</td>\n",
       "      <td>2.5</td>\n",
       "      <td>4.9</td>\n",
       "      <td>1.5</td>\n",
       "      <td>Versicolor</td>\n",
       "    </tr>\n",
       "    <tr>\n",
       "      <th>4</th>\n",
       "      <td>6.5</td>\n",
       "      <td>3.0</td>\n",
       "      <td>5.2</td>\n",
       "      <td>2.0</td>\n",
       "      <td>Virginica</td>\n",
       "    </tr>\n",
       "  </tbody>\n",
       "</table>\n",
       "</div>"
      ],
      "text/plain": [
       "   sepal_length  sepal_width  petal_length  petal_width     variety\n",
       "1           6.3          2.5           4.9          1.5  Versicolor\n",
       "4           6.5          3.0           5.2          2.0   Virginica"
      ]
     },
     "execution_count": 31,
     "metadata": {},
     "output_type": "execute_result"
    }
   ],
   "source": [
    "# Query by a single column value\n",
    "iris_sampled[iris_sampled.sepal_length > 6] "
   ]
  },
  {
   "cell_type": "code",
   "execution_count": 32,
   "metadata": {
    "ExecuteTime": {
     "end_time": "2020-09-27T20:39:28.748287Z",
     "start_time": "2020-09-27T20:39:28.724285Z"
    },
    "hidden": true,
    "id": "txmeGUCBXsSm",
    "outputId": "0f6b35cd-9b2b-4bc0-c254-6a8fed202851"
   },
   "outputs": [
    {
     "data": {
      "text/html": [
       "<div>\n",
       "<style scoped>\n",
       "    .dataframe tbody tr th:only-of-type {\n",
       "        vertical-align: middle;\n",
       "    }\n",
       "\n",
       "    .dataframe tbody tr th {\n",
       "        vertical-align: top;\n",
       "    }\n",
       "\n",
       "    .dataframe thead th {\n",
       "        text-align: right;\n",
       "    }\n",
       "</style>\n",
       "<table border=\"1\" class=\"dataframe\">\n",
       "  <thead>\n",
       "    <tr style=\"text-align: right;\">\n",
       "      <th></th>\n",
       "      <th>sepal_length</th>\n",
       "      <th>sepal_width</th>\n",
       "      <th>petal_length</th>\n",
       "      <th>petal_width</th>\n",
       "      <th>variety</th>\n",
       "    </tr>\n",
       "  </thead>\n",
       "  <tbody>\n",
       "    <tr>\n",
       "      <th>0</th>\n",
       "      <td>5.6</td>\n",
       "      <td>3.0</td>\n",
       "      <td>4.1</td>\n",
       "      <td>1.3</td>\n",
       "      <td>Versicolor</td>\n",
       "    </tr>\n",
       "    <tr>\n",
       "      <th>1</th>\n",
       "      <td>6.3</td>\n",
       "      <td>2.5</td>\n",
       "      <td>4.9</td>\n",
       "      <td>1.5</td>\n",
       "      <td>Versicolor</td>\n",
       "    </tr>\n",
       "    <tr>\n",
       "      <th>4</th>\n",
       "      <td>6.5</td>\n",
       "      <td>3.0</td>\n",
       "      <td>5.2</td>\n",
       "      <td>2.0</td>\n",
       "      <td>Virginica</td>\n",
       "    </tr>\n",
       "  </tbody>\n",
       "</table>\n",
       "</div>"
      ],
      "text/plain": [
       "   sepal_length  sepal_width  petal_length  petal_width     variety\n",
       "0           5.6          3.0           4.1          1.3  Versicolor\n",
       "1           6.3          2.5           4.9          1.5  Versicolor\n",
       "4           6.5          3.0           5.2          2.0   Virginica"
      ]
     },
     "execution_count": 32,
     "metadata": {},
     "output_type": "execute_result"
    }
   ],
   "source": [
    "# Query by a single column, if it is in a list of predefined values\n",
    "iris_sampled[iris_sampled['variety'].isin(['Versicolor', 'Virginica'])] "
   ]
  },
  {
   "cell_type": "code",
   "execution_count": 33,
   "metadata": {
    "ExecuteTime": {
     "end_time": "2020-09-27T20:39:28.764284Z",
     "start_time": "2020-09-27T20:39:28.748287Z"
    },
    "hidden": true,
    "id": "MrpcJDW0XsSo",
    "outputId": "028c7684-96e6-47ea-cea0-f0b97fb05477"
   },
   "outputs": [
    {
     "data": {
      "text/html": [
       "<div>\n",
       "<style scoped>\n",
       "    .dataframe tbody tr th:only-of-type {\n",
       "        vertical-align: middle;\n",
       "    }\n",
       "\n",
       "    .dataframe tbody tr th {\n",
       "        vertical-align: top;\n",
       "    }\n",
       "\n",
       "    .dataframe thead th {\n",
       "        text-align: right;\n",
       "    }\n",
       "</style>\n",
       "<table border=\"1\" class=\"dataframe\">\n",
       "  <thead>\n",
       "    <tr style=\"text-align: right;\">\n",
       "      <th></th>\n",
       "      <th>sepal_length</th>\n",
       "      <th>sepal_width</th>\n",
       "      <th>petal_length</th>\n",
       "      <th>petal_width</th>\n",
       "      <th>variety</th>\n",
       "    </tr>\n",
       "  </thead>\n",
       "  <tbody>\n",
       "    <tr>\n",
       "      <th>1</th>\n",
       "      <td>6.3</td>\n",
       "      <td>2.5</td>\n",
       "      <td>4.9</td>\n",
       "      <td>1.5</td>\n",
       "      <td>Versicolor</td>\n",
       "    </tr>\n",
       "  </tbody>\n",
       "</table>\n",
       "</div>"
      ],
      "text/plain": [
       "   sepal_length  sepal_width  petal_length  petal_width     variety\n",
       "1           6.3          2.5           4.9          1.5  Versicolor"
      ]
     },
     "execution_count": 33,
     "metadata": {},
     "output_type": "execute_result"
    }
   ],
   "source": [
    "# A conjunction query using two columns\n",
    "iris_sampled[(iris_sampled['sepal_length'] > 6) & (iris_sampled['variety'] == 'Versicolor')] "
   ]
  },
  {
   "cell_type": "code",
   "execution_count": 34,
   "metadata": {
    "ExecuteTime": {
     "end_time": "2020-09-27T20:39:28.788286Z",
     "start_time": "2020-09-27T20:39:28.764284Z"
    },
    "hidden": true,
    "id": "F24y84qNXsSq",
    "outputId": "5c901705-29ca-4f3d-f1a1-b91f45687afc"
   },
   "outputs": [
    {
     "data": {
      "text/html": [
       "<div>\n",
       "<style scoped>\n",
       "    .dataframe tbody tr th:only-of-type {\n",
       "        vertical-align: middle;\n",
       "    }\n",
       "\n",
       "    .dataframe tbody tr th {\n",
       "        vertical-align: top;\n",
       "    }\n",
       "\n",
       "    .dataframe thead th {\n",
       "        text-align: right;\n",
       "    }\n",
       "</style>\n",
       "<table border=\"1\" class=\"dataframe\">\n",
       "  <thead>\n",
       "    <tr style=\"text-align: right;\">\n",
       "      <th></th>\n",
       "      <th>sepal_length</th>\n",
       "      <th>sepal_width</th>\n",
       "      <th>petal_length</th>\n",
       "      <th>petal_width</th>\n",
       "      <th>variety</th>\n",
       "    </tr>\n",
       "  </thead>\n",
       "  <tbody>\n",
       "    <tr>\n",
       "      <th>0</th>\n",
       "      <td>5.6</td>\n",
       "      <td>3.0</td>\n",
       "      <td>4.1</td>\n",
       "      <td>1.3</td>\n",
       "      <td>Versicolor</td>\n",
       "    </tr>\n",
       "    <tr>\n",
       "      <th>1</th>\n",
       "      <td>6.3</td>\n",
       "      <td>2.5</td>\n",
       "      <td>4.9</td>\n",
       "      <td>1.5</td>\n",
       "      <td>Versicolor</td>\n",
       "    </tr>\n",
       "    <tr>\n",
       "      <th>4</th>\n",
       "      <td>6.5</td>\n",
       "      <td>3.0</td>\n",
       "      <td>5.2</td>\n",
       "      <td>2.0</td>\n",
       "      <td>Virginica</td>\n",
       "    </tr>\n",
       "  </tbody>\n",
       "</table>\n",
       "</div>"
      ],
      "text/plain": [
       "   sepal_length  sepal_width  petal_length  petal_width     variety\n",
       "0           5.6          3.0           4.1          1.3  Versicolor\n",
       "1           6.3          2.5           4.9          1.5  Versicolor\n",
       "4           6.5          3.0           5.2          2.0   Virginica"
      ]
     },
     "execution_count": 34,
     "metadata": {},
     "output_type": "execute_result"
    }
   ],
   "source": [
    "# A disjunction query using two columns\n",
    "iris_sampled[(iris_sampled['sepal_length'] > 6) | (iris_sampled['variety'] == 'Versicolor')]"
   ]
  },
  {
   "cell_type": "code",
   "execution_count": 35,
   "metadata": {
    "ExecuteTime": {
     "end_time": "2020-09-27T20:39:28.812286Z",
     "start_time": "2020-09-27T20:39:28.788286Z"
    },
    "colab": {
     "base_uri": "https://localhost:8080/",
     "height": 77
    },
    "executionInfo": {
     "elapsed": 3000,
     "status": "ok",
     "timestamp": 1570733020486,
     "user": {
      "displayName": "juglar dz",
      "photoUrl": "https://lh3.googleusercontent.com/a-/AAuE7mA1DqHpo0uIqr28CIWTIn2X_ju4mgBCSYFxbVQatA=s64",
      "userId": "14270876077972191340"
     },
     "user_tz": 180
    },
    "hidden": true,
    "id": "_0mTefWuxdUQ",
    "outputId": "1c7c5b32-efaf-4376-a1ba-336a1dccdbe0",
    "scrolled": true
   },
   "outputs": [
    {
     "data": {
      "text/html": [
       "<div>\n",
       "<style scoped>\n",
       "    .dataframe tbody tr th:only-of-type {\n",
       "        vertical-align: middle;\n",
       "    }\n",
       "\n",
       "    .dataframe tbody tr th {\n",
       "        vertical-align: top;\n",
       "    }\n",
       "\n",
       "    .dataframe thead th {\n",
       "        text-align: right;\n",
       "    }\n",
       "</style>\n",
       "<table border=\"1\" class=\"dataframe\">\n",
       "  <thead>\n",
       "    <tr style=\"text-align: right;\">\n",
       "      <th></th>\n",
       "      <th>sepal_length</th>\n",
       "      <th>sepal_width</th>\n",
       "      <th>petal_length</th>\n",
       "      <th>petal_width</th>\n",
       "      <th>variety</th>\n",
       "    </tr>\n",
       "  </thead>\n",
       "  <tbody>\n",
       "    <tr>\n",
       "      <th>0</th>\n",
       "      <td>5.6</td>\n",
       "      <td>3.0</td>\n",
       "      <td>4.1</td>\n",
       "      <td>1.3</td>\n",
       "      <td>Versicolor</td>\n",
       "    </tr>\n",
       "    <tr>\n",
       "      <th>1</th>\n",
       "      <td>6.3</td>\n",
       "      <td>2.5</td>\n",
       "      <td>4.9</td>\n",
       "      <td>1.5</td>\n",
       "      <td>Versicolor</td>\n",
       "    </tr>\n",
       "  </tbody>\n",
       "</table>\n",
       "</div>"
      ],
      "text/plain": [
       "   sepal_length  sepal_width  petal_length  petal_width     variety\n",
       "0           5.6          3.0           4.1          1.3  Versicolor\n",
       "1           6.3          2.5           4.9          1.5  Versicolor"
      ]
     },
     "execution_count": 35,
     "metadata": {},
     "output_type": "execute_result"
    }
   ],
   "source": [
    "# A query checking the textual content of the cells\n",
    "iris_sampled[iris_sampled.variety.str.contains('sicolor')]"
   ]
  },
  {
   "cell_type": "markdown",
   "metadata": {
    "heading_collapsed": true,
    "hidden": true,
    "id": "4ETEJmPWxdg5"
   },
   "source": [
    "### Modificación de Dataframes\n",
    "\n",
    "Las operaciones de Pandas tienden a producir nuevos dataframes en lugar de modificar los proporcionados. Muchas operaciones tienen el parámetro `inplace` booleano opcional que podemos usar para forzar a Pandas a aplicar los cambios al dataframe en cuestión.\n",
    "\n",
    "También es posible asignar directamente los valores en celdas, columnas y selecciones de la siguiente manera:"
   ]
  },
  {
   "cell_type": "code",
   "execution_count": 36,
   "metadata": {
    "ExecuteTime": {
     "end_time": "2020-09-27T20:39:28.836285Z",
     "start_time": "2020-09-27T20:39:28.812286Z"
    },
    "hidden": true,
    "id": "MrpGlVsxXsSt",
    "outputId": "50eb7c16-85ea-44ab-d6a1-c20de8c9d5d5"
   },
   "outputs": [
    {
     "data": {
      "text/html": [
       "<div>\n",
       "<style scoped>\n",
       "    .dataframe tbody tr th:only-of-type {\n",
       "        vertical-align: middle;\n",
       "    }\n",
       "\n",
       "    .dataframe tbody tr th {\n",
       "        vertical-align: top;\n",
       "    }\n",
       "\n",
       "    .dataframe thead th {\n",
       "        text-align: right;\n",
       "    }\n",
       "</style>\n",
       "<table border=\"1\" class=\"dataframe\">\n",
       "  <thead>\n",
       "    <tr style=\"text-align: right;\">\n",
       "      <th></th>\n",
       "      <th>sepal_length</th>\n",
       "      <th>sepal_width</th>\n",
       "      <th>petal_length</th>\n",
       "      <th>petal_width</th>\n",
       "      <th>variety</th>\n",
       "    </tr>\n",
       "  </thead>\n",
       "  <tbody>\n",
       "    <tr>\n",
       "      <th>0</th>\n",
       "      <td>5.6</td>\n",
       "      <td>3.0</td>\n",
       "      <td>4.1</td>\n",
       "      <td>1.3</td>\n",
       "      <td>New Versicolor</td>\n",
       "    </tr>\n",
       "    <tr>\n",
       "      <th>1</th>\n",
       "      <td>6.3</td>\n",
       "      <td>2.5</td>\n",
       "      <td>4.9</td>\n",
       "      <td>1.5</td>\n",
       "      <td>Versicolor</td>\n",
       "    </tr>\n",
       "    <tr>\n",
       "      <th>2</th>\n",
       "      <td>5.4</td>\n",
       "      <td>3.4</td>\n",
       "      <td>1.7</td>\n",
       "      <td>0.2</td>\n",
       "      <td>Setosa</td>\n",
       "    </tr>\n",
       "    <tr>\n",
       "      <th>3</th>\n",
       "      <td>5.4</td>\n",
       "      <td>3.9</td>\n",
       "      <td>1.3</td>\n",
       "      <td>0.4</td>\n",
       "      <td>Setosa</td>\n",
       "    </tr>\n",
       "    <tr>\n",
       "      <th>4</th>\n",
       "      <td>6.5</td>\n",
       "      <td>3.0</td>\n",
       "      <td>5.2</td>\n",
       "      <td>2.0</td>\n",
       "      <td>Virginica</td>\n",
       "    </tr>\n",
       "  </tbody>\n",
       "</table>\n",
       "</div>"
      ],
      "text/plain": [
       "   sepal_length  sepal_width  petal_length  petal_width         variety\n",
       "0           5.6          3.0           4.1          1.3  New Versicolor\n",
       "1           6.3          2.5           4.9          1.5      Versicolor\n",
       "2           5.4          3.4           1.7          0.2          Setosa\n",
       "3           5.4          3.9           1.3          0.4          Setosa\n",
       "4           6.5          3.0           5.2          2.0       Virginica"
      ]
     },
     "execution_count": 36,
     "metadata": {},
     "output_type": "execute_result"
    }
   ],
   "source": [
    "# Modifies the cell identified by its row index and column name (using df.at)\n",
    "iris_sampled.at[0, 'variety'] = 'New Versicolor' \n",
    "iris_sampled"
   ]
  },
  {
   "cell_type": "code",
   "execution_count": 37,
   "metadata": {
    "ExecuteTime": {
     "end_time": "2020-09-27T20:39:28.860287Z",
     "start_time": "2020-09-27T20:39:28.836285Z"
    },
    "hidden": true,
    "id": "6D8VrzkEXsSu",
    "outputId": "fb9bbf82-2b1f-47d7-c8a1-5667dab956ac"
   },
   "outputs": [
    {
     "data": {
      "text/html": [
       "<div>\n",
       "<style scoped>\n",
       "    .dataframe tbody tr th:only-of-type {\n",
       "        vertical-align: middle;\n",
       "    }\n",
       "\n",
       "    .dataframe tbody tr th {\n",
       "        vertical-align: top;\n",
       "    }\n",
       "\n",
       "    .dataframe thead th {\n",
       "        text-align: right;\n",
       "    }\n",
       "</style>\n",
       "<table border=\"1\" class=\"dataframe\">\n",
       "  <thead>\n",
       "    <tr style=\"text-align: right;\">\n",
       "      <th></th>\n",
       "      <th>sepal_length</th>\n",
       "      <th>sepal_width</th>\n",
       "      <th>petal_length</th>\n",
       "      <th>petal_width</th>\n",
       "      <th>variety</th>\n",
       "    </tr>\n",
       "  </thead>\n",
       "  <tbody>\n",
       "    <tr>\n",
       "      <th>0</th>\n",
       "      <td>5.6</td>\n",
       "      <td>3.0</td>\n",
       "      <td>4.1</td>\n",
       "      <td>1.3</td>\n",
       "      <td>New2 Versicolor</td>\n",
       "    </tr>\n",
       "    <tr>\n",
       "      <th>1</th>\n",
       "      <td>6.3</td>\n",
       "      <td>2.5</td>\n",
       "      <td>4.9</td>\n",
       "      <td>1.5</td>\n",
       "      <td>Versicolor</td>\n",
       "    </tr>\n",
       "    <tr>\n",
       "      <th>2</th>\n",
       "      <td>5.4</td>\n",
       "      <td>3.4</td>\n",
       "      <td>1.7</td>\n",
       "      <td>0.2</td>\n",
       "      <td>Setosa</td>\n",
       "    </tr>\n",
       "    <tr>\n",
       "      <th>3</th>\n",
       "      <td>5.4</td>\n",
       "      <td>3.9</td>\n",
       "      <td>1.3</td>\n",
       "      <td>0.4</td>\n",
       "      <td>Setosa</td>\n",
       "    </tr>\n",
       "    <tr>\n",
       "      <th>4</th>\n",
       "      <td>6.5</td>\n",
       "      <td>3.0</td>\n",
       "      <td>5.2</td>\n",
       "      <td>2.0</td>\n",
       "      <td>Virginica</td>\n",
       "    </tr>\n",
       "  </tbody>\n",
       "</table>\n",
       "</div>"
      ],
      "text/plain": [
       "   sepal_length  sepal_width  petal_length  petal_width          variety\n",
       "0           5.6          3.0           4.1          1.3  New2 Versicolor\n",
       "1           6.3          2.5           4.9          1.5       Versicolor\n",
       "2           5.4          3.4           1.7          0.2           Setosa\n",
       "3           5.4          3.9           1.3          0.4           Setosa\n",
       "4           6.5          3.0           5.2          2.0        Virginica"
      ]
     },
     "execution_count": 37,
     "metadata": {},
     "output_type": "execute_result"
    }
   ],
   "source": [
    "# Modifies the cell identified by its absolute row and column indices\n",
    "iris_sampled.iat[0, 4] = 'New2 Versicolor' \n",
    "iris_sampled"
   ]
  },
  {
   "cell_type": "code",
   "execution_count": 38,
   "metadata": {
    "ExecuteTime": {
     "end_time": "2020-09-27T20:39:28.884285Z",
     "start_time": "2020-09-27T20:39:28.860287Z"
    },
    "hidden": true,
    "id": "HkEeoXexXsSw",
    "outputId": "eb436301-85a7-47f4-cd3d-8f2a839a2715"
   },
   "outputs": [
    {
     "data": {
      "text/html": [
       "<div>\n",
       "<style scoped>\n",
       "    .dataframe tbody tr th:only-of-type {\n",
       "        vertical-align: middle;\n",
       "    }\n",
       "\n",
       "    .dataframe tbody tr th {\n",
       "        vertical-align: top;\n",
       "    }\n",
       "\n",
       "    .dataframe thead th {\n",
       "        text-align: right;\n",
       "    }\n",
       "</style>\n",
       "<table border=\"1\" class=\"dataframe\">\n",
       "  <thead>\n",
       "    <tr style=\"text-align: right;\">\n",
       "      <th></th>\n",
       "      <th>sepal_length</th>\n",
       "      <th>sepal_width</th>\n",
       "      <th>petal_length</th>\n",
       "      <th>petal_width</th>\n",
       "      <th>variety</th>\n",
       "      <th>origin</th>\n",
       "    </tr>\n",
       "  </thead>\n",
       "  <tbody>\n",
       "    <tr>\n",
       "      <th>0</th>\n",
       "      <td>5.6</td>\n",
       "      <td>3.0</td>\n",
       "      <td>4.1</td>\n",
       "      <td>1.3</td>\n",
       "      <td>New2 Versicolor</td>\n",
       "      <td>Unknown</td>\n",
       "    </tr>\n",
       "    <tr>\n",
       "      <th>1</th>\n",
       "      <td>6.3</td>\n",
       "      <td>2.5</td>\n",
       "      <td>4.9</td>\n",
       "      <td>1.5</td>\n",
       "      <td>Versicolor</td>\n",
       "      <td>Unknown</td>\n",
       "    </tr>\n",
       "    <tr>\n",
       "      <th>2</th>\n",
       "      <td>5.4</td>\n",
       "      <td>3.4</td>\n",
       "      <td>1.7</td>\n",
       "      <td>0.2</td>\n",
       "      <td>Setosa</td>\n",
       "      <td>Unknown</td>\n",
       "    </tr>\n",
       "    <tr>\n",
       "      <th>3</th>\n",
       "      <td>5.4</td>\n",
       "      <td>3.9</td>\n",
       "      <td>1.3</td>\n",
       "      <td>0.4</td>\n",
       "      <td>Setosa</td>\n",
       "      <td>Unknown</td>\n",
       "    </tr>\n",
       "    <tr>\n",
       "      <th>4</th>\n",
       "      <td>6.5</td>\n",
       "      <td>3.0</td>\n",
       "      <td>5.2</td>\n",
       "      <td>2.0</td>\n",
       "      <td>Virginica</td>\n",
       "      <td>Unknown</td>\n",
       "    </tr>\n",
       "  </tbody>\n",
       "</table>\n",
       "</div>"
      ],
      "text/plain": [
       "   sepal_length  sepal_width  petal_length  petal_width          variety  \\\n",
       "0           5.6          3.0           4.1          1.3  New2 Versicolor   \n",
       "1           6.3          2.5           4.9          1.5       Versicolor   \n",
       "2           5.4          3.4           1.7          0.2           Setosa   \n",
       "3           5.4          3.9           1.3          0.4           Setosa   \n",
       "4           6.5          3.0           5.2          2.0        Virginica   \n",
       "\n",
       "    origin  \n",
       "0  Unknown  \n",
       "1  Unknown  \n",
       "2  Unknown  \n",
       "3  Unknown  \n",
       "4  Unknown  "
      ]
     },
     "execution_count": 38,
     "metadata": {},
     "output_type": "execute_result"
    }
   ],
   "source": [
    "# Creates or Replaces a column with a numpy array or a simple list.\n",
    "iris_sampled.loc[:,'origin'] = ['Unknown'] * len(iris_sampled) \n",
    "iris_sampled"
   ]
  },
  {
   "cell_type": "code",
   "execution_count": 39,
   "metadata": {
    "ExecuteTime": {
     "end_time": "2020-09-27T20:39:28.908285Z",
     "start_time": "2020-09-27T20:39:28.884285Z"
    },
    "hidden": true,
    "id": "3BkVnAw8XsSy",
    "outputId": "882bdbc2-daab-4dd5-d5c8-748d21ca2db7"
   },
   "outputs": [
    {
     "data": {
      "text/html": [
       "<div>\n",
       "<style scoped>\n",
       "    .dataframe tbody tr th:only-of-type {\n",
       "        vertical-align: middle;\n",
       "    }\n",
       "\n",
       "    .dataframe tbody tr th {\n",
       "        vertical-align: top;\n",
       "    }\n",
       "\n",
       "    .dataframe thead th {\n",
       "        text-align: right;\n",
       "    }\n",
       "</style>\n",
       "<table border=\"1\" class=\"dataframe\">\n",
       "  <thead>\n",
       "    <tr style=\"text-align: right;\">\n",
       "      <th></th>\n",
       "      <th>sepal_length</th>\n",
       "      <th>sepal_width</th>\n",
       "      <th>petal_length</th>\n",
       "      <th>petal_width</th>\n",
       "      <th>variety</th>\n",
       "      <th>origin</th>\n",
       "    </tr>\n",
       "  </thead>\n",
       "  <tbody>\n",
       "    <tr>\n",
       "      <th>0</th>\n",
       "      <td>5.6</td>\n",
       "      <td>3.0</td>\n",
       "      <td>4.1</td>\n",
       "      <td>1.3</td>\n",
       "      <td>New2 Versicolor</td>\n",
       "      <td>Unk</td>\n",
       "    </tr>\n",
       "    <tr>\n",
       "      <th>1</th>\n",
       "      <td>6.3</td>\n",
       "      <td>2.5</td>\n",
       "      <td>4.9</td>\n",
       "      <td>1.5</td>\n",
       "      <td>Versicolor</td>\n",
       "      <td>Unk</td>\n",
       "    </tr>\n",
       "    <tr>\n",
       "      <th>2</th>\n",
       "      <td>5.4</td>\n",
       "      <td>3.4</td>\n",
       "      <td>1.7</td>\n",
       "      <td>0.2</td>\n",
       "      <td>Setosa</td>\n",
       "      <td>Unk</td>\n",
       "    </tr>\n",
       "    <tr>\n",
       "      <th>3</th>\n",
       "      <td>5.4</td>\n",
       "      <td>3.9</td>\n",
       "      <td>1.3</td>\n",
       "      <td>0.4</td>\n",
       "      <td>Setosa</td>\n",
       "      <td>Unk</td>\n",
       "    </tr>\n",
       "    <tr>\n",
       "      <th>4</th>\n",
       "      <td>6.5</td>\n",
       "      <td>3.0</td>\n",
       "      <td>5.2</td>\n",
       "      <td>2.0</td>\n",
       "      <td>Virginica</td>\n",
       "      <td>Unk</td>\n",
       "    </tr>\n",
       "  </tbody>\n",
       "</table>\n",
       "</div>"
      ],
      "text/plain": [
       "   sepal_length  sepal_width  petal_length  petal_width          variety  \\\n",
       "0           5.6          3.0           4.1          1.3  New2 Versicolor   \n",
       "1           6.3          2.5           4.9          1.5       Versicolor   \n",
       "2           5.4          3.4           1.7          0.2           Setosa   \n",
       "3           5.4          3.9           1.3          0.4           Setosa   \n",
       "4           6.5          3.0           5.2          2.0        Virginica   \n",
       "\n",
       "  origin  \n",
       "0    Unk  \n",
       "1    Unk  \n",
       "2    Unk  \n",
       "3    Unk  \n",
       "4    Unk  "
      ]
     },
     "execution_count": 39,
     "metadata": {},
     "output_type": "execute_result"
    }
   ],
   "source": [
    "# Equivalent to the previous\n",
    "iris_sampled['origin'] = ['Unk'] * len(iris_sampled) \n",
    "iris_sampled"
   ]
  },
  {
   "cell_type": "code",
   "execution_count": 40,
   "metadata": {
    "ExecuteTime": {
     "end_time": "2020-09-27T20:39:28.932284Z",
     "start_time": "2020-09-27T20:39:28.908285Z"
    },
    "hidden": true,
    "id": "TbdMW4oOXsS0",
    "outputId": "d7260a18-34ac-4ef3-d7df-c9b45c45dd61"
   },
   "outputs": [
    {
     "data": {
      "text/html": [
       "<div>\n",
       "<style scoped>\n",
       "    .dataframe tbody tr th:only-of-type {\n",
       "        vertical-align: middle;\n",
       "    }\n",
       "\n",
       "    .dataframe tbody tr th {\n",
       "        vertical-align: top;\n",
       "    }\n",
       "\n",
       "    .dataframe thead th {\n",
       "        text-align: right;\n",
       "    }\n",
       "</style>\n",
       "<table border=\"1\" class=\"dataframe\">\n",
       "  <thead>\n",
       "    <tr style=\"text-align: right;\">\n",
       "      <th></th>\n",
       "      <th>sepal_length</th>\n",
       "      <th>sepal_width</th>\n",
       "      <th>petal_length</th>\n",
       "      <th>petal_width</th>\n",
       "      <th>variety</th>\n",
       "      <th>origin</th>\n",
       "    </tr>\n",
       "  </thead>\n",
       "  <tbody>\n",
       "    <tr>\n",
       "      <th>0</th>\n",
       "      <td>5.6</td>\n",
       "      <td>3.0</td>\n",
       "      <td>4.1</td>\n",
       "      <td>1.3</td>\n",
       "      <td>New2 Versicolor</td>\n",
       "      <td>Unk</td>\n",
       "    </tr>\n",
       "    <tr>\n",
       "      <th>1</th>\n",
       "      <td>6.3</td>\n",
       "      <td>2.5</td>\n",
       "      <td>4.9</td>\n",
       "      <td>1.5</td>\n",
       "      <td>Versicolor</td>\n",
       "      <td>Unk</td>\n",
       "    </tr>\n",
       "    <tr>\n",
       "      <th>2</th>\n",
       "      <td>5.4</td>\n",
       "      <td>3.4</td>\n",
       "      <td>1.7</td>\n",
       "      <td>0.2</td>\n",
       "      <td>Setosa</td>\n",
       "      <td>Unk</td>\n",
       "    </tr>\n",
       "    <tr>\n",
       "      <th>3</th>\n",
       "      <td>5.4</td>\n",
       "      <td>3.9</td>\n",
       "      <td>1.3</td>\n",
       "      <td>0.4</td>\n",
       "      <td>Setosa</td>\n",
       "      <td>Unk</td>\n",
       "    </tr>\n",
       "    <tr>\n",
       "      <th>4</th>\n",
       "      <td>6.5</td>\n",
       "      <td>3.0</td>\n",
       "      <td>5.2</td>\n",
       "      <td>2.0</td>\n",
       "      <td>Virginica</td>\n",
       "      <td>Unk</td>\n",
       "    </tr>\n",
       "  </tbody>\n",
       "</table>\n",
       "</div>"
      ],
      "text/plain": [
       "   sepal_length  sepal_width  petal_length  petal_width          variety  \\\n",
       "0           5.6          3.0           4.1          1.3  New2 Versicolor   \n",
       "1           6.3          2.5           4.9          1.5       Versicolor   \n",
       "2           5.4          3.4           1.7          0.2           Setosa   \n",
       "3           5.4          3.9           1.3          0.4           Setosa   \n",
       "4           6.5          3.0           5.2          2.0        Virginica   \n",
       "\n",
       "  origin  \n",
       "0    Unk  \n",
       "1    Unk  \n",
       "2    Unk  \n",
       "3    Unk  \n",
       "4    Unk  "
      ]
     },
     "execution_count": 40,
     "metadata": {},
     "output_type": "execute_result"
    }
   ],
   "source": [
    "# Removes all rows with any missing values\n",
    "iris_sampled.dropna(how='any') \n",
    "\n",
    "# Removes all rows with all missing values\n",
    "iris_sampled.dropna(how='all')"
   ]
  },
  {
   "cell_type": "markdown",
   "metadata": {
    "hidden": true,
    "id": "plGuSbUGxd53"
   },
   "source": [
    "A menudo es útil crear nuevas columnas basadas en las existentes utilizando una función. Las nuevas columnas a menudo se denominan características derivadas:"
   ]
  },
  {
   "cell_type": "code",
   "execution_count": 41,
   "metadata": {
    "ExecuteTime": {
     "end_time": "2020-09-27T20:39:28.972285Z",
     "start_time": "2020-09-27T20:39:28.932284Z"
    },
    "colab": {
     "base_uri": "https://localhost:8080/",
     "height": 52
    },
    "executionInfo": {
     "elapsed": 2984,
     "status": "ok",
     "timestamp": 1570733020487,
     "user": {
      "displayName": "juglar dz",
      "photoUrl": "https://lh3.googleusercontent.com/a-/AAuE7mA1DqHpo0uIqr28CIWTIn2X_ju4mgBCSYFxbVQatA=s64",
      "userId": "14270876077972191340"
     },
     "user_tz": 180
    },
    "hidden": true,
    "id": "WPuaOmJMxeGj",
    "outputId": "3cf5a52f-486c-43e5-93cf-2d669e313ddb"
   },
   "outputs": [
    {
     "data": {
      "text/html": [
       "<div>\n",
       "<style scoped>\n",
       "    .dataframe tbody tr th:only-of-type {\n",
       "        vertical-align: middle;\n",
       "    }\n",
       "\n",
       "    .dataframe tbody tr th {\n",
       "        vertical-align: top;\n",
       "    }\n",
       "\n",
       "    .dataframe thead th {\n",
       "        text-align: right;\n",
       "    }\n",
       "</style>\n",
       "<table border=\"1\" class=\"dataframe\">\n",
       "  <thead>\n",
       "    <tr style=\"text-align: right;\">\n",
       "      <th></th>\n",
       "      <th>sepal_length</th>\n",
       "      <th>sepal_width</th>\n",
       "      <th>petal_length</th>\n",
       "      <th>petal_width</th>\n",
       "      <th>variety</th>\n",
       "      <th>origin</th>\n",
       "      <th>color</th>\n",
       "    </tr>\n",
       "  </thead>\n",
       "  <tbody>\n",
       "    <tr>\n",
       "      <th>0</th>\n",
       "      <td>5.6</td>\n",
       "      <td>3.0</td>\n",
       "      <td>4.1</td>\n",
       "      <td>1.3</td>\n",
       "      <td>New2 Versicolor</td>\n",
       "      <td>Unk</td>\n",
       "      <td>New2 Versicolor New Column</td>\n",
       "    </tr>\n",
       "    <tr>\n",
       "      <th>1</th>\n",
       "      <td>6.3</td>\n",
       "      <td>2.5</td>\n",
       "      <td>4.9</td>\n",
       "      <td>1.5</td>\n",
       "      <td>Versicolor</td>\n",
       "      <td>Unk</td>\n",
       "      <td>Versicolor New Column</td>\n",
       "    </tr>\n",
       "    <tr>\n",
       "      <th>2</th>\n",
       "      <td>5.4</td>\n",
       "      <td>3.4</td>\n",
       "      <td>1.7</td>\n",
       "      <td>0.2</td>\n",
       "      <td>Setosa</td>\n",
       "      <td>Unk</td>\n",
       "      <td>Setosa New Column</td>\n",
       "    </tr>\n",
       "    <tr>\n",
       "      <th>3</th>\n",
       "      <td>5.4</td>\n",
       "      <td>3.9</td>\n",
       "      <td>1.3</td>\n",
       "      <td>0.4</td>\n",
       "      <td>Setosa</td>\n",
       "      <td>Unk</td>\n",
       "      <td>Setosa New Column</td>\n",
       "    </tr>\n",
       "    <tr>\n",
       "      <th>4</th>\n",
       "      <td>6.5</td>\n",
       "      <td>3.0</td>\n",
       "      <td>5.2</td>\n",
       "      <td>2.0</td>\n",
       "      <td>Virginica</td>\n",
       "      <td>Unk</td>\n",
       "      <td>Virginica New Column</td>\n",
       "    </tr>\n",
       "  </tbody>\n",
       "</table>\n",
       "</div>"
      ],
      "text/plain": [
       "   sepal_length  sepal_width  petal_length  petal_width          variety  \\\n",
       "0           5.6          3.0           4.1          1.3  New2 Versicolor   \n",
       "1           6.3          2.5           4.9          1.5       Versicolor   \n",
       "2           5.4          3.4           1.7          0.2           Setosa   \n",
       "3           5.4          3.9           1.3          0.4           Setosa   \n",
       "4           6.5          3.0           5.2          2.0        Virginica   \n",
       "\n",
       "  origin                       color  \n",
       "0    Unk  New2 Versicolor New Column  \n",
       "1    Unk       Versicolor New Column  \n",
       "2    Unk           Setosa New Column  \n",
       "3    Unk           Setosa New Column  \n",
       "4    Unk        Virginica New Column  "
      ]
     },
     "execution_count": 41,
     "metadata": {},
     "output_type": "execute_result"
    }
   ],
   "source": [
    "def f(x):\n",
    "    return x + ' New Column'\n",
    "\n",
    "# Uses the unary function f to create a new column based on an existing one\n",
    "iris_sampled['color'] = f(iris_sampled.variety) \n",
    "iris_sampled"
   ]
  },
  {
   "cell_type": "code",
   "execution_count": 42,
   "metadata": {
    "ExecuteTime": {
     "end_time": "2020-09-27T20:39:28.996285Z",
     "start_time": "2020-09-27T20:39:28.972285Z"
    },
    "hidden": true,
    "id": "mUrXg6H0XsS4",
    "outputId": "eb1269f6-a65b-4218-ebbd-89b987d2fd68"
   },
   "outputs": [
    {
     "data": {
      "text/html": [
       "<div>\n",
       "<style scoped>\n",
       "    .dataframe tbody tr th:only-of-type {\n",
       "        vertical-align: middle;\n",
       "    }\n",
       "\n",
       "    .dataframe tbody tr th {\n",
       "        vertical-align: top;\n",
       "    }\n",
       "\n",
       "    .dataframe thead th {\n",
       "        text-align: right;\n",
       "    }\n",
       "</style>\n",
       "<table border=\"1\" class=\"dataframe\">\n",
       "  <thead>\n",
       "    <tr style=\"text-align: right;\">\n",
       "      <th></th>\n",
       "      <th>sepal_length</th>\n",
       "      <th>sepal_width</th>\n",
       "      <th>petal_length</th>\n",
       "      <th>petal_width</th>\n",
       "      <th>variety</th>\n",
       "      <th>origin</th>\n",
       "      <th>color</th>\n",
       "      <th>new col</th>\n",
       "    </tr>\n",
       "  </thead>\n",
       "  <tbody>\n",
       "    <tr>\n",
       "      <th>0</th>\n",
       "      <td>5.6</td>\n",
       "      <td>3.0</td>\n",
       "      <td>4.1</td>\n",
       "      <td>1.3</td>\n",
       "      <td>New2 Versicolor</td>\n",
       "      <td>Unk</td>\n",
       "      <td>New2 Versicolor New Column</td>\n",
       "      <td>New2 Versicolor_Unk</td>\n",
       "    </tr>\n",
       "    <tr>\n",
       "      <th>1</th>\n",
       "      <td>6.3</td>\n",
       "      <td>2.5</td>\n",
       "      <td>4.9</td>\n",
       "      <td>1.5</td>\n",
       "      <td>Versicolor</td>\n",
       "      <td>Unk</td>\n",
       "      <td>Versicolor New Column</td>\n",
       "      <td>Versicolor_Unk</td>\n",
       "    </tr>\n",
       "    <tr>\n",
       "      <th>2</th>\n",
       "      <td>5.4</td>\n",
       "      <td>3.4</td>\n",
       "      <td>1.7</td>\n",
       "      <td>0.2</td>\n",
       "      <td>Setosa</td>\n",
       "      <td>Unk</td>\n",
       "      <td>Setosa New Column</td>\n",
       "      <td>Setosa_Unk</td>\n",
       "    </tr>\n",
       "    <tr>\n",
       "      <th>3</th>\n",
       "      <td>5.4</td>\n",
       "      <td>3.9</td>\n",
       "      <td>1.3</td>\n",
       "      <td>0.4</td>\n",
       "      <td>Setosa</td>\n",
       "      <td>Unk</td>\n",
       "      <td>Setosa New Column</td>\n",
       "      <td>Setosa_Unk</td>\n",
       "    </tr>\n",
       "    <tr>\n",
       "      <th>4</th>\n",
       "      <td>6.5</td>\n",
       "      <td>3.0</td>\n",
       "      <td>5.2</td>\n",
       "      <td>2.0</td>\n",
       "      <td>Virginica</td>\n",
       "      <td>Unk</td>\n",
       "      <td>Virginica New Column</td>\n",
       "      <td>Virginica_Unk</td>\n",
       "    </tr>\n",
       "  </tbody>\n",
       "</table>\n",
       "</div>"
      ],
      "text/plain": [
       "   sepal_length  sepal_width  petal_length  petal_width          variety  \\\n",
       "0           5.6          3.0           4.1          1.3  New2 Versicolor   \n",
       "1           6.3          2.5           4.9          1.5       Versicolor   \n",
       "2           5.4          3.4           1.7          0.2           Setosa   \n",
       "3           5.4          3.9           1.3          0.4           Setosa   \n",
       "4           6.5          3.0           5.2          2.0        Virginica   \n",
       "\n",
       "  origin                       color              new col  \n",
       "0    Unk  New2 Versicolor New Column  New2 Versicolor_Unk  \n",
       "1    Unk       Versicolor New Column       Versicolor_Unk  \n",
       "2    Unk           Setosa New Column           Setosa_Unk  \n",
       "3    Unk           Setosa New Column           Setosa_Unk  \n",
       "4    Unk        Virginica New Column        Virginica_Unk  "
      ]
     },
     "execution_count": 42,
     "metadata": {},
     "output_type": "execute_result"
    }
   ],
   "source": [
    "def g(x, y):\n",
    "    return x + '_' + y\n",
    "\n",
    "# create a new column based on 2 existing columns\n",
    "iris_sampled['new col'] = g(iris_sampled.variety, iris_sampled.origin)\n",
    "iris_sampled"
   ]
  },
  {
   "cell_type": "markdown",
   "metadata": {
    "heading_collapsed": true,
    "hidden": true,
    "id": "ncWSCnEoXsS6"
   },
   "source": [
    "## Guardar/exportar dataframes como .csv"
   ]
  },
  {
   "cell_type": "code",
   "execution_count": 43,
   "metadata": {
    "ExecuteTime": {
     "end_time": "2020-09-27T20:39:29.012284Z",
     "start_time": "2020-09-27T20:39:28.996285Z"
    },
    "hidden": true,
    "id": "39slFFyTXsS6"
   },
   "outputs": [],
   "source": [
    "iris_sampled.to_csv('iris_sampled.csv', index=False)"
   ]
  },
  {
   "cell_type": "markdown",
   "metadata": {
    "heading_collapsed": true,
    "hidden": true,
    "id": "nHYLnDs8xeT_"
   },
   "source": [
    "## Visualizar datos"
   ]
  },
  {
   "cell_type": "code",
   "execution_count": 44,
   "metadata": {
    "ExecuteTime": {
     "end_time": "2020-09-27T20:39:30.044284Z",
     "start_time": "2020-09-27T20:39:29.012284Z"
    },
    "hidden": true,
    "id": "SsKH3UVzxegm"
   },
   "outputs": [],
   "source": [
    "import matplotlib.pyplot as plt\n",
    "from sklearn import preprocessing\n",
    "\n",
    "%matplotlib inline"
   ]
  },
  {
   "cell_type": "code",
   "execution_count": 45,
   "metadata": {
    "ExecuteTime": {
     "end_time": "2020-09-27T20:39:30.404284Z",
     "start_time": "2020-09-27T20:39:30.044284Z"
    },
    "colab": {
     "base_uri": "https://localhost:8080/",
     "height": 286
    },
    "executionInfo": {
     "elapsed": 3595,
     "status": "ok",
     "timestamp": 1570733021110,
     "user": {
      "displayName": "juglar dz",
      "photoUrl": "https://lh3.googleusercontent.com/a-/AAuE7mA1DqHpo0uIqr28CIWTIn2X_ju4mgBCSYFxbVQatA=s64",
      "userId": "14270876077972191340"
     },
     "user_tz": 180
    },
    "hidden": true,
    "id": "RH9FX4eIP5jb",
    "outputId": "ec5c1440-bd8d-4b66-be92-60b823155bc2"
   },
   "outputs": [
    {
     "data": {
      "text/plain": [
       "<AxesSubplot:>"
      ]
     },
     "execution_count": 45,
     "metadata": {},
     "output_type": "execute_result"
    },
    {
     "data": {
      "image/png": "[encoded data removed]",
      "text/plain": [
       "<Figure size 432x288 with 1 Axes>"
      ]
     },
     "metadata": {
      "needs_background": "light"
     },
     "output_type": "display_data"
    }
   ],
   "source": [
    "#In this plot we can see a separation between the classes\n",
    "iris_df.plot()"
   ]
  },
  {
   "cell_type": "code",
   "execution_count": 46,
   "metadata": {
    "ExecuteTime": {
     "end_time": "2020-09-27T20:39:30.692285Z",
     "start_time": "2020-09-27T20:39:30.404284Z"
    },
    "colab": {
     "base_uri": "https://localhost:8080/",
     "height": 286
    },
    "executionInfo": {
     "elapsed": 4555,
     "status": "ok",
     "timestamp": 1570733022078,
     "user": {
      "displayName": "juglar dz",
      "photoUrl": "https://lh3.googleusercontent.com/a-/AAuE7mA1DqHpo0uIqr28CIWTIn2X_ju4mgBCSYFxbVQatA=s64",
      "userId": "14270876077972191340"
     },
     "user_tz": 180
    },
    "hidden": true,
    "id": "E01zxVY8P5sD",
    "outputId": "6db4e06f-f991-480c-855e-bbbebd2a755c"
   },
   "outputs": [
    {
     "data": {
      "text/plain": [
       "<AxesSubplot:>"
      ]
     },
     "execution_count": 46,
     "metadata": {},
     "output_type": "execute_result"
    },
    {
     "data": {
      "image/png": "[encoded data removed]",
      "text/plain": [
       "<Figure size 432x288 with 1 Axes>"
      ]
     },
     "metadata": {
      "needs_background": "light"
     },
     "output_type": "display_data"
    }
   ],
   "source": [
    "#Box plot of each column\n",
    "iris_df.plot(kind='box')"
   ]
  },
  {
   "cell_type": "code",
   "execution_count": 47,
   "metadata": {
    "ExecuteTime": {
     "end_time": "2020-09-27T20:39:30.700286Z",
     "start_time": "2020-09-27T20:39:30.692285Z"
    },
    "hidden": true,
    "id": "cAK5Y2wRR5Ck"
   },
   "outputs": [],
   "source": [
    "plt.style.use('ggplot')"
   ]
  },
  {
   "cell_type": "code",
   "execution_count": 48,
   "metadata": {
    "ExecuteTime": {
     "end_time": "2020-09-27T20:39:30.965097Z",
     "start_time": "2020-09-27T20:39:30.700286Z"
    },
    "colab": {
     "base_uri": "https://localhost:8080/",
     "height": 286
    },
    "executionInfo": {
     "elapsed": 4545,
     "status": "ok",
     "timestamp": 1570733022080,
     "user": {
      "displayName": "juglar dz",
      "photoUrl": "https://lh3.googleusercontent.com/a-/AAuE7mA1DqHpo0uIqr28CIWTIn2X_ju4mgBCSYFxbVQatA=s64",
      "userId": "14270876077972191340"
     },
     "user_tz": 180
    },
    "hidden": true,
    "id": "v5Y7X4c1P5p_",
    "outputId": "c27f43fb-f7b1-4b47-ab71-c7af139819ad"
   },
   "outputs": [
    {
     "data": {
      "text/plain": [
       "<AxesSubplot:>"
      ]
     },
     "execution_count": 48,
     "metadata": {},
     "output_type": "execute_result"
    },
    {
     "data": {
      "image/png": "[encoded data removed]",
      "text/plain": [
       "<Figure size 432x288 with 1 Axes>"
      ]
     },
     "metadata": {},
     "output_type": "display_data"
    }
   ],
   "source": [
    "#Histogram of one column\n",
    "iris_df['sepal_length'].hist()"
   ]
  },
  {
   "cell_type": "code",
   "execution_count": 49,
   "metadata": {
    "ExecuteTime": {
     "end_time": "2020-09-27T20:39:30.981121Z",
     "start_time": "2020-09-27T20:39:30.965097Z"
    },
    "hidden": true,
    "id": "RRNq3LJy9643"
   },
   "outputs": [],
   "source": [
    "# We separate the predictor variables and the target values \n",
    "# The target column 'variety' is aggregated as a new column 'y' with encoded labels\n",
    "\n",
    "X = pd.DataFrame(iris_df[[\"sepal_length\",\"sepal_width\",\"petal_length\",\"petal_width\"]])\n",
    "y = list(iris_df[\"variety\"])\n",
    "le = preprocessing.LabelEncoder() #Encode target labels with value between 0 and n_classes-1.\n",
    "y = le.fit_transform(y)\n",
    "iris_df[\"y\"] = y"
   ]
  },
  {
   "cell_type": "code",
   "execution_count": 50,
   "metadata": {
    "ExecuteTime": {
     "end_time": "2020-09-27T20:39:31.005094Z",
     "start_time": "2020-09-27T20:39:30.981121Z"
    },
    "hidden": true,
    "id": "VS-B1OqKXsTG",
    "outputId": "0d379a2e-d62e-42bc-9af9-077801b26459"
   },
   "outputs": [
    {
     "data": {
      "text/html": [
       "<div>\n",
       "<style scoped>\n",
       "    .dataframe tbody tr th:only-of-type {\n",
       "        vertical-align: middle;\n",
       "    }\n",
       "\n",
       "    .dataframe tbody tr th {\n",
       "        vertical-align: top;\n",
       "    }\n",
       "\n",
       "    .dataframe thead th {\n",
       "        text-align: right;\n",
       "    }\n",
       "</style>\n",
       "<table border=\"1\" class=\"dataframe\">\n",
       "  <thead>\n",
       "    <tr style=\"text-align: right;\">\n",
       "      <th></th>\n",
       "      <th></th>\n",
       "      <th>sepal_length</th>\n",
       "      <th>sepal_width</th>\n",
       "      <th>petal_length</th>\n",
       "      <th>petal_width</th>\n",
       "    </tr>\n",
       "    <tr>\n",
       "      <th>y</th>\n",
       "      <th>variety</th>\n",
       "      <th></th>\n",
       "      <th></th>\n",
       "      <th></th>\n",
       "      <th></th>\n",
       "    </tr>\n",
       "  </thead>\n",
       "  <tbody>\n",
       "    <tr>\n",
       "      <th>0</th>\n",
       "      <th>Setosa</th>\n",
       "      <td>50</td>\n",
       "      <td>50</td>\n",
       "      <td>50</td>\n",
       "      <td>50</td>\n",
       "    </tr>\n",
       "    <tr>\n",
       "      <th>1</th>\n",
       "      <th>Versicolor</th>\n",
       "      <td>50</td>\n",
       "      <td>50</td>\n",
       "      <td>50</td>\n",
       "      <td>50</td>\n",
       "    </tr>\n",
       "    <tr>\n",
       "      <th>2</th>\n",
       "      <th>Virginica</th>\n",
       "      <td>50</td>\n",
       "      <td>50</td>\n",
       "      <td>50</td>\n",
       "      <td>50</td>\n",
       "    </tr>\n",
       "  </tbody>\n",
       "</table>\n",
       "</div>"
      ],
      "text/plain": [
       "              sepal_length  sepal_width  petal_length  petal_width\n",
       "y variety                                                         \n",
       "0 Setosa                50           50            50           50\n",
       "1 Versicolor            50           50            50           50\n",
       "2 Virginica             50           50            50           50"
      ]
     },
     "execution_count": 50,
     "metadata": {},
     "output_type": "execute_result"
    }
   ],
   "source": [
    "# 'y' corresponds to 0=Setosa, 1=Versicolor,2=Virginica)\n",
    "iris_df.groupby(['y', 'variety']).count()"
   ]
  },
  {
   "cell_type": "code",
   "execution_count": 51,
   "metadata": {
    "ExecuteTime": {
     "end_time": "2020-09-27T20:39:31.613093Z",
     "start_time": "2020-09-27T20:39:31.005094Z"
    },
    "hidden": true,
    "id": "ph7p0npZXsTH",
    "outputId": "9885b554-c920-431c-8587-94e0e3254717"
   },
   "outputs": [
    {
     "data": {
      "image/png": "[encoded data removed]",
      "text/plain": [
       "<Figure size 432x288 with 2 Axes>"
      ]
     },
     "metadata": {},
     "output_type": "display_data"
    }
   ],
   "source": [
    "#Plotting classes by two columns\n",
    "iris_df.plot.scatter(x=\"sepal_length\", y=\"sepal_width\", c=\"y\", colormap='viridis');"
   ]
  },
  {
   "cell_type": "code",
   "execution_count": 52,
   "metadata": {
    "ExecuteTime": {
     "end_time": "2020-09-27T20:39:32.213094Z",
     "start_time": "2020-09-27T20:39:31.613093Z"
    },
    "hidden": true,
    "id": "Q9HZvr1HXsTJ",
    "outputId": "87124929-c43a-482e-8453-2f241c2bcdef"
   },
   "outputs": [
    {
     "data": {
      "image/png": "[encoded data removed]",
      "text/plain": [
       "<Figure size 432x288 with 2 Axes>"
      ]
     },
     "metadata": {},
     "output_type": "display_data"
    }
   ],
   "source": [
    "#Now by the other two columns\n",
    "iris_df.plot.scatter(\"petal_length\",\"petal_width\", c=\"y\", colormap='viridis');"
   ]
  },
  {
   "cell_type": "code",
   "execution_count": 53,
   "metadata": {
    "ExecuteTime": {
     "end_time": "2020-09-27T20:39:33.997096Z",
     "start_time": "2020-09-27T20:39:32.213094Z"
    },
    "hidden": true,
    "id": "0oA8ytEDXsTL",
    "outputId": "2959cc34-fae8-4065-b11b-49a850ce9260"
   },
   "outputs": [
    {
     "data": {
      "image/png": "[encoded data removed]",
      "text/plain": [
       "<Figure size 1080x1080 with 16 Axes>"
      ]
     },
     "metadata": {},
     "output_type": "display_data"
    }
   ],
   "source": [
    "# Generalizing the previous plots\n",
    "# Create a scatter matrix from the dataframe, color by class\n",
    "pd.plotting.scatter_matrix(X, c=y, figsize=(15, 15), marker='o',\n",
    "                                 hist_kwds={'bins': 20}, s=60, alpha=.8);"
   ]
  },
  {
   "cell_type": "markdown",
   "metadata": {
    "heading_collapsed": true,
    "hidden": true,
    "id": "gx96Yn6dxfKl"
   },
   "source": [
    "## Datos de series de tiempo"
   ]
  },
  {
   "cell_type": "code",
   "execution_count": 54,
   "metadata": {
    "ExecuteTime": {
     "end_time": "2020-09-27T20:39:49.169645Z",
     "start_time": "2020-09-27T20:39:33.997096Z"
    },
    "hidden": true,
    "id": "H_wWRq9iXsTN",
    "outputId": "0ffdf48c-0069-44ef-b767-d0186016fb80"
   },
   "outputs": [
    {
     "data": {
      "text/plain": [
       "(269187, 7)"
      ]
     },
     "execution_count": 54,
     "metadata": {},
     "output_type": "execute_result"
    }
   ],
   "source": [
    "#Para mostrar las capacidades de series de tiempo con pandas, exploraremos un conjunto de tweets de Chile.\n",
    "tweets = pd.read_csv('https://users.dcc.uchile.cl/~judiaz/DataMining/datasets/tweets.csv')\n",
    "tweets.shape"
   ]
  },
  {
   "cell_type": "code",
   "execution_count": 55,
   "metadata": {
    "ExecuteTime": {
     "end_time": "2020-09-27T20:39:49.201643Z",
     "start_time": "2020-09-27T20:39:49.169645Z"
    },
    "hidden": true,
    "id": "lLVWlHuUjwYk",
    "outputId": "0c64f5eb-abbf-46d9-b9bf-59aa74efb6f3"
   },
   "outputs": [
    {
     "data": {
      "text/html": [
       "<div>\n",
       "<style scoped>\n",
       "    .dataframe tbody tr th:only-of-type {\n",
       "        vertical-align: middle;\n",
       "    }\n",
       "\n",
       "    .dataframe tbody tr th {\n",
       "        vertical-align: top;\n",
       "    }\n",
       "\n",
       "    .dataframe thead th {\n",
       "        text-align: right;\n",
       "    }\n",
       "</style>\n",
       "<table border=\"1\" class=\"dataframe\">\n",
       "  <thead>\n",
       "    <tr style=\"text-align: right;\">\n",
       "      <th></th>\n",
       "      <th>created_at</th>\n",
       "      <th>idTweet</th>\n",
       "      <th>idUser</th>\n",
       "      <th>latitude</th>\n",
       "      <th>longitude</th>\n",
       "      <th>tweet</th>\n",
       "      <th>texts</th>\n",
       "    </tr>\n",
       "  </thead>\n",
       "  <tbody>\n",
       "    <tr>\n",
       "      <th>0</th>\n",
       "      <td>2016-06-01 00:00:35</td>\n",
       "      <td>737795943467253761</td>\n",
       "      <td>112908419</td>\n",
       "      <td>-33.4466</td>\n",
       "      <td>-70.6512</td>\n",
       "      <td>El nuevo lugar favorito :3 (@ Pazzi Di Pizza) ...</td>\n",
       "      <td>nuevo lugar favorito pazzi pizza _http_</td>\n",
       "    </tr>\n",
       "    <tr>\n",
       "      <th>1</th>\n",
       "      <td>2016-06-01 00:01:03</td>\n",
       "      <td>737796064179281920</td>\n",
       "      <td>2427490410</td>\n",
       "      <td>-33.4533</td>\n",
       "      <td>-70.5434</td>\n",
       "      <td>#CONECTOR REPUESTO BNC Y DC  https://t.co/jHxH...</td>\n",
       "      <td>conector repuesto bnc _http_ seguridad chile v...</td>\n",
       "    </tr>\n",
       "    <tr>\n",
       "      <th>2</th>\n",
       "      <td>2016-06-01 00:01:13</td>\n",
       "      <td>737796104062959617</td>\n",
       "      <td>21530728</td>\n",
       "      <td>-33.5138</td>\n",
       "      <td>-70.6071</td>\n",
       "      <td>I'm at Pacific Fitness in La Florida, Santiago...</td>\n",
       "      <td>pacific fitness florida santiago chile metropo...</td>\n",
       "    </tr>\n",
       "    <tr>\n",
       "      <th>3</th>\n",
       "      <td>2016-06-01 00:02:27</td>\n",
       "      <td>737796415213146112</td>\n",
       "      <td>334990765</td>\n",
       "      <td>-33.1309</td>\n",
       "      <td>-71.5654</td>\n",
       "      <td>I'm at Santa Isabel in Curauma, Región de Valp...</td>\n",
       "      <td>santa isabel curauma regin valparaso _http_</td>\n",
       "    </tr>\n",
       "    <tr>\n",
       "      <th>4</th>\n",
       "      <td>2016-06-01 00:04:14</td>\n",
       "      <td>737796863043248128</td>\n",
       "      <td>84459996</td>\n",
       "      <td>-33.4181</td>\n",
       "      <td>-70.6070</td>\n",
       "      <td>los últimos toques 👌 (at @CostaneraCenter in P...</td>\n",
       "      <td>ltimos toques costaneracenter providencia regi...</td>\n",
       "    </tr>\n",
       "  </tbody>\n",
       "</table>\n",
       "</div>"
      ],
      "text/plain": [
       "            created_at             idTweet      idUser  latitude  longitude  \\\n",
       "0  2016-06-01 00:00:35  737795943467253761   112908419  -33.4466   -70.6512   \n",
       "1  2016-06-01 00:01:03  737796064179281920  2427490410  -33.4533   -70.5434   \n",
       "2  2016-06-01 00:01:13  737796104062959617    21530728  -33.5138   -70.6071   \n",
       "3  2016-06-01 00:02:27  737796415213146112   334990765  -33.1309   -71.5654   \n",
       "4  2016-06-01 00:04:14  737796863043248128    84459996  -33.4181   -70.6070   \n",
       "\n",
       "                                               tweet  \\\n",
       "0  El nuevo lugar favorito :3 (@ Pazzi Di Pizza) ...   \n",
       "1  #CONECTOR REPUESTO BNC Y DC  https://t.co/jHxH...   \n",
       "2  I'm at Pacific Fitness in La Florida, Santiago...   \n",
       "3  I'm at Santa Isabel in Curauma, Región de Valp...   \n",
       "4  los últimos toques 👌 (at @CostaneraCenter in P...   \n",
       "\n",
       "                                               texts  \n",
       "0            nuevo lugar favorito pazzi pizza _http_  \n",
       "1  conector repuesto bnc _http_ seguridad chile v...  \n",
       "2  pacific fitness florida santiago chile metropo...  \n",
       "3        santa isabel curauma regin valparaso _http_  \n",
       "4  ltimos toques costaneracenter providencia regi...  "
      ]
     },
     "execution_count": 55,
     "metadata": {},
     "output_type": "execute_result"
    }
   ],
   "source": [
    "tweets.head()"
   ]
  },
  {
   "cell_type": "markdown",
   "metadata": {
    "hidden": true,
    "id": "TzofcH-nDA4C"
   },
   "source": [
    "Podemos ver que la columna con el nombre \"created_at\" es la fecha. Con pandas podemos indexar dataframes por fecha y hora y realizar operaciones temporales."
   ]
  },
  {
   "cell_type": "code",
   "execution_count": 56,
   "metadata": {
    "ExecuteTime": {
     "end_time": "2020-09-27T20:39:49.521644Z",
     "start_time": "2020-09-27T20:39:49.201643Z"
    },
    "hidden": true,
    "id": "mzuKwcWYjwQl",
    "outputId": "cb6563c3-1271-42e7-8e9a-5f0e335aedee"
   },
   "outputs": [
    {
     "data": {
      "text/html": [
       "<div>\n",
       "<style scoped>\n",
       "    .dataframe tbody tr th:only-of-type {\n",
       "        vertical-align: middle;\n",
       "    }\n",
       "\n",
       "    .dataframe tbody tr th {\n",
       "        vertical-align: top;\n",
       "    }\n",
       "\n",
       "    .dataframe thead th {\n",
       "        text-align: right;\n",
       "    }\n",
       "</style>\n",
       "<table border=\"1\" class=\"dataframe\">\n",
       "  <thead>\n",
       "    <tr style=\"text-align: right;\">\n",
       "      <th></th>\n",
       "      <th>created_at</th>\n",
       "      <th>idTweet</th>\n",
       "      <th>idUser</th>\n",
       "      <th>latitude</th>\n",
       "      <th>longitude</th>\n",
       "      <th>tweet</th>\n",
       "      <th>texts</th>\n",
       "    </tr>\n",
       "    <tr>\n",
       "      <th>created_at</th>\n",
       "      <th></th>\n",
       "      <th></th>\n",
       "      <th></th>\n",
       "      <th></th>\n",
       "      <th></th>\n",
       "      <th></th>\n",
       "      <th></th>\n",
       "    </tr>\n",
       "  </thead>\n",
       "  <tbody>\n",
       "    <tr>\n",
       "      <th>2016-06-01 00:00:35</th>\n",
       "      <td>2016-06-01 00:00:35</td>\n",
       "      <td>737795943467253761</td>\n",
       "      <td>112908419</td>\n",
       "      <td>-33.4466</td>\n",
       "      <td>-70.6512</td>\n",
       "      <td>El nuevo lugar favorito :3 (@ Pazzi Di Pizza) ...</td>\n",
       "      <td>nuevo lugar favorito pazzi pizza _http_</td>\n",
       "    </tr>\n",
       "    <tr>\n",
       "      <th>2016-06-01 00:01:03</th>\n",
       "      <td>2016-06-01 00:01:03</td>\n",
       "      <td>737796064179281920</td>\n",
       "      <td>2427490410</td>\n",
       "      <td>-33.4533</td>\n",
       "      <td>-70.5434</td>\n",
       "      <td>#CONECTOR REPUESTO BNC Y DC  https://t.co/jHxH...</td>\n",
       "      <td>conector repuesto bnc _http_ seguridad chile v...</td>\n",
       "    </tr>\n",
       "    <tr>\n",
       "      <th>2016-06-01 00:01:13</th>\n",
       "      <td>2016-06-01 00:01:13</td>\n",
       "      <td>737796104062959617</td>\n",
       "      <td>21530728</td>\n",
       "      <td>-33.5138</td>\n",
       "      <td>-70.6071</td>\n",
       "      <td>I'm at Pacific Fitness in La Florida, Santiago...</td>\n",
       "      <td>pacific fitness florida santiago chile metropo...</td>\n",
       "    </tr>\n",
       "    <tr>\n",
       "      <th>2016-06-01 00:02:27</th>\n",
       "      <td>2016-06-01 00:02:27</td>\n",
       "      <td>737796415213146112</td>\n",
       "      <td>334990765</td>\n",
       "      <td>-33.1309</td>\n",
       "      <td>-71.5654</td>\n",
       "      <td>I'm at Santa Isabel in Curauma, Región de Valp...</td>\n",
       "      <td>santa isabel curauma regin valparaso _http_</td>\n",
       "    </tr>\n",
       "    <tr>\n",
       "      <th>2016-06-01 00:04:14</th>\n",
       "      <td>2016-06-01 00:04:14</td>\n",
       "      <td>737796863043248128</td>\n",
       "      <td>84459996</td>\n",
       "      <td>-33.4181</td>\n",
       "      <td>-70.6070</td>\n",
       "      <td>los últimos toques 👌 (at @CostaneraCenter in P...</td>\n",
       "      <td>ltimos toques costaneracenter providencia regi...</td>\n",
       "    </tr>\n",
       "  </tbody>\n",
       "</table>\n",
       "</div>"
      ],
      "text/plain": [
       "                              created_at             idTweet      idUser  \\\n",
       "created_at                                                                 \n",
       "2016-06-01 00:00:35  2016-06-01 00:00:35  737795943467253761   112908419   \n",
       "2016-06-01 00:01:03  2016-06-01 00:01:03  737796064179281920  2427490410   \n",
       "2016-06-01 00:01:13  2016-06-01 00:01:13  737796104062959617    21530728   \n",
       "2016-06-01 00:02:27  2016-06-01 00:02:27  737796415213146112   334990765   \n",
       "2016-06-01 00:04:14  2016-06-01 00:04:14  737796863043248128    84459996   \n",
       "\n",
       "                     latitude  longitude  \\\n",
       "created_at                                 \n",
       "2016-06-01 00:00:35  -33.4466   -70.6512   \n",
       "2016-06-01 00:01:03  -33.4533   -70.5434   \n",
       "2016-06-01 00:01:13  -33.5138   -70.6071   \n",
       "2016-06-01 00:02:27  -33.1309   -71.5654   \n",
       "2016-06-01 00:04:14  -33.4181   -70.6070   \n",
       "\n",
       "                                                                 tweet  \\\n",
       "created_at                                                               \n",
       "2016-06-01 00:00:35  El nuevo lugar favorito :3 (@ Pazzi Di Pizza) ...   \n",
       "2016-06-01 00:01:03  #CONECTOR REPUESTO BNC Y DC  https://t.co/jHxH...   \n",
       "2016-06-01 00:01:13  I'm at Pacific Fitness in La Florida, Santiago...   \n",
       "2016-06-01 00:02:27  I'm at Santa Isabel in Curauma, Región de Valp...   \n",
       "2016-06-01 00:04:14  los últimos toques 👌 (at @CostaneraCenter in P...   \n",
       "\n",
       "                                                                 texts  \n",
       "created_at                                                              \n",
       "2016-06-01 00:00:35            nuevo lugar favorito pazzi pizza _http_  \n",
       "2016-06-01 00:01:03  conector repuesto bnc _http_ seguridad chile v...  \n",
       "2016-06-01 00:01:13  pacific fitness florida santiago chile metropo...  \n",
       "2016-06-01 00:02:27        santa isabel curauma regin valparaso _http_  \n",
       "2016-06-01 00:04:14  ltimos toques costaneracenter providencia regi...  "
      ]
     },
     "execution_count": 56,
     "metadata": {},
     "output_type": "execute_result"
    }
   ],
   "source": [
    "tweets.index = pd.DatetimeIndex(tweets[\"created_at\"])\n",
    "tweets.head()"
   ]
  },
  {
   "cell_type": "markdown",
   "metadata": {
    "hidden": true,
    "id": "zOOTfn3bGN6p"
   },
   "source": [
    "Esta función devuelve las `n` palabras más comunes en una lista `L` de textos."
   ]
  },
  {
   "cell_type": "code",
   "execution_count": 57,
   "metadata": {
    "ExecuteTime": {
     "end_time": "2020-09-27T20:39:50.817672Z",
     "start_time": "2020-09-27T20:39:49.521644Z"
    },
    "hidden": true,
    "id": "_Jf3TDETXsTS",
    "outputId": "b8891310-aa6c-4943-9710-86c487d57a12"
   },
   "outputs": [
    {
     "data": {
      "text/plain": [
       "[('_http_', 249261),\n",
       " ('regin', 31690),\n",
       " ('chile', 29330),\n",
       " ('santiago', 28622),\n",
       " ('metropolitana', 21638),\n",
       " ('san', 11674),\n",
       " ('fuego', 8024),\n",
       " ('hoy', 7903),\n",
       " ('avenida', 5880),\n",
       " ('valparaso', 5766),\n",
       " ('accidente', 5701),\n",
       " ('vehicular', 5693),\n",
       " ('parque', 5581),\n",
       " ('condes', 5410),\n",
       " ('temuco', 5365),\n",
       " ('providencia', 5164),\n",
       " ('jaja', 5163),\n",
       " ('talca', 4962),\n",
       " ('via', 4893),\n",
       " ('mar', 4873)]"
      ]
     },
     "execution_count": 57,
     "metadata": {},
     "output_type": "execute_result"
    }
   ],
   "source": [
    "from collections import Counter\n",
    "\n",
    "def count_words(L,n):\n",
    "    words = []\n",
    "    for text in list(L): \n",
    "        for word in str(text).split():\n",
    "            words.append(word)\n",
    "\n",
    "    counter_words = Counter(words)\n",
    "    pairs = counter_words.most_common(n)\n",
    "    return pairs\n",
    "\n",
    "count_words(tweets[\"texts\"], 20)"
   ]
  },
  {
   "cell_type": "markdown",
   "metadata": {
    "hidden": true,
    "id": "6Zo8pzRsZlzW"
   },
   "source": [
    "Analicemos las palabras más comunes los fines de semana (sábado y domingo) y las palabras más comunes los días de semana (lunes, martes, miércoles, jueves, viernes)"
   ]
  },
  {
   "cell_type": "code",
   "execution_count": 58,
   "metadata": {
    "ExecuteTime": {
     "end_time": "2020-09-27T20:39:51.290647Z",
     "start_time": "2020-09-27T20:39:50.817672Z"
    },
    "hidden": true,
    "id": "8ADY7FITjwF1"
   },
   "outputs": [],
   "source": [
    "n=50\n",
    "\n",
    "#Most frequent n words on weekends (Saturday and Sunday)\n",
    "df_week_end = tweets[tweets.index.dayofweek >= 5] \n",
    "words_wend = count_words(df_week_end[\"texts\"], n)\n",
    "words_wend = set([p[0] for p in words_wend]) #Inline for loop\n",
    "#words_wend"
   ]
  },
  {
   "cell_type": "code",
   "execution_count": 59,
   "metadata": {
    "ExecuteTime": {
     "end_time": "2020-09-27T20:39:52.227368Z",
     "start_time": "2020-09-27T20:39:51.290647Z"
    },
    "hidden": true,
    "id": "UE4rsvFhjwDe"
   },
   "outputs": [],
   "source": [
    "#Most frequent words on weekdays (Monday to Friday)\n",
    "df_week_day = tweets[tweets.index.dayofweek < 5] \n",
    "words_wday = count_words(df_week_day[\"texts\"], n)\n",
    "words_wday = set([p[0] for p in words_wday])\n",
    "#words_wday"
   ]
  },
  {
   "cell_type": "code",
   "execution_count": 60,
   "metadata": {
    "ExecuteTime": {
     "end_time": "2020-09-27T20:39:52.235217Z",
     "start_time": "2020-09-27T20:39:52.227368Z"
    },
    "colab": {
     "base_uri": "https://localhost:8080/",
     "height": 34
    },
    "executionInfo": {
     "elapsed": 74627,
     "status": "ok",
     "timestamp": 1570733092247,
     "user": {
      "displayName": "juglar dz",
      "photoUrl": "https://lh3.googleusercontent.com/a-/AAuE7mA1DqHpo0uIqr28CIWTIn2X_ju4mgBCSYFxbVQatA=s64",
      "userId": "14270876077972191340"
     },
     "user_tz": 180
    },
    "hidden": true,
    "id": "KgyUpAcPtqLy",
    "outputId": "82498e17-975f-4ce1-e1f0-072d45e7a3dd"
   },
   "outputs": [
    {
     "name": "stdout",
     "output_type": "stream",
     "text": [
      "['domingo', 'estadio', 'familia', 'condominio', 'club', 'cerro', 'playa', 'noche', 'amor', 'amigos']\n"
     ]
    }
   ],
   "source": [
    "#Most frequent words on weekends that are unfrequent on weekdays\n",
    "print(list(words_wend.difference(words_wday)))"
   ]
  },
  {
   "cell_type": "code",
   "execution_count": 61,
   "metadata": {
    "ExecuteTime": {
     "end_time": "2020-09-27T20:39:52.259216Z",
     "start_time": "2020-09-27T20:39:52.235217Z"
    },
    "hidden": true,
    "id": "CvWMA7CAXsTX",
    "outputId": "450a6ee0-c8ba-4697-9b09-2949341e6f71"
   },
   "outputs": [
    {
     "name": "stdout",
     "output_type": "stream",
     "text": [
      "['basura', 'maip', 'gran', 'semana', 'universidad', 'metro', 'sur', 'llamado', 'buen', 'edificio']\n"
     ]
    }
   ],
   "source": [
    "#Most frequent words on weekdays that are unfrequent on weekends\n",
    "print(list(words_wday.difference(words_wend) ))"
   ]
  },
  {
   "cell_type": "markdown",
   "metadata": {
    "hidden": true,
    "id": "k2GKXyeSZc_Y"
   },
   "source": [
    "Vamos a ver por hora del día"
   ]
  },
  {
   "cell_type": "code",
   "execution_count": 62,
   "metadata": {
    "ExecuteTime": {
     "end_time": "2020-09-27T20:39:52.531269Z",
     "start_time": "2020-09-27T20:39:52.259216Z"
    },
    "hidden": true,
    "id": "AMWky7M3IRgE"
   },
   "outputs": [],
   "source": [
    "df_morning = tweets[(tweets.index.hour < 14) & (tweets.index.hour >= 6)] \n",
    "words_morning = count_words(df_morning[\"texts\"], n)\n",
    "words_morning = set([p[0] for p in words_morning])\n",
    "#words_morning"
   ]
  },
  {
   "cell_type": "code",
   "execution_count": 63,
   "metadata": {
    "ExecuteTime": {
     "end_time": "2020-09-27T20:39:53.155295Z",
     "start_time": "2020-09-27T20:39:52.531269Z"
    },
    "hidden": true,
    "id": "8QgfNdIeIRob"
   },
   "outputs": [],
   "source": [
    "df_afternoon = tweets[(tweets.index.hour >= 14) & (tweets.index.hour < 22)] \n",
    "words_afternoon = count_words(df_afternoon[\"texts\"], n)\n",
    "words_afternoon = set([p[0] for p in words_afternoon])\n",
    "#words_afternoon"
   ]
  },
  {
   "cell_type": "code",
   "execution_count": 64,
   "metadata": {
    "ExecuteTime": {
     "end_time": "2020-09-27T20:39:53.738995Z",
     "start_time": "2020-09-27T20:39:53.155295Z"
    },
    "hidden": true,
    "id": "qGOYhrsqIRuF"
   },
   "outputs": [],
   "source": [
    "df_night = tweets[(tweets.index.hour < 6 )| (tweets.index.hour >= 22)] \n",
    "words_night = count_words(df_night[\"texts\"], n)\n",
    "words_night = set([p[0] for p in words_night])\n",
    "#words_night"
   ]
  },
  {
   "cell_type": "code",
   "execution_count": 65,
   "metadata": {
    "ExecuteTime": {
     "end_time": "2020-09-27T20:39:53.746835Z",
     "start_time": "2020-09-27T20:39:53.738995Z"
    },
    "hidden": true,
    "id": "56-q6OI7XsTd",
    "outputId": "da0e3d45-8616-40c7-f16e-d332a0510c8f"
   },
   "outputs": [
    {
     "name": "stdout",
     "output_type": "stream",
     "text": [
      "['internacional', 'pedro', 'das', 'metro', 'puente', 'llamado', 'buen', 'buenos', 'aeropuerto', 'recoleta', 'viernes']\n"
     ]
    }
   ],
   "source": [
    "#Morning\n",
    "print(list(words_morning.difference(words_night).difference(words_afternoon)))"
   ]
  },
  {
   "cell_type": "code",
   "execution_count": 66,
   "metadata": {
    "ExecuteTime": {
     "end_time": "2020-09-27T20:39:53.762833Z",
     "start_time": "2020-09-27T20:39:53.746835Z"
    },
    "colab": {
     "base_uri": "https://localhost:8080/",
     "height": 34
    },
    "executionInfo": {
     "elapsed": 75483,
     "status": "ok",
     "timestamp": 1570733093151,
     "user": {
      "displayName": "juglar dz",
      "photoUrl": "https://lh3.googleusercontent.com/a-/AAuE7mA1DqHpo0uIqr28CIWTIn2X_ju4mgBCSYFxbVQatA=s64",
      "userId": "14270876077972191340"
     },
     "user_tz": 180
    },
    "hidden": true,
    "id": "qSS29DWeGvH_",
    "outputId": "7a2940bd-5235-4659-80b3-aa849adfaa55"
   },
   "outputs": [
    {
     "name": "stdout",
     "output_type": "stream",
     "text": [
      "['almuerzo', 'personas', 'cerro', 'playa', 'puerto']\n"
     ]
    }
   ],
   "source": [
    "#Afternoon\n",
    "print(list(words_afternoon.difference(words_morning).difference(words_night)))"
   ]
  },
  {
   "cell_type": "code",
   "execution_count": 67,
   "metadata": {
    "ExecuteTime": {
     "end_time": "2020-09-27T20:39:53.786833Z",
     "start_time": "2020-09-27T20:39:53.770837Z"
    },
    "colab": {
     "base_uri": "https://localhost:8080/",
     "height": 34
    },
    "executionInfo": {
     "elapsed": 75475,
     "status": "ok",
     "timestamp": 1570733093153,
     "user": {
      "displayName": "juglar dz",
      "photoUrl": "https://lh3.googleusercontent.com/a-/AAuE7mA1DqHpo0uIqr28CIWTIn2X_ju4mgBCSYFxbVQatA=s64",
      "userId": "14270876077972191340"
     },
     "user_tz": 180
    },
    "hidden": true,
    "id": "Wk5q7lesGxK7",
    "outputId": "a70627f1-36ae-4d10-d47b-11707aa2272f"
   },
   "outputs": [
    {
     "name": "stdout",
     "output_type": "stream",
     "text": [
      "['gran', 'uoa', 'familia', 'siempre', 'condominio', 'noche', 'amor', 'amigos']\n"
     ]
    }
   ],
   "source": [
    "#Night\n",
    "print(list(words_night.difference(words_afternoon).difference(words_morning)))"
   ]
  },
  {
   "cell_type": "markdown",
   "metadata": {
    "heading_collapsed": true,
    "id": "Lg6QjgGuXsTh"
   },
   "source": [
    "# Clasificación usando Python"
   ]
  },
  {
   "cell_type": "markdown",
   "metadata": {
    "heading_collapsed": true,
    "hidden": true,
    "id": "7PwacTcaxfmj"
   },
   "source": [
    "## Ejemplo: Iris Dataset"
   ]
  },
  {
   "cell_type": "markdown",
   "metadata": {
    "hidden": true,
    "id": "mvA8M83rXsTi"
   },
   "source": [
    "Vamos a ocupar el dataset **iris** disponible en sklearn, que como hemos visto contiene 150 **instancias** (filas) de 3 **clases** diferentes de flores. El método **load_iris** permite cargar el dataset."
   ]
  },
  {
   "cell_type": "code",
   "execution_count": 68,
   "metadata": {
    "ExecuteTime": {
     "end_time": "2020-09-27T20:39:53.858832Z",
     "start_time": "2020-09-27T20:39:53.786833Z"
    },
    "hidden": true,
    "id": "GolzyQtBXsTi",
    "outputId": "21c94cd7-33a0-452b-9136-1214bc74c932"
   },
   "outputs": [
    {
     "name": "stdout",
     "output_type": "stream",
     "text": [
      "Si se muestra esto es porque ya está instalado!\n"
     ]
    }
   ],
   "source": [
    "#Para cargar las bibliotecas, haz click en el siguiente bloque de código, y ejecútalo presionando `Shift+Enter`:\n",
    "from sklearn.datasets import load_iris\n",
    "\n",
    "print(\"Si se muestra esto es porque ya está instalado!\")"
   ]
  },
  {
   "cell_type": "code",
   "execution_count": 69,
   "metadata": {
    "ExecuteTime": {
     "end_time": "2020-09-27T20:39:53.874835Z",
     "start_time": "2020-09-27T20:39:53.858832Z"
    },
    "hidden": true,
    "id": "h7VpU0XZXsTj",
    "outputId": "ce9564f3-0b10-4cfb-fecf-3b80e2e43ce8"
   },
   "outputs": [
    {
     "name": "stdout",
     "output_type": "stream",
     "text": [
      "X:\n",
      " [[5.1 3.5 1.4 0.2]\n",
      " [4.9 3.  1.4 0.2]\n",
      " [4.7 3.2 1.3 0.2]\n",
      " [4.6 3.1 1.5 0.2]\n",
      " [5.  3.6 1.4 0.2]\n",
      " [5.4 3.9 1.7 0.4]\n",
      " [4.6 3.4 1.4 0.3]\n",
      " [5.  3.4 1.5 0.2]\n",
      " [4.4 2.9 1.4 0.2]\n",
      " [4.9 3.1 1.5 0.1]]\n",
      "y:\n",
      " [0 0 0 0 0 0 0 0 0 0]\n"
     ]
    }
   ],
   "source": [
    "iris = load_iris()\n",
    "\n",
    "X = iris.data      ## datos, caracteristicas o features de cada flor. \n",
    "y = iris.target    ## clase para cada instancia anterior.\n",
    "\n",
    "print(\"X:\\n\", X[:10])   # muestra las primeras 10 filas que corresponden a las caracteristicas de 10 flores. \n",
    "print(\"y:\\n\", y[:10])   # muestra las primeras 10 clases para cada una de las instancias de X"
   ]
  },
  {
   "cell_type": "markdown",
   "metadata": {
    "hidden": true,
    "id": "QEd6kq6WXsTk"
   },
   "source": [
    "Podemos saber los nombres de los *features* (columnas) usando el campo **feature_names**:"
   ]
  },
  {
   "cell_type": "code",
   "execution_count": 70,
   "metadata": {
    "ExecuteTime": {
     "end_time": "2020-09-27T20:39:53.882837Z",
     "start_time": "2020-09-27T20:39:53.874835Z"
    },
    "hidden": true,
    "id": "ugsDxzvdXsTl",
    "outputId": "49058171-e3f9-4054-a8d4-ad4f2cedf18a"
   },
   "outputs": [
    {
     "name": "stdout",
     "output_type": "stream",
     "text": [
      "['sepal length (cm)', 'sepal width (cm)', 'petal length (cm)', 'petal width (cm)']\n"
     ]
    }
   ],
   "source": [
    "print(iris.feature_names)"
   ]
  },
  {
   "cell_type": "markdown",
   "metadata": {
    "hidden": true,
    "id": "hRRuBHboXsTm"
   },
   "source": [
    "Para saber cuáles son las clases:"
   ]
  },
  {
   "cell_type": "code",
   "execution_count": 71,
   "metadata": {
    "ExecuteTime": {
     "end_time": "2020-09-27T20:39:53.898834Z",
     "start_time": "2020-09-27T20:39:53.882837Z"
    },
    "hidden": true,
    "id": "HZ3v78U7XsTm",
    "outputId": "d2ab885a-c2b1-4b5b-8586-e611fac7f8ec"
   },
   "outputs": [
    {
     "name": "stdout",
     "output_type": "stream",
     "text": [
      "[0 0 0 0 0 0 0 0 0 0 0 0 0 0 0 0 0 0 0 0 0 0 0 0 0 0 0 0 0 0 0 0 0 0 0 0 0\n",
      " 0 0 0 0 0 0 0 0 0 0 0 0 0 1 1 1 1 1 1 1 1 1 1 1 1 1 1 1 1 1 1 1 1 1 1 1 1\n",
      " 1 1 1 1 1 1 1 1 1 1 1 1 1 1 1 1 1 1 1 1 1 1 1 1 1 1 2 2 2 2 2 2 2 2 2 2 2\n",
      " 2 2 2 2 2 2 2 2 2 2 2 2 2 2 2 2 2 2 2 2 2 2 2 2 2 2 2 2 2 2 2 2 2 2 2 2 2\n",
      " 2 2]\n"
     ]
    }
   ],
   "source": [
    "print(iris.target)  # mostramos todas las clases de X "
   ]
  },
  {
   "cell_type": "markdown",
   "metadata": {
    "hidden": true,
    "id": "TFW-psyjXsTo"
   },
   "source": [
    "**0 Corresponde a setosa; \n",
    "1 Corresponde a versicolor;\n",
    "2 Corresponde a virginica**\n",
    "\n",
    "\n",
    "Podemos verificar esto haciendo."
   ]
  },
  {
   "cell_type": "code",
   "execution_count": 72,
   "metadata": {
    "ExecuteTime": {
     "end_time": "2020-09-27T20:39:53.906833Z",
     "start_time": "2020-09-27T20:39:53.898834Z"
    },
    "hidden": true,
    "id": "7t9E_H-2XsTo",
    "outputId": "e6d3f7c4-bb1b-4cae-8c25-a5fbb267b163"
   },
   "outputs": [
    {
     "name": "stdout",
     "output_type": "stream",
     "text": [
      "['setosa' 'versicolor' 'virginica']\n"
     ]
    }
   ],
   "source": [
    "print(iris.target_names)   "
   ]
  },
  {
   "cell_type": "code",
   "execution_count": 73,
   "metadata": {
    "ExecuteTime": {
     "end_time": "2020-09-27T20:39:53.922834Z",
     "start_time": "2020-09-27T20:39:53.906833Z"
    },
    "hidden": true,
    "id": "T0MxomlRXsTp",
    "outputId": "772b1953-b828-43a4-8588-4bb22779533b"
   },
   "outputs": [
    {
     "data": {
      "text/plain": [
       "numpy.ndarray"
      ]
     },
     "execution_count": 73,
     "metadata": {},
     "output_type": "execute_result"
    }
   ],
   "source": [
    "type(iris.data)"
   ]
  },
  {
   "cell_type": "markdown",
   "metadata": {
    "hidden": true,
    "id": "p32WxFWOXsTr"
   },
   "source": [
    "En resumen, lo que tenemos es la descripción de una flor (medidas) en una fila, acompañada con la clase. Por ejemplo, para la segunda fila, tenemos:\n",
    "\n",
    "**4.9,  3. ,  1.4,  0.2**  y la clase asociada es **0 (setosa)**"
   ]
  },
  {
   "cell_type": "code",
   "execution_count": 74,
   "metadata": {
    "ExecuteTime": {
     "end_time": "2020-09-27T20:39:53.930834Z",
     "start_time": "2020-09-27T20:39:53.922834Z"
    },
    "hidden": true,
    "id": "Ry1RMtkNXsTr",
    "outputId": "774aa192-a36a-40d0-8e79-1cdf4d89d7ef"
   },
   "outputs": [
    {
     "name": "stdout",
     "output_type": "stream",
     "text": [
      "[4.9 3.  1.4 0.2] 0\n"
     ]
    }
   ],
   "source": [
    "print(iris.data[1], iris.target[1])"
   ]
  },
  {
   "cell_type": "markdown",
   "metadata": {
    "hidden": true,
    "id": "ktQos9jeXsTt"
   },
   "source": [
    "Podemos obtener una descripción más completa usando:"
   ]
  },
  {
   "cell_type": "code",
   "execution_count": 75,
   "metadata": {
    "ExecuteTime": {
     "end_time": "2020-09-27T20:39:53.946836Z",
     "start_time": "2020-09-27T20:39:53.930834Z"
    },
    "hidden": true,
    "id": "0VUt3c3BXsTt",
    "outputId": "9730458a-7261-4087-e8fd-85faad456109"
   },
   "outputs": [
    {
     "name": "stdout",
     "output_type": "stream",
     "text": [
      ".. _iris_dataset:\n",
      "\n",
      "Iris plants dataset\n",
      "--------------------\n",
      "\n",
      "**Data Set Characteristics:**\n",
      "\n",
      "    :Number of Instances: 150 (50 in each of three classes)\n",
      "    :Number of Attributes: 4 numeric, predictive attributes and the class\n",
      "    :Attribute Information:\n",
      "        - sepal length in cm\n",
      "        - sepal width in cm\n",
      "        - petal length in cm\n",
      "        - petal width in cm\n",
      "        - class:\n",
      "                - Iris-Setosa\n",
      "                - Iris-Versicolour\n",
      "                - Iris-Virginica\n",
      "                \n",
      "    :Summary Statistics:\n",
      "\n",
      "    ============== ==== ==== ======= ===== ====================\n",
      "                    Min  Max   Mean    SD   Class Correlation\n",
      "    ============== ==== ==== ======= ===== ====================\n",
      "    sepal length:   4.3  7.9   5.84   0.83    0.7826\n",
      "    sepal width:    2.0  4.4   3.05   0.43   -0.4194\n",
      "    petal length:   1.0  6.9   3.76   1.76    0.9490  (high!)\n",
      "    petal width:    0.1  2.5   1.20   0.76    0.9565  (high!)\n",
      "    ============== ==== ==== ======= ===== ====================\n",
      "\n",
      "    :Missing Attribute Values: None\n",
      "    :Class Distribution: 33.3% for each of 3 classes.\n",
      "    :Creator: R.A. Fisher\n",
      "    :Donor: Michael Marshall (MARSHALL%PLU@io.arc.nasa.gov)\n",
      "    :Date: July, 1988\n",
      "\n",
      "The famous Iris database, first used by Sir R.A. Fisher. The dataset is taken\n",
      "from Fisher's paper. Note that it's the same as in R, but not as in the UCI\n",
      "Machine Learning Repository, which has two wrong data points.\n",
      "\n",
      "This is perhaps the best known database to be found in the\n",
      "pattern recognition literature.  Fisher's paper is a classic in the field and\n",
      "is referenced frequently to this day.  (See Duda & Hart, for example.)  The\n",
      "data set contains 3 classes of 50 instances each, where each class refers to a\n",
      "type of iris plant.  One class is linearly separable from the other 2; the\n",
      "latter are NOT linearly separable from each other.\n",
      "\n",
      ".. topic:: References\n",
      "\n",
      "   - Fisher, R.A. \"The use of multiple measurements in taxonomic problems\"\n",
      "     Annual Eugenics, 7, Part II, 179-188 (1936); also in \"Contributions to\n",
      "     Mathematical Statistics\" (John Wiley, NY, 1950).\n",
      "   - Duda, R.O., & Hart, P.E. (1973) Pattern Classification and Scene Analysis.\n",
      "     (Q327.D83) John Wiley & Sons.  ISBN 0-471-22361-1.  See page 218.\n",
      "   - Dasarathy, B.V. (1980) \"Nosing Around the Neighborhood: A New System\n",
      "     Structure and Classification Rule for Recognition in Partially Exposed\n",
      "     Environments\".  IEEE Transactions on Pattern Analysis and Machine\n",
      "     Intelligence, Vol. PAMI-2, No. 1, 67-71.\n",
      "   - Gates, G.W. (1972) \"The Reduced Nearest Neighbor Rule\".  IEEE Transactions\n",
      "     on Information Theory, May 1972, 431-433.\n",
      "   - See also: 1988 MLC Proceedings, 54-64.  Cheeseman et al\"s AUTOCLASS II\n",
      "     conceptual clustering system finds 3 classes in the data.\n",
      "   - Many, many more ...\n"
     ]
    }
   ],
   "source": [
    "print(iris.DESCR)"
   ]
  },
  {
   "cell_type": "markdown",
   "metadata": {
    "hidden": true,
    "id": "1nOcodp9XsTu"
   },
   "source": [
    "Lo que haremos a continuación será entrenar un clasificador y predecir con nuevos datos. \n"
   ]
  },
  {
   "cell_type": "markdown",
   "metadata": {
    "heading_collapsed": true,
    "hidden": true,
    "id": "A_Od-2d5XsTu"
   },
   "source": [
    "## Nuestro primer clasificador\n",
    "\n",
    "Entrenaremos nuestro primer clasificador con *Iris dataset*. \n",
    "Para esto, usaremos un árbol de decisión."
   ]
  },
  {
   "cell_type": "code",
   "execution_count": 83,
   "metadata": {
    "ExecuteTime": {
     "end_time": "2020-09-27T20:39:54.066834Z",
     "start_time": "2020-09-27T20:39:53.946836Z"
    },
    "hidden": true,
    "id": "nc5f_qjhXsTv",
    "outputId": "65e172a5-f54b-4f37-ede7-cddd3206ac08"
   },
   "outputs": [
    {
     "data": {
      "text/plain": [
       "array([0, 0, 0, 0, 0, 0, 0, 0, 0, 0, 0, 0, 0, 0, 0, 0, 0, 0, 0, 0, 0, 0,\n",
       "       0, 0, 0, 0, 0, 0, 0, 0, 0, 0, 0, 0, 0, 0, 0, 0, 0, 0, 0, 0, 0, 0,\n",
       "       0, 0, 0, 0, 0, 0, 1, 1, 1, 1, 1, 1, 1, 1, 1, 1, 1, 1, 1, 1, 1, 1,\n",
       "       1, 1, 1, 1, 1, 1, 1, 1, 1, 1, 1, 1, 1, 1, 1, 1, 1, 1, 1, 1, 1, 1,\n",
       "       1, 1, 1, 1, 1, 1, 1, 1, 1, 1, 1, 1, 2, 2, 2, 2, 2, 2, 2, 2, 2, 2,\n",
       "       2, 2, 2, 2, 2, 2, 2, 2, 2, 2, 2, 2, 2, 2, 2, 2, 2, 2, 2, 2, 2, 2,\n",
       "       2, 2, 2, 2, 2, 2, 2, 2, 2, 2, 2, 2, 2, 2, 2, 2, 2, 2])"
      ]
     },
     "execution_count": 83,
     "metadata": {},
     "output_type": "execute_result"
    }
   ],
   "source": [
    "from sklearn.tree import DecisionTreeClassifier\n",
    "\n",
    "clf = DecisionTreeClassifier()\n",
    "clf.fit(X, y)   ## Entrenar usando X (features), y (clase)\n",
    "y"
   ]
  },
  {
   "cell_type": "markdown",
   "metadata": {
    "hidden": true,
    "id": "cpeLWd_AXsTx"
   },
   "source": [
    "Con el método **fit** entrenamos el clasificador con los datos de <b>X</b> y la clase asociada a cada uno, **y**. Para ver qué tan bien fue el entrenamiento, podemos evaluar el clasificador ejecutándolo sobre instancias y verificando que la clase sea la correcta. \n",
    "\n",
    "Ya hemos entrenado nuestro clasificador empleando **fit**. Luego para predecir, usamos **predict**."
   ]
  },
  {
   "cell_type": "code",
   "execution_count": 84,
   "metadata": {
    "ExecuteTime": {
     "end_time": "2020-09-27T20:39:54.074834Z",
     "start_time": "2020-09-27T20:39:54.066834Z"
    },
    "hidden": true,
    "id": "P5rGP92WXsTx"
   },
   "outputs": [],
   "source": [
    "y_pred = clf.predict(X)   ## predecir 'y' usando la matriz 'X'"
   ]
  },
  {
   "cell_type": "markdown",
   "metadata": {
    "hidden": true,
    "id": "tJlAZTozXsTy"
   },
   "source": [
    "Por ejemplo, si ejecutáramos ```clf.predict([[5.1, 3.5, 1.4, 0.2]])```, le estamos pasando al clasificador un dato con valores **[5.1, 3.5, 1.4, 0.2]**. Al ejecutar **predict**, éste nos retornará un arreglo con el valor <b>0</b>, indicando que esos datos fueron clasificados como la clase **0 (setosa)**.\n",
    "\n",
    "En **scikit-learn** existe el método **accuracy_score** que computa el Accuracy de la clasificación:"
   ]
  },
  {
   "cell_type": "code",
   "execution_count": 85,
   "metadata": {
    "ExecuteTime": {
     "end_time": "2020-09-27T20:39:54.090835Z",
     "start_time": "2020-09-27T20:39:54.074834Z"
    },
    "hidden": true,
    "id": "-PZEBQOBXsTy",
    "outputId": "b16a314e-c4de-4311-8fd5-8b58f9023c3c"
   },
   "outputs": [
    {
     "name": "stdout",
     "output_type": "stream",
     "text": [
      "Accuracy: 1.0\n"
     ]
    }
   ],
   "source": [
    "from sklearn.metrics import accuracy_score\n",
    "\n",
    "print(\"Accuracy:\", accuracy_score(y, y_pred))"
   ]
  },
  {
   "cell_type": "markdown",
   "metadata": {
    "hidden": true,
    "id": "X_Y2dI8GXsTz"
   },
   "source": [
    "Como se puede apreciar, tuvimos un accuracy del 100% con el clasificador (1.0). Sin embargo, **hicimos algo incorrecto**: evaluamos el clasificador con los mismos datos con los cuales lo entrenamos! \n",
    "\n",
    "Al hacer esto, lo que terminamos haciendo fue *aprender de los datos de entrada* y evaluamos (o testeamos) usando los mismos datos. Esto también se denomina **overfitting**. \n",
    "\n",
    "También podríamos ver otras métricas como precision, recall y f-score. "
   ]
  },
  {
   "cell_type": "code",
   "execution_count": 79,
   "metadata": {
    "ExecuteTime": {
     "end_time": "2020-09-27T20:39:54.106834Z",
     "start_time": "2020-09-27T20:39:54.090835Z"
    },
    "hidden": true,
    "id": "ULi8I9khXsT0",
    "outputId": "f232aa6f-d2ae-47af-c93b-9416b6005c4b"
   },
   "outputs": [
    {
     "name": "stdout",
     "output_type": "stream",
     "text": [
      "              precision    recall  f1-score   support\n",
      "\n",
      "           0       1.00      1.00      1.00        50\n",
      "           1       1.00      1.00      1.00        50\n",
      "           2       1.00      1.00      1.00        50\n",
      "\n",
      "    accuracy                           1.00       150\n",
      "   macro avg       1.00      1.00      1.00       150\n",
      "weighted avg       1.00      1.00      1.00       150\n",
      "\n"
     ]
    }
   ],
   "source": [
    "from sklearn.metrics import classification_report\n",
    "print(classification_report(y, y_pred))"
   ]
  },
  {
   "cell_type": "markdown",
   "metadata": {
    "hidden": true,
    "id": "3fxrxIjMXsT1"
   },
   "source": [
    "Desde luego, la clasificación es 'perfecta'. Para tener un resultado más realista de la clasificación vamos a dividir el dataset en dos: **training set** y **test set**.\n",
    "\n",
    "El **training_set** nos permite aprender de ejemplos y ajustar el clasificador de acuerdo a éstos. \n",
    "El **test_set** nos permitirá comprender qué tan bien **generalizamos** con nuevos datos. \n",
    "\n",
    " En **scikit-learn** existe un método llamado **train_test_split**, que nos permite hacer esta separación de manera aleatoria y estratificada (es decir, manteniendo la proporción de clases entre las instancias de cada set):"
   ]
  },
  {
   "cell_type": "code",
   "execution_count": 80,
   "metadata": {
    "ExecuteTime": {
     "end_time": "2020-09-27T20:39:54.122835Z",
     "start_time": "2020-09-27T20:39:54.106834Z"
    },
    "hidden": true,
    "id": "TG4iP9EtXsT1"
   },
   "outputs": [],
   "source": [
    "from sklearn.model_selection import train_test_split\n",
    "\n",
    "X_train, X_test, y_train, y_test = train_test_split(X, y, test_size=.33, random_state=37, stratify=y)"
   ]
  },
  {
   "cell_type": "markdown",
   "metadata": {
    "ExecuteTime": {
     "end_time": "2020-09-27T20:05:04.832011Z",
     "start_time": "2020-09-27T20:05:04.824035Z"
    },
    "hidden": true,
    "id": "GABVAg71XsT2"
   },
   "source": [
    "El método retorna cuatro listas, los correspondientes a train y a test. Es decir, para el entrenamiento se usará **X_train** que tiene los features de entrenamiento e **y_train** que son sus respectivas clases. Así mismo, para probar con nuevos datos (testing), usaremos **X_test** como los features de entrada e **y_test** como las clases respectivas. \n",
    "\n",
    "* El parámetro **test_size** nos permite regular la fracción de los datos que irán a test; en este caso 33% del dataset completo. \n",
    "\n",
    "* El parámetro **random_state** nos permite fijar la semilla para tener resultados consistentes (genera la misma partición de datos). Si ejecutamos el método varias veces con la misma semilla, nos mostrará los mismos resultados siempre. \n",
    "\n",
    "* El parámetro **stratify** recibe un arreglo con la distribución de clases, y el método intenta mantener esa misma distribución en las listas resultantes. Si no hicieramos esto, podríamos, por ejemplo, tener muchos datos de una clase en el set de entrenamiento. \n",
    "\n",
    "Ahora, al fin, podemos probar nuestro clasificador:"
   ]
  },
  {
   "cell_type": "code",
   "execution_count": 81,
   "metadata": {
    "ExecuteTime": {
     "end_time": "2020-09-27T20:39:54.138860Z",
     "start_time": "2020-09-27T20:39:54.122835Z"
    },
    "hidden": true,
    "id": "NKoiKimeXsT2",
    "outputId": "3a2679b4-dc57-4baf-d629-a6886a3dcac5"
   },
   "outputs": [
    {
     "name": "stdout",
     "output_type": "stream",
     "text": [
      "Accuracy en test set: 0.98\n"
     ]
    }
   ],
   "source": [
    "clf = DecisionTreeClassifier()\n",
    "clf.fit(X_train, y_train)    ## Entrenamos con features X_train y clases y_train\n",
    "\n",
    "y_pred = clf.predict(X_test)   ## Predecimos con nuevos datos (los de test X_test)\n",
    "print(\"Accuracy en test set:\", accuracy_score(y_test, y_pred))   ## Evaluamos la predicción comparando y_test con y_pred"
   ]
  }
 ],
 "metadata": {
  "accelerator": "GPU",
  "colab": {
   "collapsed_sections": [],
   "name": "Tutorial 2 Clasificación usando Python - Primavera 2020_old.ipynb",
   "provenance": []
  },
  "hide_input": false,
  "kernelspec": {
   "display_name": "Python 3",
   "language": "python",
   "name": "python3"
  },
  "language_info": {
   "codemirror_mode": {
    "name": "ipython",
    "version": 3
   },
   "file_extension": ".py",
   "mimetype": "text/x-python",
   "name": "python",
   "nbconvert_exporter": "python",
   "pygments_lexer": "ipython3",
   "version": "3.7.9"
  },
  "toc": {
   "base_numbering": 1,
   "nav_menu": {},
   "number_sections": true,
   "sideBar": true,
   "skip_h1_title": false,
   "title_cell": "Table of Contents",
   "title_sidebar": "Contents",
   "toc_cell": false,
   "toc_position": {},
   "toc_section_display": true,
   "toc_window_display": false
  },
  "varInspector": {
   "cols": {
    "lenName": 16,
    "lenType": 16,
    "lenVar": 40
   },
   "kernels_config": {
    "python": {
     "delete_cmd_postfix": "",
     "delete_cmd_prefix": "del ",
     "library": "var_list.py",
     "varRefreshCmd": "print(var_dic_list())"
    },
    "r": {
     "delete_cmd_postfix": ") ",
     "delete_cmd_prefix": "rm(",
     "library": "var_list.r",
     "varRefreshCmd": "cat(var_dic_list()) "
    }
   },
   "types_to_exclude": [
    "module",
    "function",
    "builtin_function_or_method",
    "instance",
    "_Feature"
   ],
   "window_display": false
  }
 },
 "nbformat": 4,
 "nbformat_minor": 4
}
