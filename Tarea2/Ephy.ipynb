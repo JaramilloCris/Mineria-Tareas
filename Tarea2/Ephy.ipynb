{
 "cells": [
  {
   "cell_type": "markdown",
   "metadata": {
    "id": "p_XcuC2rXQWb",
    "pycharm": {}
   },
   "source": [
    "# Tarea 2: Clasificación\n",
    "\n",
    "Felipe Bravo, Hernán Sarmiento, Aymé Arango, Alison Fernandez, Cinthia Mabel Sánchez, Juan Pablo Silva\n",
    "\n",
    "**Octubre 2020**"
   ]
  },
  {
   "cell_type": "markdown",
   "metadata": {
    "heading_collapsed": true,
    "id": "RvarrC_jXQWe",
    "pycharm": {}
   },
   "source": [
    "## ============= Declaración de compromiso ético =============\n",
    "\n",
    "Nosotros ****AGREGUEN SUS NOMBRES**** , declaramos que realizamos de manera grupal los pasos de la presente actividad. También declaramos no incurrir en copia, ni compartir nuestras respuestas con otras personas ni con otros grupos. Por lo que, ratificamos que las respuestas son de nuestra propia confección y reflejan nuestro propio conocimiento.\n"
   ]
  },
  {
   "cell_type": "markdown",
   "metadata": {
    "heading_collapsed": true,
    "id": "bxEPucKhXQWg",
    "pycharm": {}
   },
   "source": [
    "# Instrucciones\n",
    "\n",
    "\n",
    "1. Trabajen en equipos de dos o tres personas. Salvo excepciones, no se corregirá entregas con menos de dos integrantes.\n",
    "\n",
    "2. Modifique este archivo `.ipynb` agregando sus respuestas donde corresponda. \n",
    "\n",
    "3. Cuando finalice el laboratorio, **genere un archivo HTML** usando jupyter (ver tutorial 2) y súbalo a U-Cursos. El laboratorio debe ser entregado sólo por 1 integrante. Si se entrega por más de un integrante, se revisará cualquiera de éstos."
   ]
  },
  {
   "cell_type": "markdown",
   "metadata": {
    "heading_collapsed": true,
    "id": "SMUzxXj7XQWi",
    "pycharm": {}
   },
   "source": [
    "# Estructura de la tarea\n",
    "\n",
    "Esta tarea está conformada por preguntas prácticas (donde se requiere completar código) intercaladas con preguntas de interpretación de resultados y descripción de conceptos teóricos vistos en clases. Las preguntas se dividen en 5 partes: \n",
    "\n",
    "1. Explorar los datos.\n",
    "2. Entrenar un clasificador de 3 maneras: \n",
    "    1) Entrenando/Testeando con los mismos datos,\n",
    "    2) Dividiendo el dataset en una parte para entrenar y otra para testear, y\n",
    "    3) Usando cross-validation. Veremos accuracy, precision y recall para luego analizar los resultados. \n",
    "3. Comparar clasificadores con ciertos *baselines* o clasificadores base.\n",
    "4. Seleccionar hiperparámetros.\n",
    "5. Trabajar con clases desbalanceadas."
   ]
  },
  {
   "cell_type": "markdown",
   "metadata": {
    "heading_collapsed": true,
    "id": "NKZg9pEFXQWj",
    "pycharm": {}
   },
   "source": [
    "# Parte 1: Explorar los datos"
   ]
  },
  {
   "cell_type": "markdown",
   "metadata": {
    "hidden": true,
    "id": "wjW5R_p5XQWj",
    "pycharm": {}
   },
   "source": [
    "Usaremos el **Wine Dataset**, que viene en **scikit-learn**. Ejecutaremos la siguiente línea de código para importar la librería que nos permitirá cargarlo."
   ]
  },
  {
   "cell_type": "code",
   "execution_count": 4,
   "metadata": {
    "ExecuteTime": {
     "end_time": "2020-09-28T01:11:26.464733Z",
     "start_time": "2020-09-28T01:11:25.755057Z"
    },
    "hidden": true,
    "id": "QrBP5aiSXQWk",
    "pycharm": {}
   },
   "outputs": [],
   "source": [
    "from sklearn.datasets import load_wine"
   ]
  },
  {
   "cell_type": "markdown",
   "metadata": {
    "heading_collapsed": true,
    "hidden": true,
    "id": "B3b92IPxXQWn",
    "pycharm": {}
   },
   "source": [
    "## Pregunta 1.1\n",
    "\n",
    "Cargue los datos e indique lo siguiente:\n",
    "* Tamaño del dataset (cantidad de instancias y atributos). \n",
    "* ¿Cuántas clases hay y cuáles son sus nombres?\n",
    "* ¿Cuántas instancias hay en cada clase?\n",
    "\n",
    "Indique en cada caso cómo obtuvo la respuesta, es decir, adjunte código."
   ]
  },
  {
   "cell_type": "code",
   "execution_count": 5,
   "metadata": {},
   "outputs": [],
   "source": [
    "import pandas as pd"
   ]
  },
  {
   "cell_type": "code",
   "execution_count": 6,
   "metadata": {},
   "outputs": [
    {
     "data": {
      "text/plain": [
       "{'data': array([[1.423e+01, 1.710e+00, 2.430e+00, ..., 1.040e+00, 3.920e+00,\n",
       "         1.065e+03],\n",
       "        [1.320e+01, 1.780e+00, 2.140e+00, ..., 1.050e+00, 3.400e+00,\n",
       "         1.050e+03],\n",
       "        [1.316e+01, 2.360e+00, 2.670e+00, ..., 1.030e+00, 3.170e+00,\n",
       "         1.185e+03],\n",
       "        ...,\n",
       "        [1.327e+01, 4.280e+00, 2.260e+00, ..., 5.900e-01, 1.560e+00,\n",
       "         8.350e+02],\n",
       "        [1.317e+01, 2.590e+00, 2.370e+00, ..., 6.000e-01, 1.620e+00,\n",
       "         8.400e+02],\n",
       "        [1.413e+01, 4.100e+00, 2.740e+00, ..., 6.100e-01, 1.600e+00,\n",
       "         5.600e+02]]),\n",
       " 'target': array([0, 0, 0, 0, 0, 0, 0, 0, 0, 0, 0, 0, 0, 0, 0, 0, 0, 0, 0, 0, 0, 0,\n",
       "        0, 0, 0, 0, 0, 0, 0, 0, 0, 0, 0, 0, 0, 0, 0, 0, 0, 0, 0, 0, 0, 0,\n",
       "        0, 0, 0, 0, 0, 0, 0, 0, 0, 0, 0, 0, 0, 0, 0, 1, 1, 1, 1, 1, 1, 1,\n",
       "        1, 1, 1, 1, 1, 1, 1, 1, 1, 1, 1, 1, 1, 1, 1, 1, 1, 1, 1, 1, 1, 1,\n",
       "        1, 1, 1, 1, 1, 1, 1, 1, 1, 1, 1, 1, 1, 1, 1, 1, 1, 1, 1, 1, 1, 1,\n",
       "        1, 1, 1, 1, 1, 1, 1, 1, 1, 1, 1, 1, 1, 1, 1, 1, 1, 1, 1, 1, 2, 2,\n",
       "        2, 2, 2, 2, 2, 2, 2, 2, 2, 2, 2, 2, 2, 2, 2, 2, 2, 2, 2, 2, 2, 2,\n",
       "        2, 2, 2, 2, 2, 2, 2, 2, 2, 2, 2, 2, 2, 2, 2, 2, 2, 2, 2, 2, 2, 2,\n",
       "        2, 2]),\n",
       " 'frame': None,\n",
       " 'target_names': array(['class_0', 'class_1', 'class_2'], dtype='<U7'),\n",
       " 'DESCR': '.. _wine_dataset:\\n\\nWine recognition dataset\\n------------------------\\n\\n**Data Set Characteristics:**\\n\\n    :Number of Instances: 178 (50 in each of three classes)\\n    :Number of Attributes: 13 numeric, predictive attributes and the class\\n    :Attribute Information:\\n \\t\\t- Alcohol\\n \\t\\t- Malic acid\\n \\t\\t- Ash\\n\\t\\t- Alcalinity of ash  \\n \\t\\t- Magnesium\\n\\t\\t- Total phenols\\n \\t\\t- Flavanoids\\n \\t\\t- Nonflavanoid phenols\\n \\t\\t- Proanthocyanins\\n\\t\\t- Color intensity\\n \\t\\t- Hue\\n \\t\\t- OD280/OD315 of diluted wines\\n \\t\\t- Proline\\n\\n    - class:\\n            - class_0\\n            - class_1\\n            - class_2\\n\\t\\t\\n    :Summary Statistics:\\n    \\n    ============================= ==== ===== ======= =====\\n                                   Min   Max   Mean     SD\\n    ============================= ==== ===== ======= =====\\n    Alcohol:                      11.0  14.8    13.0   0.8\\n    Malic Acid:                   0.74  5.80    2.34  1.12\\n    Ash:                          1.36  3.23    2.36  0.27\\n    Alcalinity of Ash:            10.6  30.0    19.5   3.3\\n    Magnesium:                    70.0 162.0    99.7  14.3\\n    Total Phenols:                0.98  3.88    2.29  0.63\\n    Flavanoids:                   0.34  5.08    2.03  1.00\\n    Nonflavanoid Phenols:         0.13  0.66    0.36  0.12\\n    Proanthocyanins:              0.41  3.58    1.59  0.57\\n    Colour Intensity:              1.3  13.0     5.1   2.3\\n    Hue:                          0.48  1.71    0.96  0.23\\n    OD280/OD315 of diluted wines: 1.27  4.00    2.61  0.71\\n    Proline:                       278  1680     746   315\\n    ============================= ==== ===== ======= =====\\n\\n    :Missing Attribute Values: None\\n    :Class Distribution: class_0 (59), class_1 (71), class_2 (48)\\n    :Creator: R.A. Fisher\\n    :Donor: Michael Marshall (MARSHALL%PLU@io.arc.nasa.gov)\\n    :Date: July, 1988\\n\\nThis is a copy of UCI ML Wine recognition datasets.\\nhttps://archive.ics.uci.edu/ml/machine-learning-databases/wine/wine.data\\n\\nThe data is the results of a chemical analysis of wines grown in the same\\nregion in Italy by three different cultivators. There are thirteen different\\nmeasurements taken for different constituents found in the three types of\\nwine.\\n\\nOriginal Owners: \\n\\nForina, M. et al, PARVUS - \\nAn Extendible Package for Data Exploration, Classification and Correlation. \\nInstitute of Pharmaceutical and Food Analysis and Technologies,\\nVia Brigata Salerno, 16147 Genoa, Italy.\\n\\nCitation:\\n\\nLichman, M. (2013). UCI Machine Learning Repository\\n[https://archive.ics.uci.edu/ml]. Irvine, CA: University of California,\\nSchool of Information and Computer Science. \\n\\n.. topic:: References\\n\\n  (1) S. Aeberhard, D. Coomans and O. de Vel, \\n  Comparison of Classifiers in High Dimensional Settings, \\n  Tech. Rep. no. 92-02, (1992), Dept. of Computer Science and Dept. of  \\n  Mathematics and Statistics, James Cook University of North Queensland. \\n  (Also submitted to Technometrics). \\n\\n  The data was used with many others for comparing various \\n  classifiers. The classes are separable, though only RDA \\n  has achieved 100% correct classification. \\n  (RDA : 100%, QDA 99.4%, LDA 98.9%, 1NN 96.1% (z-transformed data)) \\n  (All results using the leave-one-out technique) \\n\\n  (2) S. Aeberhard, D. Coomans and O. de Vel, \\n  \"THE CLASSIFICATION PERFORMANCE OF RDA\" \\n  Tech. Rep. no. 92-01, (1992), Dept. of Computer Science and Dept. of \\n  Mathematics and Statistics, James Cook University of North Queensland. \\n  (Also submitted to Journal of Chemometrics).\\n',\n",
       " 'feature_names': ['alcohol',\n",
       "  'malic_acid',\n",
       "  'ash',\n",
       "  'alcalinity_of_ash',\n",
       "  'magnesium',\n",
       "  'total_phenols',\n",
       "  'flavanoids',\n",
       "  'nonflavanoid_phenols',\n",
       "  'proanthocyanins',\n",
       "  'color_intensity',\n",
       "  'hue',\n",
       "  'od280/od315_of_diluted_wines',\n",
       "  'proline']}"
      ]
     },
     "execution_count": 6,
     "metadata": {},
     "output_type": "execute_result"
    }
   ],
   "source": [
    "# Esto nos ayuda a ver la forma de los datos, que vemos que viene en forma de diccionario\n",
    "wine = load_wine()\n",
    "wine"
   ]
  },
  {
   "cell_type": "code",
   "execution_count": 4,
   "metadata": {},
   "outputs": [
    {
     "data": {
      "text/plain": [
       "(178, 13)"
      ]
     },
     "execution_count": 4,
     "metadata": {},
     "output_type": "execute_result"
    }
   ],
   "source": [
    "# Tenemos que:\n",
    "# n de instancias = 178\n",
    "# n de atributos = 13\n",
    "data = pd.DataFrame(data=wine['data'], columns=wine['feature_names'])\n",
    "data.shape"
   ]
  },
  {
   "cell_type": "code",
   "execution_count": 9,
   "metadata": {},
   "outputs": [
    {
     "name": "stdout",
     "output_type": "stream",
     "text": [
      "['class_0' 'class_1' 'class_2']\n"
     ]
    }
   ],
   "source": [
    "# Tenemos que hay 3 clases llamadas class_0, class_1 y class_2\n",
    "print(wine.target_names)"
   ]
  },
  {
   "cell_type": "code",
   "execution_count": 6,
   "metadata": {},
   "outputs": [
    {
     "data": {
      "text/plain": [
       "0    59\n",
       "1    71\n",
       "2    48\n",
       "dtype: int64"
      ]
     },
     "execution_count": 6,
     "metadata": {},
     "output_type": "execute_result"
    }
   ],
   "source": [
    "# De las cuales 59 instancias son de clase_0, 71 de clase_1 y 48 de clase_2\n",
    "target = pd.Series(wine['target'])\n",
    "g = target.groupby(target).size()\n",
    "g"
   ]
  },
  {
   "cell_type": "markdown",
   "metadata": {
    "heading_collapsed": true,
    "hidden": true,
    "id": "AKH5aB3_XQWs",
    "pycharm": {}
   },
   "source": [
    "## Pregunta 1.2\n",
    "\n",
    "Explique:\n",
    "- ¿Qué hacen las siguientes líneas de código?\n",
    "- ¿Qué nos muestra este gráfico? \n",
    "- ¿Cuáles son las principales observaciones que puede obtener sobre los datos a partir de los gráficos?"
   ]
  },
  {
   "cell_type": "code",
   "execution_count": 7,
   "metadata": {
    "ExecuteTime": {
     "end_time": "2020-09-28T01:11:33.557708Z",
     "start_time": "2020-09-28T01:11:26.485793Z"
    },
    "hidden": true,
    "id": "C-Gxhet_XQWt",
    "pycharm": {
     "is_executing": false
    }
   },
   "outputs": [
    {
     "data": {
      "image/png": "[encoded data removed]",
      "text/plain": [
       "<Figure size 900x900 with 30 Axes>"
      ]
     },
     "metadata": {},
     "output_type": "display_data"
    }
   ],
   "source": [
    "## EJECUTAR ESTE BLOQUE\n",
    "\n",
    "import matplotlib.pyplot as plt\n",
    "import seaborn as sns; sns.set(style=\"ticks\", color_codes=True)\n",
    "import pandas as pd\n",
    "\n",
    "wine = load_wine()\n",
    "data = pd.DataFrame(data=wine['data'], columns=wine['feature_names'])\n",
    "\n",
    "data['target'] = wine['target']\n",
    "data['class'] = data['target'].map(lambda ind: wine['target_names'][ind])\n",
    "\n",
    "g = sns.pairplot(data.iloc[:, [0,2,3,9,10]]) # Parametro kind=\"reg\" agrega una recta\n",
    "plt.show()"
   ]
  },
  {
   "cell_type": "code",
   "execution_count": 8,
   "metadata": {},
   "outputs": [
    {
     "data": {
      "text/html": [
       "<div>\n",
       "<style scoped>\n",
       "    .dataframe tbody tr th:only-of-type {\n",
       "        vertical-align: middle;\n",
       "    }\n",
       "\n",
       "    .dataframe tbody tr th {\n",
       "        vertical-align: top;\n",
       "    }\n",
       "\n",
       "    .dataframe thead th {\n",
       "        text-align: right;\n",
       "    }\n",
       "</style>\n",
       "<table border=\"1\" class=\"dataframe\">\n",
       "  <thead>\n",
       "    <tr style=\"text-align: right;\">\n",
       "      <th></th>\n",
       "      <th>alcohol</th>\n",
       "      <th>malic_acid</th>\n",
       "      <th>ash</th>\n",
       "      <th>alcalinity_of_ash</th>\n",
       "      <th>magnesium</th>\n",
       "      <th>total_phenols</th>\n",
       "      <th>flavanoids</th>\n",
       "      <th>nonflavanoid_phenols</th>\n",
       "      <th>proanthocyanins</th>\n",
       "      <th>color_intensity</th>\n",
       "      <th>hue</th>\n",
       "      <th>od280/od315_of_diluted_wines</th>\n",
       "      <th>proline</th>\n",
       "      <th>target</th>\n",
       "      <th>class</th>\n",
       "    </tr>\n",
       "  </thead>\n",
       "  <tbody>\n",
       "    <tr>\n",
       "      <th>0</th>\n",
       "      <td>14.23</td>\n",
       "      <td>1.71</td>\n",
       "      <td>2.43</td>\n",
       "      <td>15.6</td>\n",
       "      <td>127.0</td>\n",
       "      <td>2.80</td>\n",
       "      <td>3.06</td>\n",
       "      <td>0.28</td>\n",
       "      <td>2.29</td>\n",
       "      <td>5.64</td>\n",
       "      <td>1.04</td>\n",
       "      <td>3.92</td>\n",
       "      <td>1065.0</td>\n",
       "      <td>0</td>\n",
       "      <td>class_0</td>\n",
       "    </tr>\n",
       "    <tr>\n",
       "      <th>1</th>\n",
       "      <td>13.20</td>\n",
       "      <td>1.78</td>\n",
       "      <td>2.14</td>\n",
       "      <td>11.2</td>\n",
       "      <td>100.0</td>\n",
       "      <td>2.65</td>\n",
       "      <td>2.76</td>\n",
       "      <td>0.26</td>\n",
       "      <td>1.28</td>\n",
       "      <td>4.38</td>\n",
       "      <td>1.05</td>\n",
       "      <td>3.40</td>\n",
       "      <td>1050.0</td>\n",
       "      <td>0</td>\n",
       "      <td>class_0</td>\n",
       "    </tr>\n",
       "    <tr>\n",
       "      <th>2</th>\n",
       "      <td>13.16</td>\n",
       "      <td>2.36</td>\n",
       "      <td>2.67</td>\n",
       "      <td>18.6</td>\n",
       "      <td>101.0</td>\n",
       "      <td>2.80</td>\n",
       "      <td>3.24</td>\n",
       "      <td>0.30</td>\n",
       "      <td>2.81</td>\n",
       "      <td>5.68</td>\n",
       "      <td>1.03</td>\n",
       "      <td>3.17</td>\n",
       "      <td>1185.0</td>\n",
       "      <td>0</td>\n",
       "      <td>class_0</td>\n",
       "    </tr>\n",
       "    <tr>\n",
       "      <th>3</th>\n",
       "      <td>14.37</td>\n",
       "      <td>1.95</td>\n",
       "      <td>2.50</td>\n",
       "      <td>16.8</td>\n",
       "      <td>113.0</td>\n",
       "      <td>3.85</td>\n",
       "      <td>3.49</td>\n",
       "      <td>0.24</td>\n",
       "      <td>2.18</td>\n",
       "      <td>7.80</td>\n",
       "      <td>0.86</td>\n",
       "      <td>3.45</td>\n",
       "      <td>1480.0</td>\n",
       "      <td>0</td>\n",
       "      <td>class_0</td>\n",
       "    </tr>\n",
       "    <tr>\n",
       "      <th>4</th>\n",
       "      <td>13.24</td>\n",
       "      <td>2.59</td>\n",
       "      <td>2.87</td>\n",
       "      <td>21.0</td>\n",
       "      <td>118.0</td>\n",
       "      <td>2.80</td>\n",
       "      <td>2.69</td>\n",
       "      <td>0.39</td>\n",
       "      <td>1.82</td>\n",
       "      <td>4.32</td>\n",
       "      <td>1.04</td>\n",
       "      <td>2.93</td>\n",
       "      <td>735.0</td>\n",
       "      <td>0</td>\n",
       "      <td>class_0</td>\n",
       "    </tr>\n",
       "    <tr>\n",
       "      <th>...</th>\n",
       "      <td>...</td>\n",
       "      <td>...</td>\n",
       "      <td>...</td>\n",
       "      <td>...</td>\n",
       "      <td>...</td>\n",
       "      <td>...</td>\n",
       "      <td>...</td>\n",
       "      <td>...</td>\n",
       "      <td>...</td>\n",
       "      <td>...</td>\n",
       "      <td>...</td>\n",
       "      <td>...</td>\n",
       "      <td>...</td>\n",
       "      <td>...</td>\n",
       "      <td>...</td>\n",
       "    </tr>\n",
       "    <tr>\n",
       "      <th>173</th>\n",
       "      <td>13.71</td>\n",
       "      <td>5.65</td>\n",
       "      <td>2.45</td>\n",
       "      <td>20.5</td>\n",
       "      <td>95.0</td>\n",
       "      <td>1.68</td>\n",
       "      <td>0.61</td>\n",
       "      <td>0.52</td>\n",
       "      <td>1.06</td>\n",
       "      <td>7.70</td>\n",
       "      <td>0.64</td>\n",
       "      <td>1.74</td>\n",
       "      <td>740.0</td>\n",
       "      <td>2</td>\n",
       "      <td>class_2</td>\n",
       "    </tr>\n",
       "    <tr>\n",
       "      <th>174</th>\n",
       "      <td>13.40</td>\n",
       "      <td>3.91</td>\n",
       "      <td>2.48</td>\n",
       "      <td>23.0</td>\n",
       "      <td>102.0</td>\n",
       "      <td>1.80</td>\n",
       "      <td>0.75</td>\n",
       "      <td>0.43</td>\n",
       "      <td>1.41</td>\n",
       "      <td>7.30</td>\n",
       "      <td>0.70</td>\n",
       "      <td>1.56</td>\n",
       "      <td>750.0</td>\n",
       "      <td>2</td>\n",
       "      <td>class_2</td>\n",
       "    </tr>\n",
       "    <tr>\n",
       "      <th>175</th>\n",
       "      <td>13.27</td>\n",
       "      <td>4.28</td>\n",
       "      <td>2.26</td>\n",
       "      <td>20.0</td>\n",
       "      <td>120.0</td>\n",
       "      <td>1.59</td>\n",
       "      <td>0.69</td>\n",
       "      <td>0.43</td>\n",
       "      <td>1.35</td>\n",
       "      <td>10.20</td>\n",
       "      <td>0.59</td>\n",
       "      <td>1.56</td>\n",
       "      <td>835.0</td>\n",
       "      <td>2</td>\n",
       "      <td>class_2</td>\n",
       "    </tr>\n",
       "    <tr>\n",
       "      <th>176</th>\n",
       "      <td>13.17</td>\n",
       "      <td>2.59</td>\n",
       "      <td>2.37</td>\n",
       "      <td>20.0</td>\n",
       "      <td>120.0</td>\n",
       "      <td>1.65</td>\n",
       "      <td>0.68</td>\n",
       "      <td>0.53</td>\n",
       "      <td>1.46</td>\n",
       "      <td>9.30</td>\n",
       "      <td>0.60</td>\n",
       "      <td>1.62</td>\n",
       "      <td>840.0</td>\n",
       "      <td>2</td>\n",
       "      <td>class_2</td>\n",
       "    </tr>\n",
       "    <tr>\n",
       "      <th>177</th>\n",
       "      <td>14.13</td>\n",
       "      <td>4.10</td>\n",
       "      <td>2.74</td>\n",
       "      <td>24.5</td>\n",
       "      <td>96.0</td>\n",
       "      <td>2.05</td>\n",
       "      <td>0.76</td>\n",
       "      <td>0.56</td>\n",
       "      <td>1.35</td>\n",
       "      <td>9.20</td>\n",
       "      <td>0.61</td>\n",
       "      <td>1.60</td>\n",
       "      <td>560.0</td>\n",
       "      <td>2</td>\n",
       "      <td>class_2</td>\n",
       "    </tr>\n",
       "  </tbody>\n",
       "</table>\n",
       "<p>178 rows × 15 columns</p>\n",
       "</div>"
      ],
      "text/plain": [
       "     alcohol  malic_acid   ash  alcalinity_of_ash  magnesium  total_phenols  \\\n",
       "0      14.23        1.71  2.43               15.6      127.0           2.80   \n",
       "1      13.20        1.78  2.14               11.2      100.0           2.65   \n",
       "2      13.16        2.36  2.67               18.6      101.0           2.80   \n",
       "3      14.37        1.95  2.50               16.8      113.0           3.85   \n",
       "4      13.24        2.59  2.87               21.0      118.0           2.80   \n",
       "..       ...         ...   ...                ...        ...            ...   \n",
       "173    13.71        5.65  2.45               20.5       95.0           1.68   \n",
       "174    13.40        3.91  2.48               23.0      102.0           1.80   \n",
       "175    13.27        4.28  2.26               20.0      120.0           1.59   \n",
       "176    13.17        2.59  2.37               20.0      120.0           1.65   \n",
       "177    14.13        4.10  2.74               24.5       96.0           2.05   \n",
       "\n",
       "     flavanoids  nonflavanoid_phenols  proanthocyanins  color_intensity   hue  \\\n",
       "0          3.06                  0.28             2.29             5.64  1.04   \n",
       "1          2.76                  0.26             1.28             4.38  1.05   \n",
       "2          3.24                  0.30             2.81             5.68  1.03   \n",
       "3          3.49                  0.24             2.18             7.80  0.86   \n",
       "4          2.69                  0.39             1.82             4.32  1.04   \n",
       "..          ...                   ...              ...              ...   ...   \n",
       "173        0.61                  0.52             1.06             7.70  0.64   \n",
       "174        0.75                  0.43             1.41             7.30  0.70   \n",
       "175        0.69                  0.43             1.35            10.20  0.59   \n",
       "176        0.68                  0.53             1.46             9.30  0.60   \n",
       "177        0.76                  0.56             1.35             9.20  0.61   \n",
       "\n",
       "     od280/od315_of_diluted_wines  proline  target    class  \n",
       "0                            3.92   1065.0       0  class_0  \n",
       "1                            3.40   1050.0       0  class_0  \n",
       "2                            3.17   1185.0       0  class_0  \n",
       "3                            3.45   1480.0       0  class_0  \n",
       "4                            2.93    735.0       0  class_0  \n",
       "..                            ...      ...     ...      ...  \n",
       "173                          1.74    740.0       2  class_2  \n",
       "174                          1.56    750.0       2  class_2  \n",
       "175                          1.56    835.0       2  class_2  \n",
       "176                          1.62    840.0       2  class_2  \n",
       "177                          1.60    560.0       2  class_2  \n",
       "\n",
       "[178 rows x 15 columns]"
      ]
     },
     "execution_count": 8,
     "metadata": {},
     "output_type": "execute_result"
    }
   ],
   "source": [
    "data"
   ]
  },
  {
   "cell_type": "markdown",
   "metadata": {},
   "source": [
    "En primer lugar se importan las librerias, luego se carga el dataset con los datos de wine y se pasa a un Dataframe con sus respectivos atributos (feature_names), adicionalmente se crean dos columnas, una que contiene los target de cada instancia (target) y otra que se construye a partir de un mapeo sobre la anterior (class), donde se agrega la clase de la instancia basado en el target que posee, por ejemplo, si el target es 1 se busca en el indice 1 de la lista que contiene los nombres de las clases, el cual corresponde justamente a la clase_1. Finalmente, se hace un pairplot de los atributos: alcohol, ash, alcalinity_of_ash, color_intensity y hue. "
   ]
  },
  {
   "cell_type": "markdown",
   "metadata": {},
   "source": [
    "Este grafico nos muestra como se relacionan todos los pares de variables designados y ver si existe cierta correlacion entre ellos, ademas, para el par que tiene el mismo atributo (ej: (alcohol, alcohol)) nos muestra la distribucion de este en forma de histograma."
   ]
  },
  {
   "cell_type": "markdown",
   "metadata": {},
   "source": [
    "En general son pocas las correlaciones lineales que se pueden observar, las mas cercana que uno puede notar son de forma positiva (ash, color_intensity), (alcohol, color_intensity) y de forma negativa (color_intensity, hue). En la gran mayoria se tiene un cumulo \"concetrado\" de datos en cierto punto.\n",
    "Una pequeña observacion que se puede hacer es la existencia de un outlier en \"hue\" por sobre los 1.5 que tambien se ve reflejado al hacer la comparacion con otros atributos como este dato se aleja bastante del resto, situacion que se repite en otros atributos."
   ]
  },
  {
   "cell_type": "markdown",
   "metadata": {
    "heading_collapsed": true,
    "id": "JXcHtXFUXQW1",
    "pycharm": {}
   },
   "source": [
    "# Parte 2: Entrenar/testear clasificadores"
   ]
  },
  {
   "cell_type": "markdown",
   "metadata": {
    "hidden": true,
    "id": "651JYu7VXQW2",
    "pycharm": {}
   },
   "source": [
    "En esta parte useremos el clasificador **Decision Tree**. Veremos distintas formas de usarlo, y vamos a compararlas utilizando diversas métricas. "
   ]
  },
  {
   "cell_type": "markdown",
   "metadata": {
    "heading_collapsed": true,
    "hidden": true,
    "id": "6HRB6oDBXQW3",
    "pycharm": {}
   },
   "source": [
    "## Pregunta 2.1\n",
    "\n",
    "Usando el siguiente código, complete lo que falta para cargar los datos, entrenar y hacer una predicción empleando el clasificador. Luego, muestre las métricas de **accuracy**, **precision**, **recall** y **f1-score**."
   ]
  },
  {
   "cell_type": "code",
   "execution_count": null,
   "metadata": {
    "ExecuteTime": {
     "end_time": "2020-09-28T01:11:33.665446Z",
     "start_time": "2020-09-28T01:11:33.559713Z"
    },
    "hidden": true,
    "id": "TIKF6nyJXQW3",
    "pycharm": {}
   },
   "outputs": [],
   "source": [
    "## RESPUESTA PREGUNTA 2.1\n",
    "\n",
    "from sklearn.tree import DecisionTreeClassifier\n",
    "from sklearn.metrics import accuracy_score\n",
    "from sklearn.metrics import classification_report\n",
    "\n",
    "clf = DecisionTreeClassifier()\n",
    "\n",
    "X = wine.data      ## datos, caracteristicas o features \n",
    "y = wine.target    ## clase para cada instancia anterior\n",
    "\n",
    "# .... COMPLETE ACA\n"
   ]
  },
  {
   "cell_type": "markdown",
   "metadata": {
    "heading_collapsed": true,
    "hidden": true,
    "id": "zsnObGu-XADD"
   },
   "source": [
    "## Pregunta 2.2\n",
    "\n",
    "Explique cada una de las líneas de código de la pregunta 2.1 (omita las líneas que cargan librerías)."
   ]
  },
  {
   "cell_type": "markdown",
   "metadata": {
    "heading_collapsed": true,
    "hidden": true,
    "id": "pNEQK4DYXQW6",
    "pycharm": {}
   },
   "source": [
    "## Pregunta 2.3\n",
    "\n",
    "De acuerdo a las métricas obtenidas: \n",
    "\n",
    "1. ¿Qué opina sobre las predicciones? \n",
    "2. ¿Recomendaría utilizar este clasificador en una aplicacion para clasificar vinos? ¿Por qué?\n",
    "3. ¿Qué problema puede identificar?"
   ]
  },
  {
   "cell_type": "markdown",
   "metadata": {
    "heading_collapsed": true,
    "hidden": true,
    "id": "ZfTp-Sn3XADF"
   },
   "source": [
    "## CLASIFICADOR 2"
   ]
  },
  {
   "cell_type": "markdown",
   "metadata": {
    "hidden": true,
    "id": "Z4uSWz6fXADG"
   },
   "source": [
    "Ahora lo que haremos será dividir nuestro dataset en 70% entrenar (***training set***) y 30% para testear (***testing set***). Use la función ***train_test_split()*** de *sklearn* y utilice las variables `X_train, X_test, y_train, y_test`."
   ]
  },
  {
   "cell_type": "markdown",
   "metadata": {
    "heading_collapsed": true,
    "hidden": true,
    "id": "K2O9O-2HXADG"
   },
   "source": [
    "## Pregunta 2.4\n",
    "\n",
    "Escriba el código necesario para dividir los datos, entrenar el modelo e indicar el **accuracy**, **precision** y **recall** del clasificador. \n",
    "Entrene usando el ***training set*** y pruebe sobre el ***testing set***, en base a la división 70%-30%, respectivamente \n",
    "\n",
    "**NOTA: para dividir el dataset use el parámetro `stratify=y`.**"
   ]
  },
  {
   "cell_type": "code",
   "execution_count": null,
   "metadata": {
    "ExecuteTime": {
     "end_time": "2020-09-28T01:11:33.683493Z",
     "start_time": "2020-09-28T01:11:33.667451Z"
    },
    "hidden": true,
    "id": "cYvg3e6nXQW9",
    "pycharm": {}
   },
   "outputs": [],
   "source": [
    "### Respuesta a pregunta 2.4\n",
    "# ...\n",
    "# Recuerde usar las variables X_train, X_test, y_train, y_test\n",
    "\n"
   ]
  },
  {
   "cell_type": "markdown",
   "metadata": {
    "heading_collapsed": true,
    "hidden": true,
    "id": "ynsWofRRXADJ"
   },
   "source": [
    "## Pregunta 2.5\n",
    "\n",
    "Según el resultado obtenido en la pregunta anterior, responda lo siguiente:\n",
    "\n",
    "1. ¿Cuál clasificador tiene peores resultados? ¿Por qué?\n",
    "2. ¿Considera este clasificador mejor o peor que el anterior? ¿Por qué? (pregunta sobre el modelo, no sobre el método/algoritmo)\n",
    "3. ¿Cuál de las dos formas de entrenar el clasificador prefiere? "
   ]
  },
  {
   "cell_type": "markdown",
   "metadata": {
    "heading_collapsed": true,
    "hidden": true,
    "id": "tL6TPIutXQXD",
    "pycharm": {}
   },
   "source": [
    "## Pregunta 2.6\n",
    "\n",
    "El siguiente código genera una matriz de confusión de los resultados de clasificación de la pregunta 2.4. Ejecute el bloque completo para visualizar el gráfico. Interprete la matriz y comente sobre cada uno de los valores distintos de 0 en la matriz y describa lo que representa."
   ]
  },
  {
   "cell_type": "code",
   "execution_count": null,
   "metadata": {
    "ExecuteTime": {
     "end_time": "2020-09-28T01:11:33.937783Z",
     "start_time": "2020-09-28T01:11:33.685499Z"
    },
    "hidden": true,
    "id": "dQFr-d1mXADK"
   },
   "outputs": [],
   "source": [
    "## EJECUTAR ESTE BLOQUE\n",
    "\n",
    "from sklearn.metrics import confusion_matrix\n",
    "from sklearn.utils.multiclass import unique_labels\n",
    "\n",
    "# Compute confusion matrix. By default is not normalized (normalize=None)\n",
    "# If necessary change 'y_pred' according to your variable name\n",
    "cm = confusion_matrix(y_test, y_pred) \n",
    "\n",
    "# Only use the labels that appear in the data\n",
    "classes = wine.target_names[unique_labels(y_test, y_pred)]\n",
    "\n",
    "df = pd.DataFrame(cm, index = classes, columns = classes)\n",
    "\n",
    "g = sns.heatmap(df, annot=True, cmap=\"Blues\")\n",
    "g.set_yticklabels(g.get_yticklabels(), rotation = 0)\n",
    "\n",
    "plt.title('Confusion matrix \\n')\n",
    "plt.xlabel('Predicted label')\n",
    "plt.ylabel('True label')\n",
    "\n",
    "plt.autoscale()"
   ]
  },
  {
   "cell_type": "markdown",
   "metadata": {
    "hidden": true,
    "id": "8nnZ5QTPXADM"
   },
   "source": [
    "## CLASIFICADOR 3"
   ]
  },
  {
   "cell_type": "markdown",
   "metadata": {
    "hidden": true,
    "id": "XmZSQQSJXADN"
   },
   "source": [
    "Para este clasificador utilizaremos Cross-validation. Con cross-validation, el conjunto de entrenamiento se divide en $k$ conjuntos disjuntos; se entrena sobre los datos correspondientes a $k-1$ de éstos, y se evalúa sobre el conjunto restante. Esto se repite $k$ veces, evaluando siempre sobre un conjunto distinto. Teniendo en cuenta el parámetro $k$, a éste método se le llama $k$-fold cross-validation.\n",
    "\n",
    "El código que está a continuación realizará 10-fold cross-validation usando Decision Tree sobre los datos. La forma de estimar el rendimiento del clasificador es, entre otras cosas, calculando el promedio de todos los k-folds.\n",
    "\n",
    "Además se muestra la predición sobre los datos para testear. "
   ]
  },
  {
   "cell_type": "code",
   "execution_count": null,
   "metadata": {
    "ExecuteTime": {
     "end_time": "2020-09-28T01:11:34.015989Z",
     "start_time": "2020-09-28T01:11:33.939789Z"
    },
    "hidden": true,
    "id": "gJyyPpzxXQXI",
    "pycharm": {}
   },
   "outputs": [],
   "source": [
    "## EJECUTAR ESTE BLOQUE\n",
    "\n",
    "from sklearn.model_selection import cross_validate\n",
    "import numpy as np\n",
    "\n",
    "scoring = ['precision_macro', 'recall_macro', 'accuracy', 'f1_macro']\n",
    "cv_results = cross_validate(clf, X, y, cv = 10, scoring = scoring, return_train_score= True)\n",
    "\n",
    "print('Promedio Precision:', np.mean(cv_results['test_precision_macro']))\n",
    "print('Promedio Recall:', np.mean(cv_results['test_recall_macro']))\n",
    "print('Promedio F1-score:', np.mean(cv_results['test_f1_macro']))\n",
    "print('Promedio Accucary:', np.mean(cv_results['test_accuracy']))\n",
    "\n",
    "#Si quisieramos mostrar el resultado de cada k-fold, deberiamos quitar la \n",
    "#funcion np.mean la cual retorna el promedio. Esto mostraría una lista con el resultado de cada fold"
   ]
  },
  {
   "cell_type": "markdown",
   "metadata": {
    "hidden": true,
    "id": "U6_ceSH0XQXK",
    "pycharm": {}
   },
   "source": [
    "## Pregunta 2.7\n",
    "\n",
    "- ¿Qué indican los resultados obtenidos? \n",
    "\n",
    "- Compare los valores de las métricas con respecto a lo obtenido en la pregunta 2.4 y comente en qué difieren y por qué.\n",
    "\n",
    "- ¿Qué beneficios tiene emplear cross-validation?"
   ]
  },
  {
   "cell_type": "markdown",
   "metadata": {
    "heading_collapsed": true,
    "id": "LCJ9w1GfXQXL",
    "pycharm": {}
   },
   "source": [
    "# Parte 3: Comparar clasificadores"
   ]
  },
  {
   "cell_type": "markdown",
   "metadata": {
    "hidden": true,
    "id": "XqPvhC1XXADR"
   },
   "source": [
    "Una de las principales tareas en enfoques supervisados es evaluar diferentes clasificadores y encontrar el mejor rendimiento de alguno de ellos. Por ejemplo, si tenemos dos (o más) clasificadores y queremos compararlos entre sí, nos interesa responder: *¿Cuál de los clasificadores es el mejor?* \n",
    "Para responder esta pregunta, no existe una única solución. \n",
    "\n",
    "Lo que haremos a continuación será ejecutar diferentes clasificadores y compararlos en base a las métricas de Precision, Recall y F1-score."
   ]
  },
  {
   "cell_type": "markdown",
   "metadata": {
    "id": "KbremqiYyTNF"
   },
   "source": [
    "### PREGUNTA 3.1"
   ]
  },
  {
   "cell_type": "markdown",
   "metadata": {
    "hidden": true,
    "id": "c9ohYCUFXADR"
   },
   "source": [
    "\n",
    "Para realizar la evaluación de distintos clasificadores, vamos a crear la función `run_classifier()`, la cual evalúa un clasificador `clf` recibido como parámetro, un dataset `X,y` (features y target) y un número de tests llamado `num_test`. Esta función almacena y retorna los valores de precision, recall y f1-score en la variable `metrics` además de los resultados de predicción.\n",
    "\n",
    "En base a lo anterior, incluya las sentencias que ajusten el modelo junto a su correspondiente predicción sobre los datos. **No use cross-validation ni tampoco el parámetro `random_state`.**\n",
    "\n"
   ]
  },
  {
   "cell_type": "code",
   "execution_count": 4,
   "metadata": {
    "ExecuteTime": {
     "end_time": "2020-09-28T01:11:34.028494Z",
     "start_time": "2020-09-28T01:11:34.018999Z"
    },
    "hidden": true,
    "id": "TndzyqreXADS"
   },
   "outputs": [],
   "source": [
    "### COMPLETAR ESTE CÓDIGO\n",
    "\n",
    "## run_classifier recibe un clasificador y un dataset (X, y)\n",
    "## y opcionalmente la cantidad de resultados que se quiere obtener del clasificador\n",
    "\n",
    "from sklearn.metrics import f1_score, recall_score, precision_score\n",
    "from sklearn.model_selection import train_test_split\n",
    "import numpy as np\n",
    "\n",
    "def run_classifier(clf, X, y, num_tests=100):\n",
    "    metrics = {'f1-score': [], 'precision': [], 'recall': []}\n",
    "    \n",
    "    for _ in range(num_tests):\n",
    "        X_train, X_test, y_train, y_test = train_test_split(X, y, test_size=.30)\n",
    "        ### INICIO COMPLETAR ACÁ \n",
    "        \n",
    "        #### TIP: en base a los set de entrenamiento, genere la variable 'predictions' \n",
    "        #### que contiene las predicciones del modelo\n",
    "        clf.fit(X_train, y_train) \n",
    "        predictions = clf.predict(X_test)\n",
    "        \n",
    "        ### FIN COMPLETAR ACÁ\n",
    "        \n",
    "        metrics['y_pred'] = predictions\n",
    "        metrics['f1-score'].append(f1_score(y_test, predictions)) \n",
    "        metrics['recall'].append(recall_score(y_test, predictions))\n",
    "        metrics['precision'].append(precision_score(y_test, predictions))\n",
    "    \n",
    "    return metrics"
   ]
  },
  {
   "cell_type": "markdown",
   "metadata": {
    "hidden": true,
    "id": "VjXFx9xIXADU"
   },
   "source": [
    "Luego de completar el código anterior, ejecute el siguiente bloque para comparar distintos clasificadores. \n",
    "Usaremos un **dataset de cáncer de mamas** para evaluar. La información del dataset se puede encontrar en el siguiente link: https://scikit-learn.org/stable/modules/generated/sklearn.datasets.load_breast_cancer.html"
   ]
  },
  {
   "cell_type": "code",
   "execution_count": 5,
   "metadata": {
    "ExecuteTime": {
     "end_time": "2020-09-28T01:11:37.747387Z",
     "start_time": "2020-09-28T01:11:34.031505Z"
    },
    "hidden": true,
    "id": "-P2TfM7_XADU"
   },
   "outputs": [
    {
     "name": "stdout",
     "output_type": "stream",
     "text": [
      "----------------\n",
      "Resultados para clasificador:  Base Dummy\n",
      "Precision promedio: 0.6280346482782424\n",
      "Recall promedio: 0.628423042053552\n",
      "F1-score promedio: 0.6267635593319959\n",
      "----------------\n",
      "\n",
      "\n",
      "----------------\n",
      "Resultados para clasificador:  Decision Tree\n",
      "Precision promedio: 0.9445349637898726\n",
      "Recall promedio: 0.945762329396089\n",
      "F1-score promedio: 0.9448157820547253\n",
      "----------------\n",
      "\n",
      "\n",
      "----------------\n",
      "Resultados para clasificador:  Gaussian Naive Bayes\n",
      "Precision promedio: 0.9342950050587544\n",
      "Recall promedio: 0.9683965948005507\n",
      "F1-score promedio: 0.950812090864123\n",
      "----------------\n",
      "\n",
      "\n",
      "----------------\n",
      "Resultados para clasificador:  KNN\n",
      "Precision promedio: 0.9320978295516218\n",
      "Recall promedio: 0.9647403267807174\n",
      "F1-score promedio: 0.9479290770532152\n",
      "----------------\n",
      "\n",
      "\n",
      "----------------\n",
      "Resultados para clasificador:  Support Vector Machines\n",
      "Precision promedio: 0.8987627801908161\n",
      "Recall promedio: 0.9774710124554038\n",
      "F1-score promedio: 0.9361554134606714\n",
      "----------------\n",
      "\n",
      "\n"
     ]
    }
   ],
   "source": [
    "## ejecutar este código\n",
    "\n",
    "from sklearn.datasets import load_breast_cancer\n",
    "from sklearn.dummy import DummyClassifier\n",
    "from sklearn.tree import DecisionTreeClassifier\n",
    "from sklearn.naive_bayes import GaussianNB  # naive bayes\n",
    "from sklearn.neighbors import KNeighborsClassifier\n",
    "from sklearn.svm import SVC  # support vector machine classifier\n",
    "\n",
    "bc = load_breast_cancer()    # dataset cancer de mamas\n",
    "X = bc.data\n",
    "y = bc.target\n",
    "\n",
    "c0 = (\"Base Dummy\", DummyClassifier(strategy='stratified'))\n",
    "c1 = (\"Decision Tree\", DecisionTreeClassifier(max_depth=5))\n",
    "c2 = (\"Gaussian Naive Bayes\", GaussianNB())\n",
    "c3 = (\"KNN\", KNeighborsClassifier(n_neighbors=10))\n",
    "c4 = (\"Support Vector Machines\", SVC())\n",
    "\n",
    "classifiers = [c0, c1, c2, c3, c4]\n",
    "\n",
    "results = {}\n",
    "for name, clf in classifiers:\n",
    "    metrics = run_classifier(clf, X, y)   # hay que implementarla en el bloque anterior.\n",
    "    results[name] = metrics\n",
    "    print(\"----------------\")\n",
    "    print(\"Resultados para clasificador: \", name) \n",
    "    print(\"Precision promedio:\", np.array(metrics['precision']).mean())\n",
    "    print(\"Recall promedio:\", np.array(metrics['recall']).mean())\n",
    "    print(\"F1-score promedio:\", np.array(metrics['f1-score']).mean())\n",
    "    print(\"----------------\\n\\n\")  "
   ]
  },
  {
   "cell_type": "markdown",
   "metadata": {
    "id": "XHJqBEudcAv_"
   },
   "source": [
    "## Pregunta 3.2\n"
   ]
  },
  {
   "cell_type": "markdown",
   "metadata": {
    "id": "DArUyVkub9l3"
   },
   "source": [
    "Explique cómo escoge un árbol de decisión el atributo raíz.\n",
    "\n"
   ]
  },
  {
   "cell_type": "markdown",
   "metadata": {},
   "source": [
    "Se busca el atributo que produce los nodos mas \"puros\" posibles, y se aplica de forma recursiva para las ramas. Un criterio utilizado para medir esta pureza es *information gain* que entrega una valor correspondiente a la pureza promedio de cada subconjunto que genera cada atributo, para ello se utiliza la informacion en bits (Entropia) que ocuparia cada subconjuto de forma de saber quien me da la mayor ganancia de necesitar menos bits para codificar, definiendo de esta forma el *information gain* como: informacion antes del split - informacion despues del split. El atributo que maximice este valor es selecionado como atributo raiz."
   ]
  },
  {
   "cell_type": "markdown",
   "metadata": {
    "id": "XwyJoIixcMbP"
   },
   "source": [
    "## Pregunta 3.3"
   ]
  },
  {
   "cell_type": "markdown",
   "metadata": {
    "id": "Y4WI4GyZcNLP"
   },
   "source": [
    "Explique el problema de optimización que resuelve una SVM lineal.\n",
    "\n"
   ]
  },
  {
   "cell_type": "markdown",
   "metadata": {},
   "source": [
    "El problema de optimizacion consiste en encontrar un hiperplano que maximice el margen *b* en un problema de clasificacion binaria. Donde este margen se define a partir de la distancia del punto positivo y negativo mas cercanos al hiperplano, donde los positivos. Con lo cual se tiene el hiperplano mas generalizable que divide en dos regiones para clasificar nuevos datos."
   ]
  },
  {
   "cell_type": "markdown",
   "metadata": {
    "hidden": true,
    "id": "mcdnXXH6XADX"
   },
   "source": [
    "## Pregunta 3.4\n",
    "\n",
    "Analizando los resultados obtenidos de cada clasificador, y basándose en las métricas calculadas. ¿Cuál es el mejor clasificador? ¿Qué métricas observó para tomar esa decisión y por qué? considerando el problema que aborda. Fundamente su respuesta."
   ]
  },
  {
   "cell_type": "markdown",
   "metadata": {
    "hidden": true,
    "id": "S3IArx9qXADX"
   },
   "source": [
    "## Pregunta 3.5\n",
    "\n",
    "Un consultor en minería de datos tiene la siguiente estrategia al momento de enfrentar un problema de clasificación: probar todos los modelos posibles hasta encontrar uno que tenga cero error de entrenamiento. Comente la estrategia del consultor y proponga una estrategia alternativa."
   ]
  },
  {
   "cell_type": "markdown",
   "metadata": {
    "hidden": true,
    "id": "gUR5GMC_XADZ"
   },
   "source": [
    "## Pregunta 3.6\n",
    "\n",
    "El mismo consultor siempre usa la misma métrica para evaluar un modelo: accuracy. Comente la estrategia del consultor y proponga una estrategia alternativa."
   ]
  },
  {
   "cell_type": "markdown",
   "metadata": {
    "ExecuteTime": {
     "end_time": "2020-09-28T00:01:32.541764Z",
     "start_time": "2020-09-28T00:01:32.538758Z"
    },
    "heading_collapsed": true,
    "id": "dcgTjBD7XADZ"
   },
   "source": [
    "# Parte 4: Seleccionar hiperparámetros"
   ]
  },
  {
   "cell_type": "markdown",
   "metadata": {
    "hidden": true,
    "id": "0p7LwuvEXADa"
   },
   "source": [
    "Los hiperparámetros son parámetros que no se aprenden directamente dentro de los estimadores. En scikit-learn se pasan como argumentos al constructor de las clases, por ejemplo cuál kernel usar para Support Vector Classifier, o qué criterio para Decision Tree, etc. Es posible y recomendable buscar en el espacio de hiperparámetros la mejor alternativa.\n",
    "\n",
    "Tenga en cuenta que es común que un pequeño subconjunto de esos parámetros pueda tener un gran impacto en el rendimiento predictivo o de cálculo del modelo, mientras que otros pueden dejar sus valores predeterminados. Se recomienda leer la documentación de la clase de estimador para obtener una mejor comprensión de su comportamiento esperado."
   ]
  },
  {
   "cell_type": "markdown",
   "metadata": {
    "hidden": true,
    "id": "-XnXy9a7XADa"
   },
   "source": [
    "## GridSearchCV\n",
    "\n",
    "Una alternativa para seleccionar hiperparámetros es GridSearchCV, la cual considera exhaustivamente todas las combinaciones de parámetros. GridSearchCV recibe un *estimador*, recibe *param_grid* (un diccionario o una lista de diccionarios con los nombres de los parametros a probar como keys y una lista de los valores a probar), *scoring* una o varias funciones de puntuación (score) para evaluar cada combinación de parametros (opciones válidas: https://scikit-learn.org/stable/modules/model_evaluation.html) y *cv* una extrategia para hacer validación cruzada.\n",
    "\n",
    "El siguiente código muestra cómo seleccionar el número de vecinos y qué pesos otorgar a los vecinos en un clasificador KNN. \n",
    " \n"
   ]
  },
  {
   "cell_type": "code",
   "execution_count": null,
   "metadata": {
    "ExecuteTime": {
     "end_time": "2020-09-28T01:11:38.025125Z",
     "start_time": "2020-09-28T01:11:37.749394Z"
    },
    "hidden": true,
    "id": "mlzgox92XADb"
   },
   "outputs": [],
   "source": [
    "from sklearn.model_selection import GridSearchCV\n",
    "from sklearn.metrics import classification_report\n",
    "\n",
    "X_train, X_test, y_train, y_test = train_test_split(X, y, test_size=.30)\n",
    "\n",
    "#Configure tuned_parameters\n",
    "tuned_parameters = {'n_neighbors': [1, 3, 5, 10], \n",
    "                    'weights': ['uniform','distance']}\n",
    "\n",
    "#set scoring metric\n",
    "score = 'precision' \n",
    "\n",
    "#Construir el clf con GridSearch\n",
    "clf = GridSearchCV(KNeighborsClassifier(), \n",
    "                   param_grid=tuned_parameters, \n",
    "                   cv=5,\n",
    "                   scoring=score)\n",
    "\n",
    "#Entrenar clf\n",
    "clf.fit(X_train, y_train)\n",
    "\n",
    "print(\"Mejor combinación de parámetros:\")\n",
    "print(clf.best_params_)\n",
    " \n",
    "y_true, y_pred = y_test, clf.predict(X_test)\n",
    "\n",
    "print(classification_report(y_true, y_pred))"
   ]
  },
  {
   "cell_type": "markdown",
   "metadata": {
    "hidden": true,
    "id": "BX8g3y2zXADd"
   },
   "source": [
    "## Pregunta 4.1\n",
    "\n",
    "*  a) Realice este mismo proceso para un clasificador DecisionTree y los parametros criterion=['gini','entropy'], max_depth=[2,5,10] y tomando como scoring metric 'f1'. Use cv=6\n",
    "*  b) ¿Qué puede decir de los resultados, con cuáles parámetros los obtuvo (revise que su respuesta concuerde con lo que imprime)? ¿Cuál considera que es la principal ventaja de aplicar GridSearchCV? ¿Considera que es necesario seguir explorando los parámetros?"
   ]
  },
  {
   "cell_type": "code",
   "execution_count": null,
   "metadata": {
    "ExecuteTime": {
     "end_time": "2020-09-28T01:11:38.300858Z",
     "start_time": "2020-09-28T01:11:38.027133Z"
    },
    "hidden": true,
    "id": "vSmxont4XADd"
   },
   "outputs": [],
   "source": [
    "## RESPUESTA A PREGUNTA 4.1 a)\n",
    "\n",
    "X_train, X_test, y_train, y_test = train_test_split(X, y, test_size=.30)\n",
    "\n",
    "## COMPLETE ACÁ\n",
    "\n",
    "##### FIN COMPLETE ACÁ\n",
    "print(\"Mejor combinación de parámetros:\")\n",
    "print(clf.best_params_)\n",
    " \n",
    "y_true, y_pred = y_test, clf.predict(X_test)\n",
    "print(classification_report(y_true, y_pred))"
   ]
  },
  {
   "cell_type": "markdown",
   "metadata": {
    "id": "Rf4BSIjTXADq"
   },
   "source": [
    "# Parte 5: Trabajar con clases desbalanceadas"
   ]
  },
  {
   "cell_type": "markdown",
   "metadata": {
    "id": "W3fb8kQ7XADq"
   },
   "source": [
    "Para mejorar el rendimiento de un clasificador sobre clases desbalanceadas existen varias técnicas. En esta parte, veremos cómo tratar con este problema usando (sub/over) sampling de las clases.\n",
    "\n",
    "(*Nota: Para ejecutar el siguiente bloque es necesaria la librería `pandas` que viene incluida en Anaconda.*)"
   ]
  },
  {
   "cell_type": "code",
   "execution_count": 1,
   "metadata": {
    "ExecuteTime": {
     "end_time": "2020-09-28T01:11:38.465037Z",
     "start_time": "2020-09-28T01:11:38.302866Z"
    },
    "id": "lcXqhaBzXADr"
   },
   "outputs": [
    {
     "data": {
      "text/html": [
       "<div>\n",
       "<style scoped>\n",
       "    .dataframe tbody tr th:only-of-type {\n",
       "        vertical-align: middle;\n",
       "    }\n",
       "\n",
       "    .dataframe tbody tr th {\n",
       "        vertical-align: top;\n",
       "    }\n",
       "\n",
       "    .dataframe thead th {\n",
       "        text-align: right;\n",
       "    }\n",
       "</style>\n",
       "<table border=\"1\" class=\"dataframe\">\n",
       "  <thead>\n",
       "    <tr style=\"text-align: right;\">\n",
       "      <th></th>\n",
       "      <th>V3</th>\n",
       "      <th>V4</th>\n",
       "      <th>V5</th>\n",
       "      <th>V6</th>\n",
       "      <th>V7</th>\n",
       "      <th>V8</th>\n",
       "      <th>V9</th>\n",
       "      <th>V10</th>\n",
       "      <th>V11</th>\n",
       "      <th>V12</th>\n",
       "      <th>...</th>\n",
       "      <th>V26</th>\n",
       "      <th>V27</th>\n",
       "      <th>V28</th>\n",
       "      <th>V29</th>\n",
       "      <th>V30</th>\n",
       "      <th>V31</th>\n",
       "      <th>V32</th>\n",
       "      <th>V33</th>\n",
       "      <th>V34</th>\n",
       "      <th>Class</th>\n",
       "    </tr>\n",
       "  </thead>\n",
       "  <tbody>\n",
       "    <tr>\n",
       "      <th>0</th>\n",
       "      <td>0.99539</td>\n",
       "      <td>-0.05889</td>\n",
       "      <td>0.85243</td>\n",
       "      <td>0.02306</td>\n",
       "      <td>0.83398</td>\n",
       "      <td>-0.37708</td>\n",
       "      <td>1.00000</td>\n",
       "      <td>0.03760</td>\n",
       "      <td>0.85243</td>\n",
       "      <td>-0.17755</td>\n",
       "      <td>...</td>\n",
       "      <td>-0.51171</td>\n",
       "      <td>0.41078</td>\n",
       "      <td>-0.46168</td>\n",
       "      <td>0.21266</td>\n",
       "      <td>-0.34090</td>\n",
       "      <td>0.42267</td>\n",
       "      <td>-0.54487</td>\n",
       "      <td>0.18641</td>\n",
       "      <td>-0.45300</td>\n",
       "      <td>0</td>\n",
       "    </tr>\n",
       "    <tr>\n",
       "      <th>1</th>\n",
       "      <td>1.00000</td>\n",
       "      <td>-0.18829</td>\n",
       "      <td>0.93035</td>\n",
       "      <td>-0.36156</td>\n",
       "      <td>-0.10868</td>\n",
       "      <td>-0.93597</td>\n",
       "      <td>1.00000</td>\n",
       "      <td>-0.04549</td>\n",
       "      <td>0.50874</td>\n",
       "      <td>-0.67743</td>\n",
       "      <td>...</td>\n",
       "      <td>-0.26569</td>\n",
       "      <td>-0.20468</td>\n",
       "      <td>-0.18401</td>\n",
       "      <td>-0.19040</td>\n",
       "      <td>-0.11593</td>\n",
       "      <td>-0.16626</td>\n",
       "      <td>-0.06288</td>\n",
       "      <td>-0.13738</td>\n",
       "      <td>-0.02447</td>\n",
       "      <td>1</td>\n",
       "    </tr>\n",
       "    <tr>\n",
       "      <th>2</th>\n",
       "      <td>1.00000</td>\n",
       "      <td>-0.03365</td>\n",
       "      <td>1.00000</td>\n",
       "      <td>0.00485</td>\n",
       "      <td>1.00000</td>\n",
       "      <td>-0.12062</td>\n",
       "      <td>0.88965</td>\n",
       "      <td>0.01198</td>\n",
       "      <td>0.73082</td>\n",
       "      <td>0.05346</td>\n",
       "      <td>...</td>\n",
       "      <td>-0.40220</td>\n",
       "      <td>0.58984</td>\n",
       "      <td>-0.22145</td>\n",
       "      <td>0.43100</td>\n",
       "      <td>-0.17365</td>\n",
       "      <td>0.60436</td>\n",
       "      <td>-0.24180</td>\n",
       "      <td>0.56045</td>\n",
       "      <td>-0.38238</td>\n",
       "      <td>0</td>\n",
       "    </tr>\n",
       "    <tr>\n",
       "      <th>3</th>\n",
       "      <td>1.00000</td>\n",
       "      <td>-0.45161</td>\n",
       "      <td>1.00000</td>\n",
       "      <td>1.00000</td>\n",
       "      <td>0.71216</td>\n",
       "      <td>-1.00000</td>\n",
       "      <td>0.00000</td>\n",
       "      <td>0.00000</td>\n",
       "      <td>0.00000</td>\n",
       "      <td>0.00000</td>\n",
       "      <td>...</td>\n",
       "      <td>0.90695</td>\n",
       "      <td>0.51613</td>\n",
       "      <td>1.00000</td>\n",
       "      <td>1.00000</td>\n",
       "      <td>-0.20099</td>\n",
       "      <td>0.25682</td>\n",
       "      <td>1.00000</td>\n",
       "      <td>-0.32382</td>\n",
       "      <td>1.00000</td>\n",
       "      <td>1</td>\n",
       "    </tr>\n",
       "    <tr>\n",
       "      <th>4</th>\n",
       "      <td>1.00000</td>\n",
       "      <td>-0.02401</td>\n",
       "      <td>0.94140</td>\n",
       "      <td>0.06531</td>\n",
       "      <td>0.92106</td>\n",
       "      <td>-0.23255</td>\n",
       "      <td>0.77152</td>\n",
       "      <td>-0.16399</td>\n",
       "      <td>0.52798</td>\n",
       "      <td>-0.20275</td>\n",
       "      <td>...</td>\n",
       "      <td>-0.65158</td>\n",
       "      <td>0.13290</td>\n",
       "      <td>-0.53206</td>\n",
       "      <td>0.02431</td>\n",
       "      <td>-0.62197</td>\n",
       "      <td>-0.05707</td>\n",
       "      <td>-0.59573</td>\n",
       "      <td>-0.04608</td>\n",
       "      <td>-0.65697</td>\n",
       "      <td>0</td>\n",
       "    </tr>\n",
       "  </tbody>\n",
       "</table>\n",
       "<p>5 rows × 33 columns</p>\n",
       "</div>"
      ],
      "text/plain": [
       "        V3       V4       V5       V6       V7       V8       V9      V10  \\\n",
       "0  0.99539 -0.05889  0.85243  0.02306  0.83398 -0.37708  1.00000  0.03760   \n",
       "1  1.00000 -0.18829  0.93035 -0.36156 -0.10868 -0.93597  1.00000 -0.04549   \n",
       "2  1.00000 -0.03365  1.00000  0.00485  1.00000 -0.12062  0.88965  0.01198   \n",
       "3  1.00000 -0.45161  1.00000  1.00000  0.71216 -1.00000  0.00000  0.00000   \n",
       "4  1.00000 -0.02401  0.94140  0.06531  0.92106 -0.23255  0.77152 -0.16399   \n",
       "\n",
       "       V11      V12  ...      V26      V27      V28      V29      V30  \\\n",
       "0  0.85243 -0.17755  ... -0.51171  0.41078 -0.46168  0.21266 -0.34090   \n",
       "1  0.50874 -0.67743  ... -0.26569 -0.20468 -0.18401 -0.19040 -0.11593   \n",
       "2  0.73082  0.05346  ... -0.40220  0.58984 -0.22145  0.43100 -0.17365   \n",
       "3  0.00000  0.00000  ...  0.90695  0.51613  1.00000  1.00000 -0.20099   \n",
       "4  0.52798 -0.20275  ... -0.65158  0.13290 -0.53206  0.02431 -0.62197   \n",
       "\n",
       "       V31      V32      V33      V34  Class  \n",
       "0  0.42267 -0.54487  0.18641 -0.45300      0  \n",
       "1 -0.16626 -0.06288 -0.13738 -0.02447      1  \n",
       "2  0.60436 -0.24180  0.56045 -0.38238      0  \n",
       "3  0.25682  1.00000 -0.32382  1.00000      1  \n",
       "4 -0.05707 -0.59573 -0.04608 -0.65697      0  \n",
       "\n",
       "[5 rows x 33 columns]"
      ]
     },
     "execution_count": 1,
     "metadata": {},
     "output_type": "execute_result"
    }
   ],
   "source": [
    "import pandas as pd\n",
    "\n",
    "# Cargamos dataset desbalanceado\n",
    "unbalanced_path = 'https://users.dcc.uchile.cl/~hsarmien/mineria/datasets/unbalanced.csv'\n",
    "data = pd.read_csv(unbalanced_path)  # abrimos el archivo csv y lo cargamos en data\n",
    "data.head()"
   ]
  },
  {
   "cell_type": "markdown",
   "metadata": {
    "ExecuteTime": {
     "end_time": "2020-09-28T00:36:22.116129Z",
     "start_time": "2020-09-28T00:36:22.111116Z"
    },
    "id": "QFNMUPd-XADu"
   },
   "source": [
    "Note el desbalance de las clases ejecutando el siguiente código:"
   ]
  },
  {
   "cell_type": "code",
   "execution_count": 2,
   "metadata": {
    "ExecuteTime": {
     "end_time": "2020-09-28T01:11:38.476062Z",
     "start_time": "2020-09-28T01:11:38.467038Z"
    },
    "id": "lXrcsboyXADu",
    "outputId": "12e71b35-ccac-43f6-de3f-ab88d704cb52"
   },
   "outputs": [
    {
     "name": "stdout",
     "output_type": "stream",
     "text": [
      "Distribucion de clases original\n"
     ]
    },
    {
     "data": {
      "text/plain": [
       "0    225\n",
       "1    126\n",
       "Name: Class, dtype: int64"
      ]
     },
     "execution_count": 2,
     "metadata": {},
     "output_type": "execute_result"
    }
   ],
   "source": [
    "print(\"Distribucion de clases original\")\n",
    "data['Class'].value_counts()"
   ]
  },
  {
   "cell_type": "markdown",
   "metadata": {
    "id": "nlMr6-9GXADx"
   },
   "source": [
    "Antes de hacer algo para tratar el desbalance entre las clases primero debemos dividir en train-test."
   ]
  },
  {
   "cell_type": "code",
   "execution_count": 6,
   "metadata": {
    "ExecuteTime": {
     "end_time": "2020-09-28T01:11:38.496117Z",
     "start_time": "2020-09-28T01:11:38.478068Z"
    },
    "id": "Qr7JzTG-XADy"
   },
   "outputs": [],
   "source": [
    "data_train, data_test, ytrain, ytest = train_test_split(data, data['Class'], test_size=0.3, stratify=data['Class'])"
   ]
  },
  {
   "cell_type": "markdown",
   "metadata": {
    "id": "NOcCYt0QXAD0"
   },
   "source": [
    "Así queda la proporción de clases en el train después de dividir en train-test."
   ]
  },
  {
   "cell_type": "code",
   "execution_count": 7,
   "metadata": {
    "ExecuteTime": {
     "end_time": "2020-09-28T01:11:38.507145Z",
     "start_time": "2020-09-28T01:11:38.499125Z"
    },
    "id": "Xzkc7FtJXAD1",
    "outputId": "bc7ed899-a49f-4b53-a771-1176d904d394"
   },
   "outputs": [
    {
     "data": {
      "text/plain": [
       "0    157\n",
       "1     88\n",
       "Name: Class, dtype: int64"
      ]
     },
     "execution_count": 7,
     "metadata": {},
     "output_type": "execute_result"
    }
   ],
   "source": [
    "ytrain.value_counts()"
   ]
  },
  {
   "cell_type": "markdown",
   "metadata": {
    "id": "q_X5CY14XAD3"
   },
   "source": [
    "Ahora, usando el dataset anterior, aplicaremos **oversampling** y **subsampling** al train para que queden balanceados. Ejecute el siguiente código y note ahora que las clases están balanceadas. "
   ]
  },
  {
   "cell_type": "code",
   "execution_count": 11,
   "metadata": {
    "ExecuteTime": {
     "end_time": "2020-09-28T01:11:38.534218Z",
     "start_time": "2020-09-28T01:11:38.510154Z"
    },
    "id": "WpXH_EZkXAD4",
    "outputId": "c4e82551-890f-4830-8392-7d8f4e847057"
   },
   "outputs": [
    {
     "name": "stdout",
     "output_type": "stream",
     "text": [
      "Distribución de clases usando (over/sub) sampling\n",
      "\n",
      "Data oversampled on class '1'\n",
      "1    157\n",
      "0    157\n",
      "Name: Class, dtype: int64\n",
      "\n",
      "Data subsampled on class '0'\n",
      "1    88\n",
      "0    88\n",
      "Name: Class, dtype: int64\n"
     ]
    }
   ],
   "source": [
    "import numpy as np\n",
    "\n",
    "print(\"Distribución de clases usando (over/sub) sampling\")\n",
    "print()\n",
    "\n",
    "data_train = data_train.reset_index(drop=True)\n",
    "\n",
    "# oversampling sobre la clase 1\n",
    "idx = np.random.choice(data_train[data_train['Class'] == 1].index, size=69)\n",
    "data_oversampled = pd.concat([data_train, data_train.iloc[idx]])\n",
    "print(\"Data oversampled on class '1'\")\n",
    "print(data_oversampled['Class'].value_counts())\n",
    "print()\n",
    "\n",
    "\n",
    "# subsampling sobre la clase 0\n",
    "idx = np.random.choice(data_train.loc[data_train.Class == 0].index, size=69, replace=False)\n",
    "data_subsampled = data_train.drop(data_train.iloc[idx].index)\n",
    "print(\"Data subsampled on class '0'\")\n",
    "print(data_subsampled['Class'].value_counts())"
   ]
  },
  {
   "cell_type": "markdown",
   "metadata": {
    "id": "lNRoMB4bXAD6"
   },
   "source": [
    "## Pregunta 5. 1\n",
    "\n",
    "¿Por qué aplicar (sub/over) sampling de las clases sobre el conjunto de entrenamiento en lugar de aplicarlo sobre el dataset completo?"
   ]
  },
  {
   "cell_type": "markdown",
   "metadata": {},
   "source": [
    "En general, hacer subsampling sobre el dataset completo nos esta quitando parte de la informacion recopilada y perder mas casos sobre los cuales testear para saber la precision del modelo. Por otro lado el hacer oversampling puede ocurrir que al dividir los datos, nos queden datos iguales en los destinados a entrenamientos y test, de forma que al probarse el modelo, no esta siendo del todo generalizado las metricas de testeo, debido que estamos probando el modelo con datos que ya se los sabe de antemano y por lo tanto siempre acierta de forma correcta. Otro caso que puede ocurrir es que los datos repetidos queden en el set de testeo, lo cual es redudante, porque estaria repitiendo una clasificacion."
   ]
  },
  {
   "cell_type": "markdown",
   "metadata": {
    "id": "urh4G7FhXAD6"
   },
   "source": [
    "**Nota:** *Librerías como `imblearn` son muy útiles para balancear los datos.*"
   ]
  },
  {
   "cell_type": "markdown",
   "metadata": {
    "id": "AWA7_lHxXAD7"
   },
   "source": [
    "Vamos a entrenar un árbol de decisión (`DecisionTreeClassifier`) sobre los 3 datasets por separado (**original**, con **oversampling** y con **subsampling**) y luego comparamos los resultados usando alguna métrica de evaluación.\n",
    "\n",
    "Ejecute el siguiente bloque para cargar los datos:"
   ]
  },
  {
   "cell_type": "code",
   "execution_count": 9,
   "metadata": {
    "ExecuteTime": {
     "end_time": "2020-09-28T01:11:38.550261Z",
     "start_time": "2020-09-28T01:11:38.536222Z"
    },
    "id": "O5I5iZDoXAD7"
   },
   "outputs": [],
   "source": [
    "## ejecutar este código para preparar los datos\n",
    "from sklearn.metrics import classification_report\n",
    "\n",
    "# Preparando los data frames para ser compatibles con sklearn\n",
    "\n",
    "# datos test (mismo para todos los conjuntos de entrenamiento)\n",
    "X_test = data_test[data_train.columns[:-1]] # todo hasta la penultima columna\n",
    "y_test = data_test[data_train.columns[-1]]  # la última columna\n",
    "\n",
    "# datos entrenamiento \"originales\"\n",
    "X_orig = data_train[data_train.columns[:-1]] \n",
    "y_orig = data_train[data_train.columns[-1]] \n",
    "\n",
    "# datos entrenamiento \"oversampleados\" \n",
    "X_over = data_oversampled[data_train.columns[:-1]]\n",
    "y_over = data_oversampled[data_train.columns[-1]]\n",
    "\n",
    "# datos entrenamiento \"subsampleados\"\n",
    "X_subs = data_subsampled[data_train.columns[:-1]]\n",
    "y_subs = data_subsampled[data_train.columns[-1]]"
   ]
  },
  {
   "cell_type": "markdown",
   "metadata": {
    "id": "3d4EzFI_XAD8"
   },
   "source": [
    "A continuación, se ejecuta el clasificador en cada uno de los tres casos, usando como datos de entrada lo del bloque anterior. Para cada caso se entrena con el dataset correspondiente y se evalúa con el conjunto de test (el mismo para los tres casos) obtenido con train_test_split sobre los datos originales. \n",
    "\n",
    "Se muestra Precision, Recall y F1-score."
   ]
  },
  {
   "cell_type": "code",
   "execution_count": 15,
   "metadata": {
    "ExecuteTime": {
     "end_time": "2020-09-28T01:11:38.601396Z",
     "start_time": "2020-09-28T01:11:38.553269Z"
    },
    "id": "AXu3Hx77XAD9",
    "outputId": "47e6c469-710c-4b20-cd07-cf260a14563c"
   },
   "outputs": [
    {
     "name": "stdout",
     "output_type": "stream",
     "text": [
      "ORIGINAL::::::::::\n",
      "              precision    recall  f1-score   support\n",
      "\n",
      "           0       0.90      0.84      0.87        68\n",
      "           1       0.74      0.84      0.79        38\n",
      "\n",
      "    accuracy                           0.84       106\n",
      "   macro avg       0.82      0.84      0.83       106\n",
      "weighted avg       0.85      0.84      0.84       106\n",
      "\n",
      "OVERSAMPLING::::::::::\n",
      "              precision    recall  f1-score   support\n",
      "\n",
      "           0       0.89      0.87      0.88        68\n",
      "           1       0.78      0.82      0.79        38\n",
      "\n",
      "    accuracy                           0.85       106\n",
      "   macro avg       0.83      0.84      0.84       106\n",
      "weighted avg       0.85      0.85      0.85       106\n",
      "\n",
      "SUBSAMPLING::::::::::\n",
      "              precision    recall  f1-score   support\n",
      "\n",
      "           0       0.89      0.74      0.81        68\n",
      "           1       0.64      0.84      0.73        38\n",
      "\n",
      "    accuracy                           0.77       106\n",
      "   macro avg       0.77      0.79      0.77       106\n",
      "weighted avg       0.80      0.77      0.78       106\n",
      "\n"
     ]
    }
   ],
   "source": [
    "from sklearn.tree import DecisionTreeClassifier\n",
    "from sklearn.model_selection import train_test_split\n",
    "\n",
    "## Pasos:\n",
    "##  - instanciar el clasificador con DecisionTreeClassifier()\n",
    "##  - entrenar con fit()\n",
    "##  - hacer las predicciones\n",
    "##  - mostrar precision, recall y f1-score con classification report.\n",
    "\n",
    "print(\"ORIGINAL::::::::::\")\n",
    "clf_orig = DecisionTreeClassifier()\n",
    "clf_orig.fit(X_orig, y_orig)\n",
    "pred_orig = clf_orig.predict(X_test)\n",
    "print(classification_report(y_test, pred_orig))\n",
    "\n",
    "print(\"OVERSAMPLING::::::::::\")\n",
    "clf_over = DecisionTreeClassifier()\n",
    "clf_over.fit(X_over, y_over)\n",
    "pred_over = clf_over.predict(X_test)\n",
    "print(classification_report(y_test, pred_over))\n",
    "\n",
    "print(\"SUBSAMPLING::::::::::\")\n",
    "clf_subs = DecisionTreeClassifier()\n",
    "clf_subs.fit(X_subs, y_subs)\n",
    "pred_subs = clf_subs.predict(X_test)\n",
    "print(classification_report(y_test, pred_subs))"
   ]
  },
  {
   "cell_type": "markdown",
   "metadata": {
    "id": "5XkE5zruXAD-"
   },
   "source": [
    "## Pregunta 5.2\n",
    "\n",
    "- Observe los resultados obtenidos por clase con cada conjunto de entrenamiento, se puede observar alguna diferencia importante? \n",
    "- Indique una desventaja de usar oversampling y una desventaja de usar subsampling en clasificación."
   ]
  }
 ],
 "metadata": {
  "anaconda-cloud": {},
  "colab": {
   "collapsed_sections": [],
   "name": "Tarea 2",
   "provenance": []
  },
  "hide_input": false,
  "kernelspec": {
   "display_name": "Python 3",
   "language": "python",
   "name": "python3"
  },
  "language_info": {
   "codemirror_mode": {
    "name": "ipython",
    "version": 3
   },
   "file_extension": ".py",
   "mimetype": "text/x-python",
   "name": "python",
   "nbconvert_exporter": "python",
   "pygments_lexer": "ipython3",
   "version": "3.8.3"
  },
  "toc": {
   "base_numbering": 1,
   "nav_menu": {},
   "number_sections": true,
   "sideBar": true,
   "skip_h1_title": false,
   "title_cell": "Table of Contents",
   "title_sidebar": "Contents",
   "toc_cell": false,
   "toc_position": {},
   "toc_section_display": true,
   "toc_window_display": false
  },
  "varInspector": {
   "cols": {
    "lenName": 16,
    "lenType": 16,
    "lenVar": 40
   },
   "kernels_config": {
    "python": {
     "delete_cmd_postfix": "",
     "delete_cmd_prefix": "del ",
     "library": "var_list.py",
     "varRefreshCmd": "print(var_dic_list())"
    },
    "r": {
     "delete_cmd_postfix": ") ",
     "delete_cmd_prefix": "rm(",
     "library": "var_list.r",
     "varRefreshCmd": "cat(var_dic_list()) "
    }
   },
   "types_to_exclude": [
    "module",
    "function",
    "builtin_function_or_method",
    "instance",
    "_Feature"
   ],
   "window_display": false
  }
 },
 "nbformat": 4,
 "nbformat_minor": 4
}
