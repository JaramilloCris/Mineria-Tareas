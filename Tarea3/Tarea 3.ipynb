{
 "cells": [
  {
   "cell_type": "markdown",
   "metadata": {
    "id": "p_XcuC2rXQWb",
    "pycharm": {}
   },
   "source": [
    "# Tarea 3: Clasificacion II + Clustering\n",
    "\n",
    "Felipe Bravo, Hernán Sarmiento, Aymé Arango, Alison Fernandez, Cinthia Mabel Sánchez, Juan-Pablo Silva\n",
    "\n",
    "**Noviembre 2020**"
   ]
  },
  {
   "cell_type": "markdown",
   "metadata": {
    "heading_collapsed": true,
    "id": "RvarrC_jXQWe",
    "pycharm": {}
   },
   "source": [
    "## ============= Declaración de compromiso ético =============\n",
    "\n",
    "Nosotros ****AGREGUEN SUS NOMBRES**** , declaramos que realizamos de manera grupal los pasos de la presente actividad. También declaramos no incurrir en copia, ni compartir nuestras respuestas con otras personas ni con otros grupos. Por lo que, ratificamos que las respuestas son de nuestra propia confección y reflejan nuestro propio conocimiento.\n"
   ]
  },
  {
   "cell_type": "markdown",
   "metadata": {
    "heading_collapsed": true,
    "id": "bxEPucKhXQWg",
    "pycharm": {}
   },
   "source": [
    "# Instrucciones\n",
    "\n",
    "\n",
    "1. Trabajen en equipos de dos o tres personas. Salvo excepciones, no se corregirá entregas con menos de dos integrantes.\n",
    "\n",
    "2. Modifique este archivo `.ipynb` agregando sus respuestas donde corresponda. \n",
    "\n",
    "3. Cuando finalice el laboratorio, **genere un archivo HTML** usando jupyter (ver tutorial 2) y súbalo a U-Cursos. El laboratorio debe ser entregado sólo por 1 integrante. Si se entrega por más de un integrante, se revisará cualquiera de éstos."
   ]
  },
  {
   "cell_type": "markdown",
   "metadata": {
    "heading_collapsed": true,
    "id": "SMUzxXj7XQWi",
    "pycharm": {}
   },
   "source": [
    "# Estructura de la tarea\n",
    "\n",
    "Esta tarea consiste en 3 partes. La primera son preguntas teóricas en las que no necesita escribir código y corresponden a materia vista en clases. La segunda es una sección introductoria para familiarizarse con métodos de clustering. Finalmente la tercera parte es un problema abierto de clasificación donde deberá usar todos los conocimientos que ha adquirido en el curso hasta este momento. Esos conocimientos incluyen exploración de datos, limpieza, entrenamiento de modelos, selección y evaluación."
   ]
  },
  {
   "cell_type": "markdown",
   "metadata": {
    "id": "BUK5vAG9fHXq"
   },
   "source": [
    "# Parte 1: Teoría\n"
   ]
  },
  {
   "cell_type": "markdown",
   "metadata": {
    "id": "c2stuWVkQwg4"
   },
   "source": [
    "\n",
    "\n",
    "**1.** Explique para qué se usan variables de holgura en el problema de optimización de la SVM. "
   ]
  },
  {
   "cell_type": "markdown",
   "metadata": {
    "id": "XmUHE93jQvNp"
   },
   "source": [
    ">Respuesta:"
   ]
  },
  {
   "cell_type": "markdown",
   "metadata": {
    "id": "sn0lGmALQlVT"
   },
   "source": [
    "**2.** John Doe, un consultor en minería de datos, argumenta lo siguiente: lo malo de las SVMs es que para que encuentren límites de decisión no lineales tengo que proyectarlas manualmente a más dimensiones con una función $\\phi(x)$ que tengo que diseñar de manera manual. Esto hace que todo sea mucho más caro computacionalmente pues todas las operaciones las tengo que hacer sobre el espacio transformado. Discuta el argumento de John Doe."
   ]
  },
  {
   "cell_type": "markdown",
   "metadata": {
    "id": "sdt8hUz8Qz5R"
   },
   "source": [
    ">Respuesta:"
   ]
  },
  {
   "cell_type": "markdown",
   "metadata": {
    "id": "YYE74-MqQnfD"
   },
   "source": [
    "\n",
    "\n",
    "**3.** Usando un clasificador Naive Bayes con Laplace Smoothing entrenado con los datos de la tabla de más abajo, clasifique el siguiente ejemplo a la clase Evade: **[Refund= YES, Marital Status = Divorced]**.\n",
    "\n",
    "Hint: Tiene que comparar P(Evade=Yes | datos) vs P(Evade=No|datos). Muestre todos sus cálculos.\n",
    "\n",
    "Refund | Marital Status | Evade\n",
    "--- | --- | ---\n",
    "YES | Single | NO\n",
    "NO | Married | NO\n",
    "NO | Single | NO\n",
    "YES | Married | NO\n",
    "NO | Divorced | YES\n",
    "NO | Married | NO\n",
    "YES | Divorced | NO\n",
    "NO | Single | YES\n",
    "NO | Married | NO\n",
    "NO | Single | YES"
   ]
  },
  {
   "cell_type": "markdown",
   "metadata": {
    "id": "r0wUrzxqRHKp"
   },
   "source": [
    ">Respuesta:"
   ]
  },
  {
   "cell_type": "markdown",
   "metadata": {
    "id": "Ilyrc9pOQo_D"
   },
   "source": [
    "**4.** Explique cómo bisecting k-mean soluciona el problema de la inicialización de centroides de k-means."
   ]
  },
  {
   "cell_type": "markdown",
   "metadata": {
    "id": "UoqOWIh-RJXP"
   },
   "source": [
    ">Respuesta: Bisecting k-mean trata de tomar el cluster más grande del conjunto de datos y divirlo en dos clusters más pequeños hasta producir K clusters. Soluciona el problema de inicializacion de centroides pues realiza varios intentos con distintos centroides aleatorios y toma el que tiene un menor SSE (mejorando así la calidad de este algoritmo)"
   ]
  },
  {
   "cell_type": "markdown",
   "metadata": {
    "id": "1L_jfMRXQqEI"
   },
   "source": [
    "**5.** Explique cómo encontrar outliers en los siguientes métodos de clustering:\n",
    "* K-Means \n",
    "\n",
    "* Clustering Jerarquico Aglomerativo"
   ]
  },
  {
   "cell_type": "markdown",
   "metadata": {
    "id": "VCaOS0kvRM9P"
   },
   "source": [
    ">Respuesta:\n",
    "\n",
    ">K-Means : En general, cuando el algoritmo finaliza pueden existir clusters con muy poca cantidad de datos en comparación a los demas clusters, estos podrian representar outliers los cuales deberian ser eliminados para poder disminuir el SSE.\n",
    "\n",
    ">Clustering Jerarquico Aglomerativo: En general este tipo de clustering "
   ]
  },
  {
   "cell_type": "markdown",
   "metadata": {
    "id": "ZyPaLTrxQsSH"
   },
   "source": [
    "**6.** Describa una ventaja y desventaja de los siguientes métodos de clustering:\n",
    "* K-Means\n",
    "* Clustering Jerarquico Aglomerativo"
   ]
  },
  {
   "cell_type": "markdown",
   "metadata": {
    "id": "MaScQlZ1RRI7"
   },
   "source": [
    ">Respuesta:\n",
    "\n",
    ">1) K-Means: \n",
    "\n",
    ">Ventajas: Es facil de entender y programar en comparación con los demas, se comporta bien con datos que se distribuyen en clusters con formas esfericas\n",
    "\n",
    ">Desventajas: Se comporta mal en clusters de diferente tamaño, densidades y con formas no esfericas, tambien se le debe entregar el numero de clusters que se desea, lo cual con datos desconocidos puede ser dificil de encontrar. Por otro lado no es robusto a outliers.\n",
    "\n",
    ">2) Clustering Jerarquico Aglomerativo:\n",
    "\n",
    ">Ventajas: El numero optimo de clusters se puede obtener a traves del mismo modelos, por un dendrograma.  \n",
    "\n",
    ">Desventajas: Es sensible a cualquier ruido y outliers, tambien le cuesta manejar cluster de distinto tamaño pues puede romper clusters grandes (lo cual no deberia ocurrir)"
   ]
  },
  {
   "cell_type": "markdown",
   "metadata": {
    "id": "xKpPq8w1QtQ3"
   },
   "source": [
    "**7.** En DBSCAN el parametro `eps` es crucial para obtener buenos clusters. Explique una forma de encontar el valor de `eps`."
   ]
  },
  {
   "cell_type": "markdown",
   "metadata": {
    "id": "sRASCByXRT98"
   },
   "source": [
    ">Respuesta: Se analiza la distancia de un punto a su k-ésimo vecino más cercano, para aquellos puntos que pertenecen a un clusters, esta distancia sera pequeña mientras que para puntos que no pertenecen a un clusters, este valor sera alto. Dado lo anterior calculamos este valor de k-dist para todos los puntos y se ordenan de manera creciente, luego se grafica se busca el salto en el grafico y se toma Eps como el valor de k-dist donde ocurre el salto."
   ]
  },
  {
   "cell_type": "markdown",
   "metadata": {
    "id": "zDrw4AiZQuFx"
   },
   "source": [
    "**8.** Evaluar clusters no es una tarea fácil. Qué formas de evaluar clusters conoce? Nombre 3 formas de validación y describa cómo podría determinar si los cluters son buenos o malos usando cada una de las formas nombradas."
   ]
  },
  {
   "cell_type": "markdown",
   "metadata": {
    "id": "MDJCap67RV06"
   },
   "source": [
    ">Respuesta:"
   ]
  },
  {
   "cell_type": "markdown",
   "metadata": {
    "id": "huukwudDfS-f"
   },
   "source": [
    "# Parte 2: Clustering"
   ]
  },
  {
   "cell_type": "markdown",
   "metadata": {
    "id": "jTuloXfOjXak"
   },
   "source": [
    "Para esta parte usaremos el dataset de cantidad de denuncias por 100 mil habitantes por tipo de delito desde el año 2001 al 2016 en Chile (Fuente: http://www.seguridadpublica.gov.cl/estadisticas/tasa-de-denuncias-y-detenciones/delitos-de-mayor-connotacion-social-series-de-datos-2001-2017/).\n",
    "\n",
    "Ejecute el siguiete código para cargar el dataset:"
   ]
  },
  {
   "cell_type": "code",
   "execution_count": 2,
   "metadata": {
    "id": "StooikhfjZLp"
   },
   "outputs": [
    {
     "data": {
      "text/html": [
       "<div>\n",
       "<style scoped>\n",
       "    .dataframe tbody tr th:only-of-type {\n",
       "        vertical-align: middle;\n",
       "    }\n",
       "\n",
       "    .dataframe tbody tr th {\n",
       "        vertical-align: top;\n",
       "    }\n",
       "\n",
       "    .dataframe thead th {\n",
       "        text-align: right;\n",
       "    }\n",
       "</style>\n",
       "<table border=\"1\" class=\"dataframe\">\n",
       "  <thead>\n",
       "    <tr style=\"text-align: right;\">\n",
       "      <th></th>\n",
       "      <th>comuna</th>\n",
       "      <th>anio</th>\n",
       "      <th>homicidios</th>\n",
       "      <th>hurtos</th>\n",
       "      <th>robo_lugar</th>\n",
       "      <th>robo_sorpresa</th>\n",
       "      <th>robo_vehiculo</th>\n",
       "      <th>robo_violencia</th>\n",
       "      <th>violacion</th>\n",
       "    </tr>\n",
       "  </thead>\n",
       "  <tbody>\n",
       "    <tr>\n",
       "      <th>1</th>\n",
       "      <td>Arica</td>\n",
       "      <td>2001</td>\n",
       "      <td>1.6</td>\n",
       "      <td>370.3</td>\n",
       "      <td>NaN</td>\n",
       "      <td>9.5</td>\n",
       "      <td>NaN</td>\n",
       "      <td>107.2</td>\n",
       "      <td>16.4</td>\n",
       "    </tr>\n",
       "    <tr>\n",
       "      <th>2</th>\n",
       "      <td>Arica</td>\n",
       "      <td>2002</td>\n",
       "      <td>1.1</td>\n",
       "      <td>346.7</td>\n",
       "      <td>NaN</td>\n",
       "      <td>34.0</td>\n",
       "      <td>NaN</td>\n",
       "      <td>122.8</td>\n",
       "      <td>14.9</td>\n",
       "    </tr>\n",
       "    <tr>\n",
       "      <th>3</th>\n",
       "      <td>Arica</td>\n",
       "      <td>2003</td>\n",
       "      <td>1.6</td>\n",
       "      <td>460.1</td>\n",
       "      <td>464.4</td>\n",
       "      <td>52.8</td>\n",
       "      <td>172.2</td>\n",
       "      <td>196.2</td>\n",
       "      <td>15.5</td>\n",
       "    </tr>\n",
       "    <tr>\n",
       "      <th>4</th>\n",
       "      <td>Arica</td>\n",
       "      <td>2004</td>\n",
       "      <td>1.1</td>\n",
       "      <td>452.2</td>\n",
       "      <td>395.0</td>\n",
       "      <td>64.1</td>\n",
       "      <td>203.7</td>\n",
       "      <td>143.8</td>\n",
       "      <td>13.9</td>\n",
       "    </tr>\n",
       "    <tr>\n",
       "      <th>5</th>\n",
       "      <td>Arica</td>\n",
       "      <td>2005</td>\n",
       "      <td>0.0</td>\n",
       "      <td>421.8</td>\n",
       "      <td>287.8</td>\n",
       "      <td>58.4</td>\n",
       "      <td>144.2</td>\n",
       "      <td>144.7</td>\n",
       "      <td>7.5</td>\n",
       "    </tr>\n",
       "    <tr>\n",
       "      <th>...</th>\n",
       "      <td>...</td>\n",
       "      <td>...</td>\n",
       "      <td>...</td>\n",
       "      <td>...</td>\n",
       "      <td>...</td>\n",
       "      <td>...</td>\n",
       "      <td>...</td>\n",
       "      <td>...</td>\n",
       "      <td>...</td>\n",
       "    </tr>\n",
       "    <tr>\n",
       "      <th>5532</th>\n",
       "      <td>Peñaflor</td>\n",
       "      <td>2012</td>\n",
       "      <td>1.1</td>\n",
       "      <td>375.0</td>\n",
       "      <td>436.5</td>\n",
       "      <td>78.6</td>\n",
       "      <td>59.3</td>\n",
       "      <td>191.5</td>\n",
       "      <td>14.8</td>\n",
       "    </tr>\n",
       "    <tr>\n",
       "      <th>5533</th>\n",
       "      <td>Peñaflor</td>\n",
       "      <td>2013</td>\n",
       "      <td>0.0</td>\n",
       "      <td>370.0</td>\n",
       "      <td>408.1</td>\n",
       "      <td>107.6</td>\n",
       "      <td>77.4</td>\n",
       "      <td>213.0</td>\n",
       "      <td>14.6</td>\n",
       "    </tr>\n",
       "    <tr>\n",
       "      <th>5534</th>\n",
       "      <td>Peñaflor</td>\n",
       "      <td>2014</td>\n",
       "      <td>1.1</td>\n",
       "      <td>301.3</td>\n",
       "      <td>376.3</td>\n",
       "      <td>112.6</td>\n",
       "      <td>65.1</td>\n",
       "      <td>224.0</td>\n",
       "      <td>5.5</td>\n",
       "    </tr>\n",
       "    <tr>\n",
       "      <th>5535</th>\n",
       "      <td>Peñaflor</td>\n",
       "      <td>2015</td>\n",
       "      <td>0.0</td>\n",
       "      <td>321.6</td>\n",
       "      <td>334.7</td>\n",
       "      <td>111.9</td>\n",
       "      <td>73.9</td>\n",
       "      <td>199.9</td>\n",
       "      <td>7.6</td>\n",
       "    </tr>\n",
       "    <tr>\n",
       "      <th>5536</th>\n",
       "      <td>Peñaflor</td>\n",
       "      <td>2016</td>\n",
       "      <td>2.1</td>\n",
       "      <td>331.6</td>\n",
       "      <td>259.7</td>\n",
       "      <td>99.8</td>\n",
       "      <td>49.4</td>\n",
       "      <td>151.3</td>\n",
       "      <td>11.8</td>\n",
       "    </tr>\n",
       "  </tbody>\n",
       "</table>\n",
       "<p>5536 rows × 9 columns</p>\n",
       "</div>"
      ],
      "text/plain": [
       "        comuna  anio  homicidios  hurtos  robo_lugar  robo_sorpresa  \\\n",
       "1        Arica  2001         1.6   370.3         NaN            9.5   \n",
       "2        Arica  2002         1.1   346.7         NaN           34.0   \n",
       "3        Arica  2003         1.6   460.1       464.4           52.8   \n",
       "4        Arica  2004         1.1   452.2       395.0           64.1   \n",
       "5        Arica  2005         0.0   421.8       287.8           58.4   \n",
       "...        ...   ...         ...     ...         ...            ...   \n",
       "5532  Peñaflor  2012         1.1   375.0       436.5           78.6   \n",
       "5533  Peñaflor  2013         0.0   370.0       408.1          107.6   \n",
       "5534  Peñaflor  2014         1.1   301.3       376.3          112.6   \n",
       "5535  Peñaflor  2015         0.0   321.6       334.7          111.9   \n",
       "5536  Peñaflor  2016         2.1   331.6       259.7           99.8   \n",
       "\n",
       "      robo_vehiculo  robo_violencia  violacion  \n",
       "1               NaN           107.2       16.4  \n",
       "2               NaN           122.8       14.9  \n",
       "3             172.2           196.2       15.5  \n",
       "4             203.7           143.8       13.9  \n",
       "5             144.2           144.7        7.5  \n",
       "...             ...             ...        ...  \n",
       "5532           59.3           191.5       14.8  \n",
       "5533           77.4           213.0       14.6  \n",
       "5534           65.1           224.0        5.5  \n",
       "5535           73.9           199.9        7.6  \n",
       "5536           49.4           151.3       11.8  \n",
       "\n",
       "[5536 rows x 9 columns]"
      ]
     },
     "execution_count": 2,
     "metadata": {},
     "output_type": "execute_result"
    }
   ],
   "source": [
    "import pandas as pd\n",
    "import numpy as np\n",
    "\n",
    "dataframe = pd.read_csv(\"https://users.dcc.uchile.cl/~hsarmien/mineria/datasets/denuncias-2001-2016.txt\", sep=\" \")\n",
    "dataframe"
   ]
  },
  {
   "cell_type": "markdown",
   "metadata": {
    "id": "qurrGwfnjbKP"
   },
   "source": [
    "Utilizaremos sólo los datos del 2006. Ejecute las siguientes líneas de código para filtrar los datos:"
   ]
  },
  {
   "cell_type": "code",
   "execution_count": 3,
   "metadata": {
    "id": "APsAJvb5jc0V"
   },
   "outputs": [
    {
     "data": {
      "text/html": [
       "<div>\n",
       "<style scoped>\n",
       "    .dataframe tbody tr th:only-of-type {\n",
       "        vertical-align: middle;\n",
       "    }\n",
       "\n",
       "    .dataframe tbody tr th {\n",
       "        vertical-align: top;\n",
       "    }\n",
       "\n",
       "    .dataframe thead th {\n",
       "        text-align: right;\n",
       "    }\n",
       "</style>\n",
       "<table border=\"1\" class=\"dataframe\">\n",
       "  <thead>\n",
       "    <tr style=\"text-align: right;\">\n",
       "      <th></th>\n",
       "      <th>homicidios</th>\n",
       "      <th>hurtos</th>\n",
       "      <th>robo_lugar</th>\n",
       "      <th>robo_sorpresa</th>\n",
       "      <th>robo_vehiculo</th>\n",
       "      <th>robo_violencia</th>\n",
       "      <th>violacion</th>\n",
       "    </tr>\n",
       "  </thead>\n",
       "  <tbody>\n",
       "    <tr>\n",
       "      <th>6</th>\n",
       "      <td>1.1</td>\n",
       "      <td>507.5</td>\n",
       "      <td>320.3</td>\n",
       "      <td>60.9</td>\n",
       "      <td>89.0</td>\n",
       "      <td>161.2</td>\n",
       "      <td>8.6</td>\n",
       "    </tr>\n",
       "    <tr>\n",
       "      <th>22</th>\n",
       "      <td>0.0</td>\n",
       "      <td>68.0</td>\n",
       "      <td>0.0</td>\n",
       "      <td>0.0</td>\n",
       "      <td>0.0</td>\n",
       "      <td>0.0</td>\n",
       "      <td>0.0</td>\n",
       "    </tr>\n",
       "    <tr>\n",
       "      <th>38</th>\n",
       "      <td>0.0</td>\n",
       "      <td>834.9</td>\n",
       "      <td>256.9</td>\n",
       "      <td>0.0</td>\n",
       "      <td>0.0</td>\n",
       "      <td>0.0</td>\n",
       "      <td>64.2</td>\n",
       "    </tr>\n",
       "    <tr>\n",
       "      <th>54</th>\n",
       "      <td>0.0</td>\n",
       "      <td>81.2</td>\n",
       "      <td>81.2</td>\n",
       "      <td>0.0</td>\n",
       "      <td>0.0</td>\n",
       "      <td>0.0</td>\n",
       "      <td>0.0</td>\n",
       "    </tr>\n",
       "    <tr>\n",
       "      <th>70</th>\n",
       "      <td>0.6</td>\n",
       "      <td>680.3</td>\n",
       "      <td>327.2</td>\n",
       "      <td>211.5</td>\n",
       "      <td>169.7</td>\n",
       "      <td>287.0</td>\n",
       "      <td>18.2</td>\n",
       "    </tr>\n",
       "    <tr>\n",
       "      <th>...</th>\n",
       "      <td>...</td>\n",
       "      <td>...</td>\n",
       "      <td>...</td>\n",
       "      <td>...</td>\n",
       "      <td>...</td>\n",
       "      <td>...</td>\n",
       "      <td>...</td>\n",
       "    </tr>\n",
       "    <tr>\n",
       "      <th>5462</th>\n",
       "      <td>2.8</td>\n",
       "      <td>359.0</td>\n",
       "      <td>451.3</td>\n",
       "      <td>44.0</td>\n",
       "      <td>27.0</td>\n",
       "      <td>293.8</td>\n",
       "      <td>5.7</td>\n",
       "    </tr>\n",
       "    <tr>\n",
       "      <th>5478</th>\n",
       "      <td>3.4</td>\n",
       "      <td>233.4</td>\n",
       "      <td>375.4</td>\n",
       "      <td>27.1</td>\n",
       "      <td>6.8</td>\n",
       "      <td>60.9</td>\n",
       "      <td>6.8</td>\n",
       "    </tr>\n",
       "    <tr>\n",
       "      <th>5494</th>\n",
       "      <td>3.4</td>\n",
       "      <td>332.7</td>\n",
       "      <td>492.3</td>\n",
       "      <td>23.8</td>\n",
       "      <td>20.4</td>\n",
       "      <td>71.3</td>\n",
       "      <td>3.4</td>\n",
       "    </tr>\n",
       "    <tr>\n",
       "      <th>5510</th>\n",
       "      <td>0.0</td>\n",
       "      <td>263.6</td>\n",
       "      <td>529.3</td>\n",
       "      <td>57.1</td>\n",
       "      <td>22.0</td>\n",
       "      <td>235.0</td>\n",
       "      <td>11.0</td>\n",
       "    </tr>\n",
       "    <tr>\n",
       "      <th>5526</th>\n",
       "      <td>0.0</td>\n",
       "      <td>344.3</td>\n",
       "      <td>558.5</td>\n",
       "      <td>88.0</td>\n",
       "      <td>26.8</td>\n",
       "      <td>232.1</td>\n",
       "      <td>3.8</td>\n",
       "    </tr>\n",
       "  </tbody>\n",
       "</table>\n",
       "<p>346 rows × 7 columns</p>\n",
       "</div>"
      ],
      "text/plain": [
       "      homicidios  hurtos  robo_lugar  robo_sorpresa  robo_vehiculo  \\\n",
       "6            1.1   507.5       320.3           60.9           89.0   \n",
       "22           0.0    68.0         0.0            0.0            0.0   \n",
       "38           0.0   834.9       256.9            0.0            0.0   \n",
       "54           0.0    81.2        81.2            0.0            0.0   \n",
       "70           0.6   680.3       327.2          211.5          169.7   \n",
       "...          ...     ...         ...            ...            ...   \n",
       "5462         2.8   359.0       451.3           44.0           27.0   \n",
       "5478         3.4   233.4       375.4           27.1            6.8   \n",
       "5494         3.4   332.7       492.3           23.8           20.4   \n",
       "5510         0.0   263.6       529.3           57.1           22.0   \n",
       "5526         0.0   344.3       558.5           88.0           26.8   \n",
       "\n",
       "      robo_violencia  violacion  \n",
       "6              161.2        8.6  \n",
       "22               0.0        0.0  \n",
       "38               0.0       64.2  \n",
       "54               0.0        0.0  \n",
       "70             287.0       18.2  \n",
       "...              ...        ...  \n",
       "5462           293.8        5.7  \n",
       "5478            60.9        6.8  \n",
       "5494            71.3        3.4  \n",
       "5510           235.0       11.0  \n",
       "5526           232.1        3.8  \n",
       "\n",
       "[346 rows x 7 columns]"
      ]
     },
     "execution_count": 3,
     "metadata": {},
     "output_type": "execute_result"
    }
   ],
   "source": [
    "X = dataframe[dataframe[\"anio\"] == 2006]\n",
    "X = X.drop(columns=[\"comuna\", \"anio\"])\n",
    "X"
   ]
  },
  {
   "cell_type": "markdown",
   "metadata": {
    "id": "ZH5aquJWjizK"
   },
   "source": [
    "## K-Means\n",
    "\n",
    "**1.** Cuando usamos K-Means debemos definir previamente el número de clusters que queremos generar. Teniendo en cuenta estos datos, implemente un método que nos permita determinar cuántos clusters usar."
   ]
  },
  {
   "cell_type": "code",
   "execution_count": 4,
   "metadata": {
    "id": "tL2mOfTa3Pds"
   },
   "outputs": [
    {
     "data": {
      "image/png": "[encoded data removed]",
      "text/plain": [
       "<Figure size 432x288 with 1 Axes>"
      ]
     },
     "metadata": {
      "needs_background": "light"
     },
     "output_type": "display_data"
    }
   ],
   "source": [
    "from sklearn.cluster import KMeans\n",
    "from sklearn import datasets\n",
    "import matplotlib.pyplot as plt\n",
    "\n",
    "# Respuesta\n",
    "sse = []\n",
    "\n",
    "clusters = list(range(1, 30))\n",
    "for k in clusters:\n",
    "    kmeans = KMeans(n_clusters=k).fit(X)\n",
    "    sse.append(kmeans.inertia_)\n",
    "\n",
    "plt.plot(clusters, sse, marker=\"o\")\n",
    "plt.title(\"Metodo del codo de 1 a 30 clusters\")\n",
    "plt.grid(True)\n",
    "plt.show()"
   ]
  },
  {
   "cell_type": "markdown",
   "metadata": {
    "id": "x1lHWlA7kqgT"
   },
   "source": [
    "**2.** Cuántos clusters propone usar para este dataset? Justifique su elección."
   ]
  },
  {
   "cell_type": "markdown",
   "metadata": {
    "id": "4m-XgeXPkzq3"
   },
   "source": [
    "> Respuesta: Para este caso utilizaremos 15 clusters, pues al ver al ojo, para valores menores como 10, aun se puede disminuir el valor del SSE para lograr mejores resultados, pero despues del 15 la variacion es muy pequeña por lo que no valdria tanto la pena aumentar el valor de clusters, quizas con algun metodo mejor se pueda estimar mejor este numero, pero al visualizar el grafico, creemos que este es un punto de equilibrio para el SSE"
   ]
  },
  {
   "cell_type": "markdown",
   "metadata": {
    "id": "V7ifMHUa9TQo"
   },
   "source": [
    "**3.** Entrene un modelo de K-Means usando el número de clusters que eligió en la pregunta anterior e imprima las asignaciones de clusters para cada dato."
   ]
  },
  {
   "cell_type": "code",
   "execution_count": 5,
   "metadata": {
    "id": "W769Szoj9aSe"
   },
   "outputs": [
    {
     "data": {
      "text/plain": [
       "array([ 1, 13, 12, 13,  9, 14, 13, 13,  1, 13,  9,  3,  1,  3,  1,  9, 13,\n",
       "        0,  6, 12, 12,  0,  1,  6,  6,  3,  3, 13,  3,  9,  9,  3,  3, 12,\n",
       "        6,  1, 13, 14,  3,  3,  3, 13,  3, 13,  9,  6,  1, 13,  1, 14,  9,\n",
       "        0,  9,  3,  3, 13,  9,  3, 14,  3, 10,  1,  1,  3,  1, 13,  9,  7,\n",
       "        7,  2,  2, 14,  9,  1,  0,  6,  3,  3,  9, 14,  1,  1,  9,  3,  6,\n",
       "        3,  6,  9,  1,  1,  6,  3,  3, 12,  3,  6, 12,  6, 12,  0, 13,  6,\n",
       "        3,  3, 13,  0,  3,  6,  6,  6, 13, 13,  3, 13, 12,  9, 12,  6,  6,\n",
       "        6,  6,  6,  6,  6,  3,  6,  3,  6,  9,  3,  0,  6,  3,  3,  3, 13,\n",
       "       12,  0, 12,  6,  0, 13, 12,  3,  3,  4,  1,  3,  3,  1,  1,  3, 14,\n",
       "       13,  3,  6,  1,  6,  6, 12, 12, 12,  3, 12,  9,  6,  6,  1,  1,  1,\n",
       "        3,  3,  3,  3,  6,  3,  1, 13,  9,  6,  3,  6, 13,  3, 13,  3, 13,\n",
       "        3,  3, 13,  3,  6,  3,  6,  3, 13,  3, 13,  6,  0,  6, 13,  3,  3,\n",
       "       13, 12,  6,  6, 13, 12,  1, 13,  0, 10,  6,  3,  3,  3,  0,  3,  0,\n",
       "        6,  6,  6, 13,  3,  3,  6,  6, 12,  0,  0,  3,  6,  0,  6,  3, 12,\n",
       "        6,  3,  9,  6,  6,  9,  6, 13,  1,  3,  3,  6,  6, 12,  0,  0,  3,\n",
       "       13,  3, 13, 13, 12, 13,  6,  1,  3,  1, 13,  6,  3, 13,  6, 13, 13,\n",
       "        3, 12, 13,  6,  3, 13, 12, 12, 13,  6, 13,  6, 13, 13, 13, 13, 13,\n",
       "        6, 12, 13,  6, 13,  5,  4,  3,  8,  8,  4,  8,  4,  4,  8,  8,  8,\n",
       "        9,  0,  1,  8,  8,  8,  3,  4,  8,  8, 11,  3,  8,  8,  4,  8,  8,\n",
       "        4,  8,  9,  8,  3,  1,  1,  1,  3,  8,  1,  1,  1,  1,  3,  1, 13,\n",
       "        3,  1,  1,  1,  1,  1], dtype=int32)"
      ]
     },
     "execution_count": 5,
     "metadata": {},
     "output_type": "execute_result"
    }
   ],
   "source": [
    "# Respuesta\n",
    "kmeans = KMeans(n_clusters=15).fit(X)\n",
    "kmeans.labels_"
   ]
  },
  {
   "cell_type": "markdown",
   "metadata": {
    "id": "_X2V0E-8jnu7"
   },
   "source": [
    "**4.** Al ejecutar el siguiente código varias veces, obtenemos resultados diferentes. Cómo podría evitar los resultados variables de K-means? Presente al menos 2 opciones para lograr esto. Puede implementarlo o describirlo.\n",
    "\n",
    "> Respuesta: K-Means es un algoritmo determinista, por lo que si parte con las mismas condiciones iniciales siempre, este obtendra los mismos resultados, por lo que se le podria asignar una semilla de aleatoridad, ya que los centroides iniciales son aleatorios y de esta manera, siempre que se ejecute el algoritmo, se obtendran los mismos resultados. Esto seria\n",
    "\n",
    "kmeans = KMeans(n_clusters=15, random_state=20).fit(X)\n",
    "\n",
    "> Otra forma seria entregarles los centroides iniciales, de manera que cada vez que se corra el algoritmo, siempre inicie con los mismos centroides y al ser un algoritmo determinista, este entregara el mismo resultado final\n"
   ]
  },
  {
   "cell_type": "markdown",
   "metadata": {
    "id": "TwD2fgUO9uPh"
   },
   "source": [
    "**5.** Ejecute el siguiente código que bajará la dimensionalidad de los datos de 7 a 2. Grafique los datos transformados y pinte los gráficos para tener una representación visual de los clusters."
   ]
  },
  {
   "cell_type": "code",
   "execution_count": 6,
   "metadata": {
    "id": "4HP4MLyF9_UV"
   },
   "outputs": [],
   "source": [
    "from sklearn.decomposition import PCA\n",
    "\n",
    "new_X = PCA(n_components=2, random_state=0).fit_transform(X)"
   ]
  },
  {
   "cell_type": "code",
   "execution_count": 7,
   "metadata": {
    "id": "bkqt8vNP-du5"
   },
   "outputs": [
    {
     "data": {
      "image/png": "[encoded data removed]",
      "text/plain": [
       "<Figure size 432x288 with 1 Axes>"
      ]
     },
     "metadata": {
      "needs_background": "light"
     },
     "output_type": "display_data"
    }
   ],
   "source": [
    "# Respuesta\n",
    "plt.scatter(new_X[:, 0], new_X[:, 1], c=kmeans.labels_)\n",
    "plt.title(\"K-Means\")\n",
    "plt.show()"
   ]
  },
  {
   "cell_type": "markdown",
   "metadata": {
    "id": "aMeMvKgclbpe"
   },
   "source": [
    "## Clustering Jerárquico Aglomerativo"
   ]
  },
  {
   "cell_type": "markdown",
   "metadata": {
    "id": "maJ6HPXjl3_Q"
   },
   "source": [
    "**1.** Usando los datos anteriores, ejecute cada uno de los 4 métodos de clustering jerárquico: complete, single, average y ward, y visualice los dendrogramas formados. Adjunte el código necesario. No necesita generar los 4 dendrogramas en el mismo gráfico, pueden ser distintos."
   ]
  },
  {
   "cell_type": "code",
   "execution_count": 48,
   "metadata": {
    "id": "UgV5XD4_mH9T"
   },
   "outputs": [
    {
     "data": {
      "image/png": "[encoded data removed]",
      "text/plain": [
       "<Figure size 432x288 with 1 Axes>"
      ]
     },
     "metadata": {
      "needs_background": "light"
     },
     "output_type": "display_data"
    },
    {
     "data": {
      "image/png": "[encoded data removed]",
      "text/plain": [
       "<Figure size 432x288 with 1 Axes>"
      ]
     },
     "metadata": {
      "needs_background": "light"
     },
     "output_type": "display_data"
    },
    {
     "data": {
      "image/png": "[encoded data removed]",
      "text/plain": [
       "<Figure size 432x288 with 1 Axes>"
      ]
     },
     "metadata": {
      "needs_background": "light"
     },
     "output_type": "display_data"
    },
    {
     "data": {
      "image/png": "[encoded data removed]",
      "text/plain": [
       "<Figure size 432x288 with 1 Axes>"
      ]
     },
     "metadata": {
      "needs_background": "light"
     },
     "output_type": "display_data"
    }
   ],
   "source": [
    "# Respuesta\n",
    "from scipy.cluster.hierarchy import dendrogram, linkage\n",
    "from sklearn.cluster import AgglomerativeClustering\n",
    "\n",
    "complete = linkage(X, method=\"complete\")\n",
    "single = linkage(X, method=\"single\")\n",
    "average = linkage(X, method=\"average\")\n",
    "ward = linkage(X, method=\"ward\")\n",
    "\n",
    "dendrogram(complete)\n",
    "plt.title(\"Clustering jerárquico: Complete\")\n",
    "plt.show()\n",
    "\n",
    "\n",
    "dendrogram(single)\n",
    "plt.title(\"Clustering jerárquico: Single\")\n",
    "plt.show()\n",
    "\n",
    "dendrogram(average)\n",
    "plt.title(\"Clustering jerárquico: Average\")\n",
    "plt.show()\n",
    "\n",
    "dendrogram(ward)\n",
    "plt.title(\"Clustering jerárquico: Ward\")\n",
    "plt.show()"
   ]
  },
  {
   "cell_type": "markdown",
   "metadata": {
    "id": "My7CjyF18Dgd"
   },
   "source": [
    "**2.** Fijándose en el método `single`, a qué altura recomendaría cortar el árbol?"
   ]
  },
  {
   "cell_type": "markdown",
   "metadata": {
    "id": "VkDbxu1Y8HWr"
   },
   "source": [
    "> Respuesta: Recomendaria cortar el arbol en 750, pues más abajo la informacion se vuelve confusa, mientras que en 750 aun se pueden divisar algunas divisiones de los clusters ymás arriba se volveria poco optimo, pues visualmente se nota que aun se existen una mayor cantidad de clusters"
   ]
  },
  {
   "cell_type": "markdown",
   "metadata": {
    "id": "5sSIrGgfmIGa"
   },
   "source": [
    "**3.** Ahora si miramos el método `ward`, cuántos clusters propone usar? A qué altura se debe cortar el arbol para obtener esa cantidad de clusters?"
   ]
  },
  {
   "cell_type": "markdown",
   "metadata": {
    "id": "FcDfUn6N7vrW"
   },
   "source": [
    "> Respuesta: Usariamos 10 clusters, los cuales se obtienen a la altura 2000 aprox. Esto dado que en esa zona aun se logran visualizar distintos clusters, pues más abajo la zona amarilla se mezcla y no se puede visualizar bien para decir un numero de clusters acordes y más arriba se nota que aun existen mayores divisiones de clustering, por lo que divirlo en un numero más alto no seria lo optimo"
   ]
  },
  {
   "cell_type": "markdown",
   "metadata": {
    "id": "J6YULxJd7wX6"
   },
   "source": [
    "**4.** Implemente el código para asignar clusters a los datos siguiendo lo que usted propuso en la pregunta **2.** y **3.** y liste la asignación de clusters para cada punto del dataset para `single` y `ward`. Cuántos clusters se generan para el método `single` cortando a la altura que propuso en la pregunta **2.**?"
   ]
  },
  {
   "cell_type": "code",
   "execution_count": 49,
   "metadata": {
    "id": "s6OKkjdCmmsr"
   },
   "outputs": [
    {
     "name": "stdout",
     "output_type": "stream",
     "text": [
      "Clusters para single: \n",
      "[0 0 0 0 0 0 0 0 0 0 0 0 0 0 0 0 0 0 0 0 0 0 0 0 0 0 0 0 0 0 0 0 0 0 0 0 0\n",
      " 0 0 0 0 0 0 0 0 0 0 0 0 0 0 0 0 0 0 0 0 0 0 0 0 0 0 0 0 0 0 1 1 4 5 0 0 0\n",
      " 0 0 0 0 0 0 0 0 0 0 0 0 0 0 0 0 0 0 0 0 0 0 0 0 0 0 0 0 0 0 0 0 0 0 0 0 0\n",
      " 0 0 0 0 0 0 0 0 0 0 0 0 0 0 0 0 0 0 0 0 0 0 0 0 0 0 0 0 0 0 0 0 0 0 6 0 0\n",
      " 0 0 0 0 0 0 0 0 0 0 0 0 0 0 0 0 0 0 0 0 0 0 0 0 0 0 0 0 0 0 0 0 0 0 0 0 0\n",
      " 0 0 0 0 0 0 0 0 0 0 0 0 0 0 0 0 0 0 0 0 0 0 0 0 0 0 0 0 0 0 0 0 0 0 0 0 0\n",
      " 0 0 0 0 0 0 0 0 0 0 0 0 0 0 0 0 0 0 0 0 0 0 0 0 0 0 0 0 0 0 0 0 0 0 0 0 0\n",
      " 0 0 0 0 0 0 0 0 0 0 0 0 0 0 0 0 0 0 0 0 0 0 0 0 0 0 0 0 0 0 0 0 0 0 0 3 0\n",
      " 0 0 0 0 0 0 0 0 0 0 0 0 0 0 0 0 0 0 0 0 2 0 0 0 0 0 0 0 0 0 0 0 0 0 0 0 0\n",
      " 0 0 0 0 0 0 0 0 0 0 0 0 0]\n",
      "\n",
      "\n",
      "Clusters para ward: \n",
      "[2 8 6 8 2 2 8 8 2 8 2 3 2 3 2 2 8 7 6 6 2 7 2 3 3 3 8 8 8 2 2 8 3 6 3 3 8\n",
      " 2 3 3 3 8 8 8 2 6 2 8 3 2 2 7 2 8 3 8 2 8 2 8 1 3 2 8 3 8 2 1 1 5 5 2 2 2\n",
      " 7 3 3 3 2 2 2 2 2 3 6 3 6 7 3 2 6 8 3 6 8 3 6 6 6 7 8 3 3 8 8 7 3 3 3 3 8\n",
      " 8 3 8 6 2 2 6 6 3 3 6 3 3 3 6 8 3 2 3 7 6 3 3 3 8 6 7 6 3 7 8 6 3 3 4 2 3\n",
      " 3 3 2 3 2 8 3 3 2 6 6 6 6 2 3 6 2 3 3 3 3 3 8 3 3 3 6 3 3 8 2 3 3 6 8 3 8\n",
      " 3 8 8 3 8 3 6 3 3 3 8 8 8 6 7 6 8 3 3 8 6 6 6 8 6 2 8 7 1 3 8 8 8 7 3 7 6\n",
      " 3 3 8 8 3 6 3 6 7 7 8 6 7 6 3 6 6 3 2 3 6 2 6 8 3 3 8 3 3 2 7 7 3 8 8 8 8\n",
      " 2 8 6 3 8 3 8 3 3 8 3 8 8 8 6 8 6 3 8 6 6 8 6 8 6 8 8 8 8 8 6 6 8 6 8 0 4\n",
      " 3 9 9 4 2 4 4 9 9 9 2 7 2 9 9 9 3 4 9 2 0 3 9 9 4 9 9 4 9 2 9 3 2 2 2 3 9\n",
      " 3 2 3 2 8 2 8 8 2 3 2 2 2]\n"
     ]
    }
   ],
   "source": [
    "# Respuesta\n",
    "\n",
    "# agglomerative para single utilizando una distancia de 500\n",
    "single_arbol = AgglomerativeClustering(n_clusters=None, linkage=\"single\", distance_threshold=500).fit(X)\n",
    "\n",
    "# agglomerative para ward utilizando 10 clusters\n",
    "ward_arbol = AgglomerativeClustering(n_clusters=10, linkage=\"ward\").fit(X)\n",
    "\n",
    "print(\"Clusters para single: \")\n",
    "print(single_arbol.labels_)\n",
    "print(\"\\n\")\n",
    "\n",
    "print(\"Clusters para ward: \")\n",
    "print(ward_arbol.labels_)\n"
   ]
  },
  {
   "cell_type": "markdown",
   "metadata": {
    "id": "o76oGCY6EU66"
   },
   "source": [
    "**5.** Cuántos datos quedan asignados a cada cluster? Agregue el código necesario para objener esta información para los métodos `single` y `ward`."
   ]
  },
  {
   "cell_type": "code",
   "execution_count": 45,
   "metadata": {
    "id": "5rDF5sBPEsJy"
   },
   "outputs": [
    {
     "name": "stdout",
     "output_type": "stream",
     "text": [
      "Elementos de single: \n",
      "0: 339\n",
      "1: 2\n",
      "2: 1\n",
      "3: 1\n",
      "4: 1\n",
      "5: 1\n",
      "6: 1\n",
      "\n",
      "\n",
      "Elementos de ward: \n",
      "0: 2\n",
      "1: 4\n",
      "2: 61\n",
      "3: 99\n",
      "4: 8\n",
      "5: 2\n",
      "6: 54\n",
      "7: 20\n",
      "8: 80\n",
      "9: 16\n"
     ]
    }
   ],
   "source": [
    "# Respuesta\n",
    "def distinct_elements(arr: list) -> dict:\n",
    "    \n",
    "    \"\"\"\n",
    "    Cuenta la cantidad de elementos de un arreglo y los guarda en un diccionario con su respectiva key y la cantidad\n",
    "    \"\"\"\n",
    "    \n",
    "    dic = {}\n",
    "    for element in arr:\n",
    "        element = str(element)\n",
    "        if element in dic:\n",
    "            dic[element] = dic[element] + 1\n",
    "            \n",
    "        else:\n",
    "            dic[element] = 1\n",
    "            \n",
    "    return dic\n",
    "\n",
    "dic_single = distinct_elements(single_arbol.labels_)\n",
    "dic_ward = distinct_elements(ward_arbol.labels_)\n",
    "\n",
    "print(\"Elementos de single: \")\n",
    "\n",
    "for i in sorted (dic_single.keys()) : print(i + \": \" + str(dic_single[i]))\n",
    "print(\"\\n\")\n",
    "print(\"Elementos de ward: \")\n",
    "for i in sorted (dic_ward.keys()) : print(i + \": \" + str(dic_ward[i]))"
   ]
  },
  {
   "cell_type": "markdown",
   "metadata": {
    "id": "ipwD-E76AEXg"
   },
   "source": [
    "**6.** Usando el dataset con dimensiones reducidas generado en la Parte 1, pregunta 5: `new_X`, grafique los datos y pinte los datos con su asignacion de cluster para los métodos `complete` y `ward` para tener una representación visual de los clusters."
   ]
  },
  {
   "cell_type": "code",
   "execution_count": 46,
   "metadata": {
    "id": "gBMTzMuxAe1H"
   },
   "outputs": [
    {
     "data": {
      "image/png": "[encoded data removed]",
      "text/plain": [
       "<Figure size 432x288 with 1 Axes>"
      ]
     },
     "metadata": {
      "needs_background": "light"
     },
     "output_type": "display_data"
    }
   ],
   "source": [
    "# Respuesta\n",
    "plt.scatter(new_X[:, 0], new_X[:, 1], c=single_arbol.labels_)\n",
    "plt.title(\"K-Means\")\n",
    "plt.show()"
   ]
  },
  {
   "cell_type": "code",
   "execution_count": 47,
   "metadata": {},
   "outputs": [
    {
     "data": {
      "image/png": "[encoded data removed]",
      "text/plain": [
       "<Figure size 432x288 with 1 Axes>"
      ]
     },
     "metadata": {
      "needs_background": "light"
     },
     "output_type": "display_data"
    }
   ],
   "source": [
    "# Respuesta\n",
    "plt.scatter(new_X[:, 0], new_X[:, 1], c=ward_arbol.labels_)\n",
    "plt.title(\"K-Means\")\n",
    "plt.show()"
   ]
  },
  {
   "cell_type": "markdown",
   "metadata": {
    "id": "UNVBq6xPfXJd"
   },
   "source": [
    "# Parte 3: Problema Abierto"
   ]
  },
  {
   "cell_type": "markdown",
   "metadata": {
    "id": "-rvQLEcLxzU7"
   },
   "source": [
    "En esta pregunta usted deberá practicar un proceso reducido de minería de datos. Con el conjunto de datos que le daremos a continuación, usted deberá hacer una exploración de datos, aplicar las técnicas correspondientes de pre procesamiento de datos respecto a lo que encuentre y entrenar modelos de clasificación. Finalmente deberá evaluar los modelos que entrenó y justificar la elección de alguno de ellos."
   ]
  },
  {
   "cell_type": "markdown",
   "metadata": {
    "id": "7PfoHIPJ8w3C"
   },
   "source": [
    "Ejecute el siguiente código para cargar los datos que usaremos en esta parte. Los datos se encuentran en el archivo `movies.csv` adjunto en el zip.\n",
    "\n",
    "**Estamos interesados en predecir la variable `imdb_score` a partir de los demas datos.** `imdb_score` es un entero y puede considerarlo como un variable categórica."
   ]
  },
  {
   "cell_type": "code",
   "execution_count": 12,
   "metadata": {
    "id": "dP17B2bp82CA"
   },
   "outputs": [
    {
     "data": {
      "text/html": [
       "<div>\n",
       "<style scoped>\n",
       "    .dataframe tbody tr th:only-of-type {\n",
       "        vertical-align: middle;\n",
       "    }\n",
       "\n",
       "    .dataframe tbody tr th {\n",
       "        vertical-align: top;\n",
       "    }\n",
       "\n",
       "    .dataframe thead th {\n",
       "        text-align: right;\n",
       "    }\n",
       "</style>\n",
       "<table border=\"1\" class=\"dataframe\">\n",
       "  <thead>\n",
       "    <tr style=\"text-align: right;\">\n",
       "      <th></th>\n",
       "      <th>movie_title</th>\n",
       "      <th>imdb_score</th>\n",
       "      <th>title_year</th>\n",
       "      <th>num_voted_users</th>\n",
       "      <th>num_critic_for_reviews</th>\n",
       "      <th>num_user_for_reviews</th>\n",
       "      <th>color</th>\n",
       "      <th>director_name</th>\n",
       "      <th>director_facebook_likes</th>\n",
       "      <th>actor_1_name</th>\n",
       "      <th>...</th>\n",
       "      <th>actor_3_facebook_likes</th>\n",
       "      <th>cast_total_facebook_likes</th>\n",
       "      <th>movie_facebook_likes</th>\n",
       "      <th>duration</th>\n",
       "      <th>gross</th>\n",
       "      <th>language</th>\n",
       "      <th>country</th>\n",
       "      <th>content_rating</th>\n",
       "      <th>budget</th>\n",
       "      <th>aspect_ratio</th>\n",
       "    </tr>\n",
       "  </thead>\n",
       "  <tbody>\n",
       "    <tr>\n",
       "      <th>0</th>\n",
       "      <td>Avatar</td>\n",
       "      <td>8</td>\n",
       "      <td>2009.0</td>\n",
       "      <td>886204</td>\n",
       "      <td>723.0</td>\n",
       "      <td>3054.0</td>\n",
       "      <td>Color</td>\n",
       "      <td>James Cameron</td>\n",
       "      <td>0.0</td>\n",
       "      <td>CCH Pounder</td>\n",
       "      <td>...</td>\n",
       "      <td>855.0</td>\n",
       "      <td>4834</td>\n",
       "      <td>33000</td>\n",
       "      <td>178.0</td>\n",
       "      <td>760505847.0</td>\n",
       "      <td>English</td>\n",
       "      <td>USA</td>\n",
       "      <td>PG-13</td>\n",
       "      <td>237000000.0</td>\n",
       "      <td>1.78</td>\n",
       "    </tr>\n",
       "    <tr>\n",
       "      <th>1</th>\n",
       "      <td>Pirates of the Caribbean: At World's End</td>\n",
       "      <td>7</td>\n",
       "      <td>2007.0</td>\n",
       "      <td>471220</td>\n",
       "      <td>302.0</td>\n",
       "      <td>1238.0</td>\n",
       "      <td>Color</td>\n",
       "      <td>Gore Verbinski</td>\n",
       "      <td>563.0</td>\n",
       "      <td>Johnny Depp</td>\n",
       "      <td>...</td>\n",
       "      <td>1000.0</td>\n",
       "      <td>48350</td>\n",
       "      <td>0</td>\n",
       "      <td>169.0</td>\n",
       "      <td>309404152.0</td>\n",
       "      <td>English</td>\n",
       "      <td>USA</td>\n",
       "      <td>PG-13</td>\n",
       "      <td>300000000.0</td>\n",
       "      <td>2.35</td>\n",
       "    </tr>\n",
       "    <tr>\n",
       "      <th>2</th>\n",
       "      <td>Spectre</td>\n",
       "      <td>7</td>\n",
       "      <td>2015.0</td>\n",
       "      <td>275868</td>\n",
       "      <td>602.0</td>\n",
       "      <td>994.0</td>\n",
       "      <td>Color</td>\n",
       "      <td>Sam Mendes</td>\n",
       "      <td>0.0</td>\n",
       "      <td>Christoph Waltz</td>\n",
       "      <td>...</td>\n",
       "      <td>161.0</td>\n",
       "      <td>11700</td>\n",
       "      <td>85000</td>\n",
       "      <td>148.0</td>\n",
       "      <td>200074175.0</td>\n",
       "      <td>English</td>\n",
       "      <td>UK</td>\n",
       "      <td>PG-13</td>\n",
       "      <td>245000000.0</td>\n",
       "      <td>2.35</td>\n",
       "    </tr>\n",
       "    <tr>\n",
       "      <th>3</th>\n",
       "      <td>The Dark Knight Rises</td>\n",
       "      <td>8</td>\n",
       "      <td>2012.0</td>\n",
       "      <td>1144337</td>\n",
       "      <td>813.0</td>\n",
       "      <td>2701.0</td>\n",
       "      <td>Color</td>\n",
       "      <td>Christopher Nolan</td>\n",
       "      <td>22000.0</td>\n",
       "      <td>Tom Hardy</td>\n",
       "      <td>...</td>\n",
       "      <td>23000.0</td>\n",
       "      <td>106759</td>\n",
       "      <td>164000</td>\n",
       "      <td>164.0</td>\n",
       "      <td>448130642.0</td>\n",
       "      <td>English</td>\n",
       "      <td>USA</td>\n",
       "      <td>PG-13</td>\n",
       "      <td>250000000.0</td>\n",
       "      <td>2.35</td>\n",
       "    </tr>\n",
       "    <tr>\n",
       "      <th>4</th>\n",
       "      <td>Star Wars: Episode VII - The Force Awakens    ...</td>\n",
       "      <td>7</td>\n",
       "      <td>NaN</td>\n",
       "      <td>8</td>\n",
       "      <td>NaN</td>\n",
       "      <td>NaN</td>\n",
       "      <td>NaN</td>\n",
       "      <td>Doug Walker</td>\n",
       "      <td>131.0</td>\n",
       "      <td>Doug Walker</td>\n",
       "      <td>...</td>\n",
       "      <td>NaN</td>\n",
       "      <td>143</td>\n",
       "      <td>0</td>\n",
       "      <td>NaN</td>\n",
       "      <td>NaN</td>\n",
       "      <td>NaN</td>\n",
       "      <td>NaN</td>\n",
       "      <td>NaN</td>\n",
       "      <td>NaN</td>\n",
       "      <td>NaN</td>\n",
       "    </tr>\n",
       "    <tr>\n",
       "      <th>...</th>\n",
       "      <td>...</td>\n",
       "      <td>...</td>\n",
       "      <td>...</td>\n",
       "      <td>...</td>\n",
       "      <td>...</td>\n",
       "      <td>...</td>\n",
       "      <td>...</td>\n",
       "      <td>...</td>\n",
       "      <td>...</td>\n",
       "      <td>...</td>\n",
       "      <td>...</td>\n",
       "      <td>...</td>\n",
       "      <td>...</td>\n",
       "      <td>...</td>\n",
       "      <td>...</td>\n",
       "      <td>...</td>\n",
       "      <td>...</td>\n",
       "      <td>...</td>\n",
       "      <td>...</td>\n",
       "      <td>...</td>\n",
       "      <td>...</td>\n",
       "    </tr>\n",
       "    <tr>\n",
       "      <th>5038</th>\n",
       "      <td>Signed Sealed Delivered</td>\n",
       "      <td>8</td>\n",
       "      <td>2013.0</td>\n",
       "      <td>629</td>\n",
       "      <td>1.0</td>\n",
       "      <td>6.0</td>\n",
       "      <td>Color</td>\n",
       "      <td>Scott Smith</td>\n",
       "      <td>2.0</td>\n",
       "      <td>Eric Mabius</td>\n",
       "      <td>...</td>\n",
       "      <td>318.0</td>\n",
       "      <td>2283</td>\n",
       "      <td>84</td>\n",
       "      <td>87.0</td>\n",
       "      <td>NaN</td>\n",
       "      <td>English</td>\n",
       "      <td>Canada</td>\n",
       "      <td>NaN</td>\n",
       "      <td>NaN</td>\n",
       "      <td>NaN</td>\n",
       "    </tr>\n",
       "    <tr>\n",
       "      <th>5039</th>\n",
       "      <td>The Following</td>\n",
       "      <td>8</td>\n",
       "      <td>NaN</td>\n",
       "      <td>73839</td>\n",
       "      <td>43.0</td>\n",
       "      <td>359.0</td>\n",
       "      <td>Color</td>\n",
       "      <td>NaN</td>\n",
       "      <td>NaN</td>\n",
       "      <td>Natalie Zea</td>\n",
       "      <td>...</td>\n",
       "      <td>319.0</td>\n",
       "      <td>1753</td>\n",
       "      <td>32000</td>\n",
       "      <td>43.0</td>\n",
       "      <td>NaN</td>\n",
       "      <td>English</td>\n",
       "      <td>USA</td>\n",
       "      <td>TV-14</td>\n",
       "      <td>NaN</td>\n",
       "      <td>16.00</td>\n",
       "    </tr>\n",
       "    <tr>\n",
       "      <th>5040</th>\n",
       "      <td>A Plague So Pleasant</td>\n",
       "      <td>6</td>\n",
       "      <td>2013.0</td>\n",
       "      <td>38</td>\n",
       "      <td>13.0</td>\n",
       "      <td>3.0</td>\n",
       "      <td>Color</td>\n",
       "      <td>Benjamin Roberds</td>\n",
       "      <td>0.0</td>\n",
       "      <td>Eva Boehnke</td>\n",
       "      <td>...</td>\n",
       "      <td>0.0</td>\n",
       "      <td>0</td>\n",
       "      <td>16</td>\n",
       "      <td>76.0</td>\n",
       "      <td>NaN</td>\n",
       "      <td>English</td>\n",
       "      <td>USA</td>\n",
       "      <td>NaN</td>\n",
       "      <td>1400.0</td>\n",
       "      <td>NaN</td>\n",
       "    </tr>\n",
       "    <tr>\n",
       "      <th>5041</th>\n",
       "      <td>Shanghai Calling</td>\n",
       "      <td>6</td>\n",
       "      <td>2012.0</td>\n",
       "      <td>1255</td>\n",
       "      <td>14.0</td>\n",
       "      <td>9.0</td>\n",
       "      <td>Color</td>\n",
       "      <td>Daniel Hsia</td>\n",
       "      <td>0.0</td>\n",
       "      <td>Alan Ruck</td>\n",
       "      <td>...</td>\n",
       "      <td>489.0</td>\n",
       "      <td>2386</td>\n",
       "      <td>660</td>\n",
       "      <td>100.0</td>\n",
       "      <td>10443.0</td>\n",
       "      <td>English</td>\n",
       "      <td>USA</td>\n",
       "      <td>PG-13</td>\n",
       "      <td>NaN</td>\n",
       "      <td>2.35</td>\n",
       "    </tr>\n",
       "    <tr>\n",
       "      <th>5042</th>\n",
       "      <td>My Date with Drew</td>\n",
       "      <td>7</td>\n",
       "      <td>2004.0</td>\n",
       "      <td>4285</td>\n",
       "      <td>43.0</td>\n",
       "      <td>84.0</td>\n",
       "      <td>Color</td>\n",
       "      <td>Jon Gunn</td>\n",
       "      <td>16.0</td>\n",
       "      <td>John August</td>\n",
       "      <td>...</td>\n",
       "      <td>16.0</td>\n",
       "      <td>163</td>\n",
       "      <td>456</td>\n",
       "      <td>90.0</td>\n",
       "      <td>85222.0</td>\n",
       "      <td>English</td>\n",
       "      <td>USA</td>\n",
       "      <td>PG</td>\n",
       "      <td>1100.0</td>\n",
       "      <td>1.85</td>\n",
       "    </tr>\n",
       "  </tbody>\n",
       "</table>\n",
       "<p>5043 rows × 24 columns</p>\n",
       "</div>"
      ],
      "text/plain": [
       "                                            movie_title  imdb_score  \\\n",
       "0                                               Avatar            8   \n",
       "1             Pirates of the Caribbean: At World's End            7   \n",
       "2                                              Spectre            7   \n",
       "3                                The Dark Knight Rises            8   \n",
       "4     Star Wars: Episode VII - The Force Awakens    ...           7   \n",
       "...                                                 ...         ...   \n",
       "5038                           Signed Sealed Delivered            8   \n",
       "5039                         The Following                        8   \n",
       "5040                              A Plague So Pleasant            6   \n",
       "5041                                  Shanghai Calling            6   \n",
       "5042                                 My Date with Drew            7   \n",
       "\n",
       "      title_year  num_voted_users  num_critic_for_reviews  \\\n",
       "0         2009.0           886204                   723.0   \n",
       "1         2007.0           471220                   302.0   \n",
       "2         2015.0           275868                   602.0   \n",
       "3         2012.0          1144337                   813.0   \n",
       "4            NaN                8                     NaN   \n",
       "...          ...              ...                     ...   \n",
       "5038      2013.0              629                     1.0   \n",
       "5039         NaN            73839                    43.0   \n",
       "5040      2013.0               38                    13.0   \n",
       "5041      2012.0             1255                    14.0   \n",
       "5042      2004.0             4285                    43.0   \n",
       "\n",
       "      num_user_for_reviews  color      director_name  director_facebook_likes  \\\n",
       "0                   3054.0  Color      James Cameron                      0.0   \n",
       "1                   1238.0  Color     Gore Verbinski                    563.0   \n",
       "2                    994.0  Color         Sam Mendes                      0.0   \n",
       "3                   2701.0  Color  Christopher Nolan                  22000.0   \n",
       "4                      NaN    NaN        Doug Walker                    131.0   \n",
       "...                    ...    ...                ...                      ...   \n",
       "5038                   6.0  Color        Scott Smith                      2.0   \n",
       "5039                 359.0  Color                NaN                      NaN   \n",
       "5040                   3.0  Color   Benjamin Roberds                      0.0   \n",
       "5041                   9.0  Color        Daniel Hsia                      0.0   \n",
       "5042                  84.0  Color           Jon Gunn                     16.0   \n",
       "\n",
       "         actor_1_name  ...  actor_3_facebook_likes cast_total_facebook_likes  \\\n",
       "0         CCH Pounder  ...                   855.0                      4834   \n",
       "1         Johnny Depp  ...                  1000.0                     48350   \n",
       "2     Christoph Waltz  ...                   161.0                     11700   \n",
       "3           Tom Hardy  ...                 23000.0                    106759   \n",
       "4         Doug Walker  ...                     NaN                       143   \n",
       "...               ...  ...                     ...                       ...   \n",
       "5038      Eric Mabius  ...                   318.0                      2283   \n",
       "5039      Natalie Zea  ...                   319.0                      1753   \n",
       "5040      Eva Boehnke  ...                     0.0                         0   \n",
       "5041        Alan Ruck  ...                   489.0                      2386   \n",
       "5042      John August  ...                    16.0                       163   \n",
       "\n",
       "      movie_facebook_likes duration        gross  language  country  \\\n",
       "0                    33000    178.0  760505847.0   English      USA   \n",
       "1                        0    169.0  309404152.0   English      USA   \n",
       "2                    85000    148.0  200074175.0   English       UK   \n",
       "3                   164000    164.0  448130642.0   English      USA   \n",
       "4                        0      NaN          NaN       NaN      NaN   \n",
       "...                    ...      ...          ...       ...      ...   \n",
       "5038                    84     87.0          NaN   English   Canada   \n",
       "5039                 32000     43.0          NaN   English      USA   \n",
       "5040                    16     76.0          NaN   English      USA   \n",
       "5041                   660    100.0      10443.0   English      USA   \n",
       "5042                   456     90.0      85222.0   English      USA   \n",
       "\n",
       "      content_rating       budget aspect_ratio  \n",
       "0              PG-13  237000000.0         1.78  \n",
       "1              PG-13  300000000.0         2.35  \n",
       "2              PG-13  245000000.0         2.35  \n",
       "3              PG-13  250000000.0         2.35  \n",
       "4                NaN          NaN          NaN  \n",
       "...              ...          ...          ...  \n",
       "5038             NaN          NaN          NaN  \n",
       "5039           TV-14          NaN        16.00  \n",
       "5040             NaN       1400.0          NaN  \n",
       "5041           PG-13          NaN         2.35  \n",
       "5042              PG       1100.0         1.85  \n",
       "\n",
       "[5043 rows x 24 columns]"
      ]
     },
     "execution_count": 12,
     "metadata": {},
     "output_type": "execute_result"
    }
   ],
   "source": [
    "# ponga aqui donde tiene el archivo\n",
    "data_file = \"movies.csv\"\n",
    "\n",
    "data = pd.read_csv(data_file)\n",
    "data"
   ]
  },
  {
   "cell_type": "markdown",
   "metadata": {
    "id": "mE4PFXhY0Pdt"
   },
   "source": [
    "## Exploración de datos\n",
    "\n",
    "**1.** Explore el dataset y de una descripción del dataset. Algunos puntos que puede tocar son el número de datos en el dataset, número de features, tipos de cada features y rangos, datos erroneos, etc.\n",
    "Aplique el preprocesamiento necesario tal que los datos queden usables para los modelos de clasificación.\n",
    "\n",
    "Nota: Como la parte de exploración puede ser tan compleja y detallada como uno quiera, tendremos una pauta con lo mínimo que uno debería hacer en un dataset. Consideraremos análisis más detallados como un bonus a esta u otras tareas."
   ]
  },
  {
   "cell_type": "markdown",
   "metadata": {
    "id": "kgaSDThNM_Pm"
   },
   "source": [
    "Como una guía para encaminar la exploración, puede considerar los siguientes hints.\n",
    "\n",
    "**Hints generales:**\n",
    "* Los datos no vienen limpios y tienen varios problemas que usted sabe como solucionar.\n",
    "* Qué tipos de datos tiene cada columna?\n",
    "* Cómo se relacionan las features?\n",
    "\n",
    "**Hints para bonus:** (no todos los hints corresponden a un puro análisis o procesamiento que pueden hacer sobre los datos, 2 hints pueden corresponden a la misma recomendación)\n",
    "* Hay features (categóricas) que no aportan información, qué análisis le serviría para ver cómo impactan en el score?\n",
    "* Revise los nombres de actores y directores.\n",
    "* Algunas features tienen outliers, encuéntrelos y limpie el dataset. Recuerde el boxplot.\n",
    "* Qué pasa si hay features extremadamente relacionadas entre sí?\n",
    "* Temporalmente, son todos los datos representativos al escenario actual?\n",
    "* Considere el siguiente código y vea si le sirve para algún tipo de análisis:\n",
    "```python\n",
    "feature = \"...\"\n",
    "# esto cuenta las ocurrencias de cada valor en 'feature'\n",
    "count = data[feature].value_counts()\n",
    "# esto calcula el score promedio por cada valor del 'feature'\n",
    "avg_score = data.groupby(feature)[\"imdb_score\"].mean()\n",
    "# los juntamos en un mismo dataframe\n",
    "count.to_frame().join(avg_score)\n",
    "```\n"
   ]
  },
  {
   "cell_type": "markdown",
   "metadata": {
    "id": "-G_cNoQGHq29"
   },
   "source": [
    "### Respuesta (no intente hacerlo todo en la misma celda)"
   ]
  },
  {
   "cell_type": "code",
   "execution_count": null,
   "metadata": {
    "id": "rCJUIA4DQg4k"
   },
   "outputs": [],
   "source": []
  },
  {
   "cell_type": "markdown",
   "metadata": {
    "id": "EiLtCD-D0RwP"
   },
   "source": [
    "## Entrenamiento y Evaluación\n",
    "\n",
    "**2.** Escoja 2 modelos que hayan visto dentro del curso y entrénelos sobre los datos trabajados en la parte anterior. Recuerde aplicar buenas prácticas de entrenamiento vistas en clases y aplicadas en la tarea anterior. Evalúe los modelos en base a métricas vistas en el curso. Puede hacer gráficos o generar tablas para analizar y comparar los modelos."
   ]
  },
  {
   "cell_type": "code",
   "execution_count": 13,
   "metadata": {
    "id": "BAPOfuGq7IKT"
   },
   "outputs": [],
   "source": [
    "# Respuesta\n"
   ]
  },
  {
   "cell_type": "markdown",
   "metadata": {
    "id": "iwH4mwO26Opj"
   },
   "source": [
    "## Conclusiones\n",
    "\n",
    "**3.** Si este fuera un estudio encargado a usted por alguna empresa o cliente, basándose en los análisis que hizo anteriormente, qué conclusiones reportaría? Qué modelo propondría que fuera implementado en el producto del cliente? Por qué?"
   ]
  },
  {
   "cell_type": "markdown",
   "metadata": {
    "id": "m8bxqBlp9JCl"
   },
   "source": [
    ">Respuesta:"
   ]
  }
 ],
 "metadata": {
  "anaconda-cloud": {},
  "colab": {
   "collapsed_sections": [],
   "name": "Tarea 3.ipynb",
   "provenance": []
  },
  "hide_input": false,
  "kernelspec": {
   "display_name": "Python 3",
   "language": "python",
   "name": "python3"
  },
  "language_info": {
   "codemirror_mode": {
    "name": "ipython",
    "version": 3
   },
   "file_extension": ".py",
   "mimetype": "text/x-python",
   "name": "python",
   "nbconvert_exporter": "python",
   "pygments_lexer": "ipython3",
   "version": "3.8.5"
  },
  "toc": {
   "base_numbering": 1,
   "nav_menu": {},
   "number_sections": true,
   "sideBar": true,
   "skip_h1_title": false,
   "title_cell": "Table of Contents",
   "title_sidebar": "Contents",
   "toc_cell": false,
   "toc_position": {},
   "toc_section_display": true,
   "toc_window_display": false
  },
  "varInspector": {
   "cols": {
    "lenName": 16,
    "lenType": 16,
    "lenVar": 40
   },
   "kernels_config": {
    "python": {
     "delete_cmd_postfix": "",
     "delete_cmd_prefix": "del ",
     "library": "var_list.py",
     "varRefreshCmd": "print(var_dic_list())"
    },
    "r": {
     "delete_cmd_postfix": ") ",
     "delete_cmd_prefix": "rm(",
     "library": "var_list.r",
     "varRefreshCmd": "cat(var_dic_list()) "
    }
   },
   "types_to_exclude": [
    "module",
    "function",
    "builtin_function_or_method",
    "instance",
    "_Feature"
   ],
   "window_display": false
  }
 },
 "nbformat": 4,
 "nbformat_minor": 4
}
